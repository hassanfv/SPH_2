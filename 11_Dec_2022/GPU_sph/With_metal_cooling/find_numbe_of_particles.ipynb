{
 "cells": [
  {
   "cell_type": "code",
   "execution_count": 1,
   "id": "28fbb31b",
   "metadata": {},
   "outputs": [],
   "source": [
    "import numpy as np"
   ]
  },
  {
   "cell_type": "code",
   "execution_count": 49,
   "id": "349ed4a1",
   "metadata": {},
   "outputs": [],
   "source": [
    "Rgas = 8.3143e7 # erg.K^-1.mol^-1\n",
    "M_sun = 1.98992e+33 # gram\n",
    "G = 6.67259e-8 #  cm3 g-1 s-2\n",
    "mu = 1.22"
   ]
  },
  {
   "cell_type": "code",
   "execution_count": 54,
   "id": "4ec88cba",
   "metadata": {},
   "outputs": [],
   "source": [
    "Mcld = 54487.584 * M_sun\n",
    "nH = 1e2\n",
    "rho = nH * 1.6726e-24  # g/cm^3\n",
    "T = 50. #K"
   ]
  },
  {
   "cell_type": "code",
   "execution_count": 55,
   "id": "125fc7ad",
   "metadata": {},
   "outputs": [
    {
     "name": "stdout",
     "output_type": "stream",
     "text": [
      "Jeans mass = 1.7233829756998683e+36 g\n"
     ]
    }
   ],
   "source": [
    "M_J = (5.*Rgas*T/2./G/mu)**(3./2.) * (4.*np.pi*rho/3.)**(-1./2.)\n",
    "print(f'Jeans mass = {M_J} g')"
   ]
  },
  {
   "cell_type": "markdown",
   "id": "cc1d48e5",
   "metadata": {},
   "source": [
    "### Note: In the simulation, `mSPH` should be smaller than or equal `m_resolution`."
   ]
  },
  {
   "cell_type": "code",
   "execution_count": 56,
   "id": "00958f1d",
   "metadata": {},
   "outputs": [
    {
     "name": "stdout",
     "output_type": "stream",
     "text": [
      "m_resolution = 1.346E+34 g\n",
      "m_resolution = 6.766 Msun\n"
     ]
    }
   ],
   "source": [
    "Nngb = 64\n",
    "\n",
    "m_resolution = M_J / (2. * Nngb)\n",
    "\n",
    "print(f'm_resolution = {m_resolution:.3E} g')\n",
    "print(f'm_resolution = {m_resolution/M_sun:.3f} Msun')"
   ]
  },
  {
   "cell_type": "code",
   "execution_count": 57,
   "id": "7eb5c9a9",
   "metadata": {},
   "outputs": [
    {
     "data": {
      "text/plain": [
       "8053.067506938643"
      ]
     },
     "execution_count": 57,
     "metadata": {},
     "output_type": "execute_result"
    }
   ],
   "source": [
    "Npart = Mcld/m_resolution\n",
    "Npart"
   ]
  },
  {
   "cell_type": "code",
   "execution_count": null,
   "id": "28d17041",
   "metadata": {},
   "outputs": [],
   "source": []
  },
  {
   "cell_type": "code",
   "execution_count": null,
   "id": "4ac1c743",
   "metadata": {},
   "outputs": [],
   "source": []
  }
 ],
 "metadata": {
  "kernelspec": {
   "display_name": "Python 3 (ipykernel)",
   "language": "python",
   "name": "python3"
  },
  "language_info": {
   "codemirror_mode": {
    "name": "ipython",
    "version": 3
   },
   "file_extension": ".py",
   "mimetype": "text/x-python",
   "name": "python",
   "nbconvert_exporter": "python",
   "pygments_lexer": "ipython3",
   "version": "3.9.7"
  }
 },
 "nbformat": 4,
 "nbformat_minor": 5
}
