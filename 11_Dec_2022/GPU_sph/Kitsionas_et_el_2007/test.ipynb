{
 "cells": [
  {
   "cell_type": "code",
   "execution_count": 1,
   "id": "36eaa6b2",
   "metadata": {},
   "outputs": [],
   "source": [
    "import numpy as np"
   ]
  },
  {
   "cell_type": "code",
   "execution_count": null,
   "id": "0b4e33da",
   "metadata": {},
   "outputs": [],
   "source": []
  },
  {
   "cell_type": "code",
   "execution_count": 24,
   "id": "58ddbda9",
   "metadata": {},
   "outputs": [
    {
     "name": "stdout",
     "output_type": "stream",
     "text": [
      "4.746163443062937e-10\n",
      "1.225000332516113e-09\n",
      "7.461623572960364e-11\n",
      "\n",
      "2.581032758799303\n"
     ]
    }
   ],
   "source": [
    "c_0 = 0.35e5\n",
    "c_s = 0.20e5\n",
    "rho_0 = 2.72e-20\n",
    "rho_1 = 5.0e-14\n",
    "\n",
    "rho = 1e-18\n",
    "\n",
    "Pk = rho * ((c_0*c_0 - c_s*c_s) * (rho/rho_0)**(-2./3.) + c_s*c_s) * (1. + (rho/rho_1)**(4./3.))**0.5\n",
    "\n",
    "Pk_2 = rho * c_0*c_0 * (1. + (rho/rho_1)**(4./3.))**0.5\n",
    "\n",
    "Pk_3 = rho * ((c_0*c_0 - c_s*c_s) * (rho/rho_0)**(-2./3.)) * (1. + (rho/rho_1)**(4./3.))**0.5\n",
    "\n",
    "print(Pk)\n",
    "print(Pk_2)\n",
    "print(Pk_3)\n",
    "print()\n",
    "\n",
    "print(Pk_2/Pk)"
   ]
  },
  {
   "cell_type": "code",
   "execution_count": 25,
   "id": "24f5d91e",
   "metadata": {},
   "outputs": [
    {
     "data": {
      "text/plain": [
       "1.225902587717167e-09"
      ]
     },
     "execution_count": 25,
     "metadata": {},
     "output_type": "execute_result"
    }
   ],
   "source": [
    "c_iso = c_0\n",
    "rho_crit = 5.0e-14\n",
    "\n",
    "Pa = rho * c_iso*c_iso * (1.0 + (rho/rho_crit)**(2./3.))\n",
    "\n",
    "Pa"
   ]
  },
  {
   "cell_type": "code",
   "execution_count": null,
   "id": "d5f36066",
   "metadata": {},
   "outputs": [],
   "source": []
  },
  {
   "cell_type": "code",
   "execution_count": null,
   "id": "92abdf09",
   "metadata": {},
   "outputs": [],
   "source": []
  }
 ],
 "metadata": {
  "kernelspec": {
   "display_name": "Python 3 (ipykernel)",
   "language": "python",
   "name": "python3"
  },
  "language_info": {
   "codemirror_mode": {
    "name": "ipython",
    "version": 3
   },
   "file_extension": ".py",
   "mimetype": "text/x-python",
   "name": "python",
   "nbconvert_exporter": "python",
   "pygments_lexer": "ipython3",
   "version": "3.9.7"
  }
 },
 "nbformat": 4,
 "nbformat_minor": 5
}
