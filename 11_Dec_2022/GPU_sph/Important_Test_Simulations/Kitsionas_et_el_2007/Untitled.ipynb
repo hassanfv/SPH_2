{
 "cells": [
  {
   "cell_type": "code",
   "execution_count": 1,
   "id": "6e14df94",
   "metadata": {},
   "outputs": [],
   "source": [
    "import numpy as np"
   ]
  },
  {
   "cell_type": "code",
   "execution_count": 4,
   "id": "8e4e4ca0",
   "metadata": {},
   "outputs": [],
   "source": [
    "UnitRadius_in_pc = 0.225\n",
    "\n",
    "\n",
    "M_sun = 1.98992e+33 # gram\n",
    "grav_const_in_cgs = 6.67259e-8 #  cm3 g-1 s-2\n",
    "\n",
    "Mcld_in_g = 10.0 * M_sun\n",
    "\n",
    "UnitRadius_in_cm = 3.086e18 * UnitRadius_in_pc\n",
    "\n",
    "UnitMass_in_g = Mcld_in_g\n",
    "UnitDensity_in_cgs = UnitMass_in_g / UnitRadius_in_cm**3\n",
    "Unit_u_in_cgs = grav_const_in_cgs * UnitMass_in_g / UnitRadius_in_cm\n",
    "Unit_P_in_cgs = UnitDensity_in_cgs * Unit_u_in_cgs\n",
    "unitVelocity = (grav_const_in_cgs * UnitMass_in_g / UnitRadius_in_cm)**0.5"
   ]
  },
  {
   "cell_type": "code",
   "execution_count": 5,
   "id": "4d86178d",
   "metadata": {},
   "outputs": [
    {
     "data": {
      "text/plain": [
       "5.944294223501143e-20"
      ]
     },
     "execution_count": 5,
     "metadata": {},
     "output_type": "execute_result"
    }
   ],
   "source": [
    "UnitDensity_in_cgs"
   ]
  },
  {
   "cell_type": "code",
   "execution_count": 25,
   "id": "c00d6f80",
   "metadata": {},
   "outputs": [],
   "source": [
    "Npart = 100000\n",
    "mSPH = 1.0/Npart\n",
    "\n",
    "expected_rho_in_cgs = 1e-15\n",
    "\n",
    "expected_rho_in_code_unit = expected_rho_in_cgs / UnitDensity_in_cgs\n",
    "\n",
    "eps = (3.*20.*mSPH/4.0/np.pi/expected_rho_in_code_unit)**(1./3.)"
   ]
  },
  {
   "cell_type": "code",
   "execution_count": 26,
   "id": "cf1d654e",
   "metadata": {},
   "outputs": [
    {
     "data": {
      "text/plain": [
       "0.0014158390769111286"
      ]
     },
     "execution_count": 26,
     "metadata": {},
     "output_type": "execute_result"
    }
   ],
   "source": [
    "eps"
   ]
  },
  {
   "cell_type": "code",
   "execution_count": null,
   "id": "43cdede8",
   "metadata": {},
   "outputs": [],
   "source": []
  },
  {
   "cell_type": "code",
   "execution_count": null,
   "id": "19691dec",
   "metadata": {},
   "outputs": [],
   "source": []
  }
 ],
 "metadata": {
  "kernelspec": {
   "display_name": "Python 3 (ipykernel)",
   "language": "python",
   "name": "python3"
  },
  "language_info": {
   "codemirror_mode": {
    "name": "ipython",
    "version": 3
   },
   "file_extension": ".py",
   "mimetype": "text/x-python",
   "name": "python",
   "nbconvert_exporter": "python",
   "pygments_lexer": "ipython3",
   "version": "3.9.7"
  }
 },
 "nbformat": 4,
 "nbformat_minor": 5
}
