{
 "cells": [
  {
   "cell_type": "code",
   "execution_count": 19,
   "id": "7688bd76",
   "metadata": {},
   "outputs": [],
   "source": [
    "import numpy as np\n",
    "import matplotlib.pyplot as plt\n",
    "import glob\n",
    "import pickle\n",
    "import pandas as pd"
   ]
  },
  {
   "cell_type": "code",
   "execution_count": 20,
   "id": "d0209755",
   "metadata": {},
   "outputs": [
    {
     "name": "stdout",
     "output_type": "stream",
     "text": [
      "UnitDensity_in_cgs = 2.56E-18 g/cm^3\n",
      "unitVelocity_in_cm_per_s = 37993.6 cm/s\n",
      "unitTime_in_kyr =  76.73144407493204\n"
     ]
    }
   ],
   "source": [
    "M_sun = 1.98992e+33 # gram\n",
    "UnitMass_in_g = 1.0 * M_sun       # !!!!!!!!!!!!!!!!!!!!!!!!! CHANGE !!!!!!!!!!!!!!!!!\n",
    "\n",
    "grav_const_in_cgs = G = 6.6738e-8\n",
    "rgas = 9.2e16                                     # The initial radius of the cloud in cm\n",
    "rho0 = 6.02e-19                                   # The initial average density\n",
    "tff = np.sqrt(3*np.pi/(32*G*rho0))                # The free-fall time = 3.4e4 yr\n",
    "unitLength_in_cm = rgas\n",
    "unitTime_in_s = (unitLength_in_cm**3/grav_const_in_cgs/UnitMass_in_g)**0.5\n",
    "unitTime_in_kyr = unitTime_in_s/3600/24/365.25/1000\n",
    "unitLength_in_cm = rgas                           # Scaling distance to the initial cloud radius\n",
    "\n",
    "UnitDensity_in_cgs = UnitMass_in_g / unitLength_in_cm**3\n",
    "\n",
    "print(f'UnitDensity_in_cgs = {UnitDensity_in_cgs:.2E} g/cm^3')\n",
    "\n",
    "\n",
    "unitVelocity_in_cm_per_s = unitLength_in_cm / unitTime_in_s          # The internal velocity unit\n",
    "print(f'unitVelocity_in_cm_per_s = {round(unitVelocity_in_cm_per_s, 2)} cm/s')\n",
    "print('unitTime_in_kyr = ', unitTime_in_kyr)"
   ]
  },
  {
   "cell_type": "code",
   "execution_count": 21,
   "id": "b1f0b668",
   "metadata": {},
   "outputs": [
    {
     "name": "stdout",
     "output_type": "stream",
     "text": [
      "Time in code unit = 1.221737\n",
      "Time in kyrs = 93.746\n"
     ]
    }
   ],
   "source": [
    "j = 480 #589 #480\n",
    "\n",
    "filz = np.sort(glob.glob('/mnt/Linux_Shared_Folder_2022/GPU_sph/Commercon/200k_eps_0.001/*.csv'))\n",
    "\n",
    "t = float(filz[j].split('/')[-1][2:-4])\n",
    "print(f'Time in code unit = {t}')\n",
    "print(f'Time in kyrs = {t*unitTime_in_kyr:.3f}')"
   ]
  },
  {
   "cell_type": "code",
   "execution_count": 22,
   "id": "c10317d5",
   "metadata": {},
   "outputs": [
    {
     "data": {
      "text/plain": [
       "((200000, 3), (200000, 3))"
      ]
     },
     "execution_count": 22,
     "metadata": {},
     "output_type": "execute_result"
    }
   ],
   "source": [
    "df = pd.read_csv(filz[j])\n",
    "\n",
    "x = df['x'].values\n",
    "y = df['y'].values\n",
    "z = df['z'].values\n",
    "\n",
    "vx = df['vx'].values\n",
    "vy = df['vy'].values\n",
    "vz = df['vz'].values\n",
    "\n",
    "v = np.vstack((vx, vy, vz)).T\n",
    "\n",
    "h = df['h'].values\n",
    "\n",
    "rho = df['rho'].values\n",
    "\n",
    "r = np.vstack((x, y, z)).T\n",
    "\n",
    "r.shape, v.shape"
   ]
  },
  {
   "cell_type": "markdown",
   "id": "25900233",
   "metadata": {},
   "source": [
    "## Selecting particles in a thin shell parallel to the x-y plane"
   ]
  },
  {
   "cell_type": "code",
   "execution_count": 23,
   "id": "a9eb4fdd",
   "metadata": {},
   "outputs": [
    {
     "name": "stdout",
     "output_type": "stream",
     "text": [
      "69699\n"
     ]
    }
   ],
   "source": [
    "delta = 0.1\n",
    "\n",
    "nz = np.where((z >= -delta) & (z <= delta))[0]\n",
    "print(len(nz))\n",
    "\n",
    "rx = x[nz]\n",
    "ry = y[nz]\n",
    "rz = z[nz]\n",
    "\n",
    "vt = v[nz]"
   ]
  },
  {
   "cell_type": "code",
   "execution_count": 24,
   "id": "c6a69eac",
   "metadata": {},
   "outputs": [
    {
     "data": {
      "text/plain": [
       "(-1.0, 1.0)"
      ]
     },
     "execution_count": 24,
     "metadata": {},
     "output_type": "execute_result"
    },
    {
     "data": {
      "image/png": "[encoded data removed]",
      "text/plain": [
       "<Figure size 432x288 with 1 Axes>"
      ]
     },
     "metadata": {
      "needs_background": "light"
     },
     "output_type": "display_data"
    }
   ],
   "source": [
    "plt.scatter(rx, rz, s = 0.1)\n",
    "plt.xlim(-1, 1)\n",
    "plt.ylim(-1, 1)"
   ]
  },
  {
   "cell_type": "code",
   "execution_count": 25,
   "id": "dc94716c",
   "metadata": {},
   "outputs": [],
   "source": [
    "radius = (rx*rx + ry*ry + rz*rz)**0.5\n",
    "\n",
    "vr = (vt[:, 0]*rx + vt[:, 1]*ry + vt[:, 2]*rz)/radius"
   ]
  },
  {
   "cell_type": "code",
   "execution_count": 26,
   "id": "a36c4165",
   "metadata": {},
   "outputs": [],
   "source": [
    "logR = np.log10(radius)\n",
    "rgrid = np.logspace(min(logR), max(logR), 40)"
   ]
  },
  {
   "cell_type": "code",
   "execution_count": 27,
   "id": "24960197",
   "metadata": {},
   "outputs": [],
   "source": [
    "res = []\n",
    "\n",
    "for i in range(len(rgrid)-1):\n",
    "    \n",
    "    nx = np.where((radius > rgrid[i]) & (radius <= rgrid[i+1]))[0]\n",
    "    \n",
    "    res.append([rgrid[i], np.mean(vr[nx])])\n",
    "\n",
    "res = np.array(res)"
   ]
  },
  {
   "cell_type": "code",
   "execution_count": 28,
   "id": "dce83f30",
   "metadata": {},
   "outputs": [],
   "source": [
    "R = res[:, 0] * unitLength_in_cm\n",
    "vr = res[:, 1] * unitVelocity_in_cm_per_s"
   ]
  },
  {
   "cell_type": "code",
   "execution_count": 29,
   "id": "adc5d733",
   "metadata": {},
   "outputs": [
    {
     "name": "stdout",
     "output_type": "stream",
     "text": [
      "Time in code unit = 1.221737\n",
      "Time in kyrs = 93.746\n"
     ]
    }
   ],
   "source": [
    "print(f'Time in code unit = {t}')\n",
    "print(f'Time in kyrs = {t*unitTime_in_kyr:.3f}')"
   ]
  },
  {
   "cell_type": "code",
   "execution_count": 30,
   "id": "de12e2b2",
   "metadata": {},
   "outputs": [],
   "source": [
    "dictx = {'R': R, 'vr': vr}\n",
    "with open('R_vs_vr_hfvSPH.pkl', 'wb') as f:\n",
    "    pickle.dump(dictx, f)"
   ]
  },
  {
   "cell_type": "code",
   "execution_count": 31,
   "id": "18e6154b",
   "metadata": {
    "scrolled": true
   },
   "outputs": [
    {
     "data": {
      "image/png": "[encoded data removed]",
      "text/plain": [
       "<Figure size 432x288 with 1 Axes>"
      ]
     },
     "metadata": {
      "needs_background": "light"
     },
     "output_type": "display_data"
    }
   ],
   "source": [
    "plt.scatter(np.log10(R), vr, s = 5, color = 'k')\n",
    "plt.axvline(x = 14.8, color = 'blue', linestyle='--')\n",
    "plt.xlim(12, 18);"
   ]
  },
  {
   "cell_type": "code",
   "execution_count": 32,
   "id": "e3196ceb",
   "metadata": {},
   "outputs": [
    {
     "data": {
      "text/plain": [
       "array([2.52583e-04, 2.54834e-04, 2.54904e-04, ..., 8.41684e-01,\n",
       "       8.45460e-01, 8.54308e-01])"
      ]
     },
     "execution_count": 32,
     "metadata": {},
     "output_type": "execute_result"
    }
   ],
   "source": [
    "np.sort(h)"
   ]
  },
  {
   "cell_type": "code",
   "execution_count": 33,
   "id": "072ef7a0",
   "metadata": {},
   "outputs": [
    {
     "data": {
      "text/plain": [
       "array([2.52583e-04, 2.54834e-04, 2.54904e-04, ..., 8.41684e-01,\n",
       "       8.45460e-01, 8.54308e-01])"
      ]
     },
     "execution_count": 33,
     "metadata": {},
     "output_type": "execute_result"
    }
   ],
   "source": [
    "np.sort(h)"
   ]
  },
  {
   "cell_type": "code",
   "execution_count": 34,
   "id": "07bb70ed",
   "metadata": {},
   "outputs": [
    {
     "data": {
      "text/plain": [
       "array([1.83983423e-23, 1.90123469e-23, 1.96948640e-23, ...,\n",
       "       1.55606629e-12, 1.56161423e-12, 1.56671752e-12])"
      ]
     },
     "execution_count": 34,
     "metadata": {},
     "output_type": "execute_result"
    }
   ],
   "source": [
    "np.sort(rho)*UnitDensity_in_cgs"
   ]
  },
  {
   "cell_type": "code",
   "execution_count": null,
   "id": "d27eff50",
   "metadata": {},
   "outputs": [],
   "source": []
  },
  {
   "cell_type": "code",
   "execution_count": null,
   "id": "dd0ad6ab",
   "metadata": {},
   "outputs": [],
   "source": []
  }
 ],
 "metadata": {
  "kernelspec": {
   "display_name": "Python 3 (ipykernel)",
   "language": "python",
   "name": "python3"
  },
  "language_info": {
   "codemirror_mode": {
    "name": "ipython",
    "version": 3
   },
   "file_extension": ".py",
   "mimetype": "text/x-python",
   "name": "python",
   "nbconvert_exporter": "python",
   "pygments_lexer": "ipython3",
   "version": "3.9.7"
  }
 },
 "nbformat": 4,
 "nbformat_minor": 5
}
