{
 "cells": [
  {
   "cell_type": "code",
   "execution_count": 2,
   "id": "7688bd76",
   "metadata": {},
   "outputs": [],
   "source": [
    "import numpy as np\n",
    "import matplotlib.pyplot as plt\n",
    "import glob\n",
    "import pickle"
   ]
  },
  {
   "cell_type": "code",
   "execution_count": 3,
   "id": "d0209755",
   "metadata": {},
   "outputs": [
    {
     "name": "stdout",
     "output_type": "stream",
     "text": [
      "UnitDensity_in_cgs = 2.56E-18 g/cm^3\n"
     ]
    }
   ],
   "source": [
    "M_sun = 1.98992e+33 # gram\n",
    "UnitMass_in_g = 1.0 * M_sun       # !!!!!!!!!!!!!!!!!!!!!!!!! CHANGE !!!!!!!!!!!!!!!!!\n",
    "UnitRadius_in_cm = 9.2e+16  #!!!!!!!!!!!!!! CHANGE !!!!!!!!!!!!!!!!!!\n",
    "UnitDensity_in_cgs = UnitMass_in_g / UnitRadius_in_cm**3\n",
    "\n",
    "print(f'UnitDensity_in_cgs = {UnitDensity_in_cgs:.2E} g/cm^3')"
   ]
  },
  {
   "cell_type": "code",
   "execution_count": 5,
   "id": "b1f0b668",
   "metadata": {},
   "outputs": [],
   "source": [
    "filz = np.sort(glob.glob('/mnt/Linux_Shared_Folder_2022/Outputs_103k/*.pkl'))"
   ]
  },
  {
   "cell_type": "code",
   "execution_count": 6,
   "id": "5707efaf",
   "metadata": {},
   "outputs": [
    {
     "name": "stdout",
     "output_type": "stream",
     "text": [
      "(103964, 3)\n",
      "h =  [7.57370603e-04 7.59649552e-04 7.59922322e-04 ... 7.68794839e-01\n",
      " 7.72202329e-01 7.76437628e-01]\n",
      "rho =  [3.31772479e-23 3.42379631e-23 3.42985840e-23 ... 9.95500735e-14\n",
      " 1.00122564e-13 1.01934205e-13]\n"
     ]
    }
   ],
   "source": [
    "j = 1375\n",
    "\n",
    "with open(filz[j], 'rb') as f:\n",
    "    data = pickle.load(f)\n",
    "\n",
    "\n",
    "r = data['pos']\n",
    "h = data['h']\n",
    "print(r.shape)\n",
    "\n",
    "print('h = ', np.sort(h))\n",
    "\n",
    "x = r[:, 0]\n",
    "y = r[:, 1]\n",
    "z = r[:, 2]\n",
    "t = data['current_t']\n",
    "rho = data['rho']\n",
    "unitTime_in_kyr = data['unitTime_in_kyr']\n",
    "\n",
    "print('rho = ', np.sort(rho)*UnitDensity_in_cgs)"
   ]
  },
  {
   "cell_type": "code",
   "execution_count": 5,
   "id": "d707e56d",
   "metadata": {},
   "outputs": [
    {
     "data": {
      "text/plain": [
       "array([2.96435593e+13, 3.63674199e+13, 4.22602227e+13, ...,\n",
       "       3.87076053e+17, 3.87903469e+17, 3.91561653e+17])"
      ]
     },
     "execution_count": 5,
     "metadata": {},
     "output_type": "execute_result"
    }
   ],
   "source": [
    "R = (x*x + y*y + z*z)**0.5 * UnitRadius_in_cm\n",
    "np.sort(R)"
   ]
  },
  {
   "cell_type": "code",
   "execution_count": 6,
   "id": "49baf58e",
   "metadata": {},
   "outputs": [],
   "source": [
    "#rho = rho * UnitDensity_in_cgs"
   ]
  },
  {
   "cell_type": "code",
   "execution_count": 7,
   "id": "e5360963",
   "metadata": {},
   "outputs": [],
   "source": [
    "radius = (x*x + y*y + z*z)**0.5\n",
    "\n",
    "logR = np.log10(radius)\n",
    "rgrid = np.logspace(min(logR), max(logR), 40)\n",
    "\n",
    "res = []\n",
    "\n",
    "for i in range(len(rgrid)-1):\n",
    "    \n",
    "    nx = np.where((radius > rgrid[i]) & (radius <= rgrid[i+1]))[0]\n",
    "    \n",
    "    res.append([rgrid[i], np.mean(rho[nx])])\n",
    "\n",
    "res = np.array(res)\n",
    "\n",
    "R = res[:, 0] * UnitRadius_in_cm\n",
    "rho = res[:, 1] * UnitDensity_in_cgs"
   ]
  },
  {
   "cell_type": "code",
   "execution_count": null,
   "id": "44ca3c3a",
   "metadata": {},
   "outputs": [],
   "source": []
  },
  {
   "cell_type": "code",
   "execution_count": 11,
   "id": "8594eec7",
   "metadata": {},
   "outputs": [
    {
     "data": {
      "image/png": "[encoded data removed]",
      "text/plain": [
       "<Figure size 432x288 with 1 Axes>"
      ]
     },
     "metadata": {
      "needs_background": "light"
     },
     "output_type": "display_data"
    }
   ],
   "source": [
    "plt.scatter(np.log10(R), np.log10(rho), s = 10, color = 'k')\n",
    "plt.xlim(13, 18)\n",
    "plt.ylim(-24, -12);"
   ]
  },
  {
   "cell_type": "code",
   "execution_count": 11,
   "id": "4f61c338",
   "metadata": {},
   "outputs": [
    {
     "data": {
      "image/png": "[encoded data removed]",
      "text/plain": [
       "<Figure size 432x288 with 1 Axes>"
      ]
     },
     "metadata": {
      "needs_background": "light"
     },
     "output_type": "display_data"
    }
   ],
   "source": [
    "plt.scatter(np.log10(R), np.log10(rho), s = 10, color = 'k')\n",
    "plt.xlim(13, 18)\n",
    "plt.ylim(-24, -12);"
   ]
  },
  {
   "cell_type": "code",
   "execution_count": null,
   "id": "239c706e",
   "metadata": {},
   "outputs": [],
   "source": []
  }
 ],
 "metadata": {
  "kernelspec": {
   "display_name": "Python 3 (ipykernel)",
   "language": "python",
   "name": "python3"
  },
  "language_info": {
   "codemirror_mode": {
    "name": "ipython",
    "version": 3
   },
   "file_extension": ".py",
   "mimetype": "text/x-python",
   "name": "python",
   "nbconvert_exporter": "python",
   "pygments_lexer": "ipython3",
   "version": "3.9.7"
  }
 },
 "nbformat": 4,
 "nbformat_minor": 5
}
