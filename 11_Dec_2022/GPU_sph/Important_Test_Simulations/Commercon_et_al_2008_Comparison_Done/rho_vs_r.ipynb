{
 "cells": [
  {
   "cell_type": "code",
   "execution_count": 1,
   "id": "7688bd76",
   "metadata": {},
   "outputs": [],
   "source": [
    "import numpy as np\n",
    "import matplotlib.pyplot as plt\n",
    "import glob\n",
    "import pickle\n",
    "import pandas as pd"
   ]
  },
  {
   "cell_type": "code",
   "execution_count": 2,
   "id": "d0209755",
   "metadata": {},
   "outputs": [
    {
     "name": "stdout",
     "output_type": "stream",
     "text": [
      "UnitDensity_in_cgs = 2.56E-18 g/cm^3\n",
      "unitVelocity_in_cm_per_s = 37993.6 cm/s\n",
      "unitTime_in_kyr =  76.73144407493204\n"
     ]
    }
   ],
   "source": [
    "M_sun = 1.98992e+33 # gram\n",
    "UnitMass_in_g = 1.0 * M_sun       # !!!!!!!!!!!!!!!!!!!!!!!!! CHANGE !!!!!!!!!!!!!!!!!\n",
    "\n",
    "grav_const_in_cgs = G = 6.6738e-8\n",
    "rgas = 9.2e16                                     # The initial radius of the cloud in cm\n",
    "rho0 = 6.02e-19                                   # The initial average density\n",
    "tff = np.sqrt(3*np.pi/(32*G*rho0))                # The free-fall time = 3.4e4 yr\n",
    "unitLength_in_cm = rgas\n",
    "unitTime_in_s = (unitLength_in_cm**3/grav_const_in_cgs/UnitMass_in_g)**0.5\n",
    "unitTime_in_kyr = unitTime_in_s/3600/24/365.25/1000\n",
    "\n",
    "UnitDensity_in_cgs = UnitMass_in_g / unitLength_in_cm**3\n",
    "\n",
    "print(f'UnitDensity_in_cgs = {UnitDensity_in_cgs:.2E} g/cm^3')\n",
    "\n",
    "\n",
    "unitVelocity_in_cm_per_s = unitLength_in_cm / unitTime_in_s          # The internal velocity unit\n",
    "print(f'unitVelocity_in_cm_per_s = {round(unitVelocity_in_cm_per_s, 2)} cm/s')\n",
    "print('unitTime_in_kyr = ', unitTime_in_kyr)"
   ]
  },
  {
   "cell_type": "code",
   "execution_count": 3,
   "id": "b1f0b668",
   "metadata": {},
   "outputs": [
    {
     "name": "stdout",
     "output_type": "stream",
     "text": [
      "Time in code unit = 1.200637\n",
      "Time in kyrs = 92.127\n"
     ]
    }
   ],
   "source": [
    "j = 351 #589  # 351 ===> 1e-13\n",
    "\n",
    "filz = np.sort(glob.glob('/mnt/Linux_Shared_Folder_2022/GPU_sph/Commercon/200k_eps_0.001/*.csv'))\n",
    "\n",
    "t = float(filz[j].split('/')[-1][2:-4])\n",
    "print(f'Time in code unit = {t}')\n",
    "print(f'Time in kyrs = {t*unitTime_in_kyr:.3f}')"
   ]
  },
  {
   "cell_type": "code",
   "execution_count": 4,
   "id": "5707efaf",
   "metadata": {},
   "outputs": [
    {
     "data": {
      "text/plain": [
       "((200000, 3), (200000, 3))"
      ]
     },
     "execution_count": 4,
     "metadata": {},
     "output_type": "execute_result"
    }
   ],
   "source": [
    "df = pd.read_csv(filz[j])\n",
    "\n",
    "x = df['x'].values\n",
    "y = df['y'].values\n",
    "z = df['z'].values\n",
    "\n",
    "vx = df['vx'].values\n",
    "vy = df['vy'].values\n",
    "vz = df['vz'].values\n",
    "\n",
    "v = np.vstack((vx, vy, vz)).T\n",
    "\n",
    "h = df['h'].values\n",
    "\n",
    "rho = df['rho'].values\n",
    "\n",
    "r = np.vstack((x, y, z)).T\n",
    "\n",
    "r.shape, v.shape"
   ]
  },
  {
   "cell_type": "code",
   "execution_count": 5,
   "id": "d707e56d",
   "metadata": {},
   "outputs": [
    {
     "data": {
      "text/plain": [
       "array([3.17726297e+13, 3.22336042e+13, 3.85301447e+13, ...,\n",
       "       4.19297358e+17, 4.19561972e+17, 4.21022496e+17])"
      ]
     },
     "execution_count": 5,
     "metadata": {},
     "output_type": "execute_result"
    }
   ],
   "source": [
    "R = (x*x + y*y + z*z)**0.5 * unitLength_in_cm\n",
    "np.sort(R)"
   ]
  },
  {
   "cell_type": "code",
   "execution_count": 6,
   "id": "49baf58e",
   "metadata": {},
   "outputs": [
    {
     "data": {
      "text/plain": [
       "array([1.97329662e-23, 2.04261140e-23, 2.10837662e-23, ...,\n",
       "       1.04441105e-13, 1.07412615e-13, 1.07414404e-13])"
      ]
     },
     "execution_count": 6,
     "metadata": {},
     "output_type": "execute_result"
    }
   ],
   "source": [
    "np.sort(rho) * UnitDensity_in_cgs"
   ]
  },
  {
   "cell_type": "code",
   "execution_count": 7,
   "id": "e5360963",
   "metadata": {},
   "outputs": [],
   "source": [
    "radius = (x*x + y*y + z*z)**0.5\n",
    "\n",
    "logR = np.log10(radius)\n",
    "rgrid = np.logspace(min(logR), max(logR), 40)\n",
    "\n",
    "res = []\n",
    "\n",
    "for i in range(len(rgrid)-1):\n",
    "    \n",
    "    nx = np.where((radius > rgrid[i]) & (radius <= rgrid[i+1]))[0]\n",
    "    \n",
    "    res.append([rgrid[i], np.mean(rho[nx])])\n",
    "\n",
    "res = np.array(res)\n",
    "\n",
    "R = res[:, 0] * unitLength_in_cm\n",
    "rho = res[:, 1] * UnitDensity_in_cgs"
   ]
  },
  {
   "cell_type": "code",
   "execution_count": 10,
   "id": "44ca3c3a",
   "metadata": {},
   "outputs": [],
   "source": [
    "dictx = {'rho': rho, 'R': R}\n",
    "with open('rho_vs_r_hfvGPG.pkl', 'wb') as f:\n",
    "    pickle.dump(dictx, f)"
   ]
  },
  {
   "cell_type": "code",
   "execution_count": 11,
   "id": "8594eec7",
   "metadata": {},
   "outputs": [
    {
     "data": {
      "image/png": "[encoded data removed]",
      "text/plain": [
       "<Figure size 432x288 with 1 Axes>"
      ]
     },
     "metadata": {
      "needs_background": "light"
     },
     "output_type": "display_data"
    }
   ],
   "source": [
    "plt.scatter(np.log10(R), np.log10(rho), s = 10, color = 'k')\n",
    "plt.xlim(13, 18)\n",
    "plt.ylim(-24, -12);"
   ]
  },
  {
   "cell_type": "code",
   "execution_count": null,
   "id": "239c706e",
   "metadata": {},
   "outputs": [],
   "source": []
  }
 ],
 "metadata": {
  "kernelspec": {
   "display_name": "Python 3 (ipykernel)",
   "language": "python",
   "name": "python3"
  },
  "language_info": {
   "codemirror_mode": {
    "name": "ipython",
    "version": 3
   },
   "file_extension": ".py",
   "mimetype": "text/x-python",
   "name": "python",
   "nbconvert_exporter": "python",
   "pygments_lexer": "ipython3",
   "version": "3.9.7"
  }
 },
 "nbformat": 4,
 "nbformat_minor": 5
}
