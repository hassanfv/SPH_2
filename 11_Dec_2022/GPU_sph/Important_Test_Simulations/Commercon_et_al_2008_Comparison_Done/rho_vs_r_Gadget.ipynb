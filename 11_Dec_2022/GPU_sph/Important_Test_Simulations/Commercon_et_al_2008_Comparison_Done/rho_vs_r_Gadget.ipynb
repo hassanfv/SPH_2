{
 "cells": [
  {
   "cell_type": "code",
   "execution_count": 5,
   "id": "7688bd76",
   "metadata": {},
   "outputs": [],
   "source": [
    "import numpy as np\n",
    "import matplotlib.pyplot as plt\n",
    "import glob\n",
    "import pickle\n",
    "import h5py\n",
    "import pandas as pd"
   ]
  },
  {
   "cell_type": "code",
   "execution_count": 6,
   "id": "d0209755",
   "metadata": {},
   "outputs": [],
   "source": [
    "unitTime_in_Myrs = 0.07675 # Myrs\n",
    "UnitDensity_in_cgs = 2.554e-18\n",
    "UnitRadius_in_cm =  9.2e+16\n",
    "unitVelocity =  37984.06"
   ]
  },
  {
   "cell_type": "code",
   "execution_count": 7,
   "id": "b1f0b668",
   "metadata": {},
   "outputs": [],
   "source": [
    "jj = 1219 #1235   # 1219 =====> 1e-13\n",
    "\n",
    "nam = 'snap_' + str(jj).zfill(3) + '.hdf5'\n",
    "\n",
    "file = h5py.File('/mnt/Linux_Shared_Folder_2022/GPU_sph/200k_Gad_Commercon/' + nam, 'r')"
   ]
  },
  {
   "cell_type": "markdown",
   "id": "0aacbb35",
   "metadata": {},
   "source": [
    "## Getting the proper time of the snapshot"
   ]
  },
  {
   "cell_type": "code",
   "execution_count": 8,
   "id": "0a5d431a",
   "metadata": {},
   "outputs": [
    {
     "name": "stdout",
     "output_type": "stream",
     "text": [
      "Current time in code unit =  1.19043\n",
      "\n",
      "Current time in kyrs = 91.366\n",
      "\n",
      "Number of Snapshots =  1300\n"
     ]
    }
   ],
   "source": [
    "df_info = pd.read_csv('/mnt/Linux_Shared_Folder_2022/GPU_sph/200k_Gad_Commercon/infox.csv')\n",
    "x7 = df_info['x7'].values\n",
    "n7 = np.where(x7 == 200000)[0]\n",
    "\n",
    "t_arr = df_info['x3'].values\n",
    "\n",
    "t = t_arr[n7][jj]\n",
    "print('Current time in code unit = ', t)\n",
    "print()\n",
    "print(f'Current time in kyrs = {t*unitTime_in_Myrs*1000:.3f}')\n",
    "print()\n",
    "print(f'Number of Snapshots = ', len(n7))\n",
    "\n",
    "#df_info.head()"
   ]
  },
  {
   "cell_type": "code",
   "execution_count": 11,
   "id": "4c799db4",
   "metadata": {},
   "outputs": [
    {
     "data": {
      "text/plain": [
       "<KeysViewHDF5 ['Config', 'Header', 'Parameters', 'PartType0']>"
      ]
     },
     "execution_count": 11,
     "metadata": {},
     "output_type": "execute_result"
    }
   ],
   "source": [
    "file.keys()"
   ]
  },
  {
   "cell_type": "code",
   "execution_count": 12,
   "id": "461fc1ca",
   "metadata": {},
   "outputs": [
    {
     "data": {
      "text/plain": [
       "<HDF5 group \"/Parameters\" (0 members)>"
      ]
     },
     "execution_count": 12,
     "metadata": {},
     "output_type": "execute_result"
    }
   ],
   "source": [
    "file['Parameters']"
   ]
  },
  {
   "cell_type": "code",
   "execution_count": 13,
   "id": "c310bad6",
   "metadata": {},
   "outputs": [
    {
     "data": {
      "text/plain": [
       "<KeysViewHDF5 ['Coordinates', 'Density', 'InternalEnergy', 'Masses', 'ParticleIDs', 'SmoothingLength', 'Velocities']>"
      ]
     },
     "execution_count": 13,
     "metadata": {},
     "output_type": "execute_result"
    }
   ],
   "source": [
    "file['PartType0'].keys()"
   ]
  },
  {
   "cell_type": "code",
   "execution_count": 14,
   "id": "353b47b9",
   "metadata": {},
   "outputs": [
    {
     "data": {
      "text/plain": [
       "<HDF5 dataset \"Coordinates\": shape (200000, 3), type \"<f4\">"
      ]
     },
     "execution_count": 14,
     "metadata": {},
     "output_type": "execute_result"
    }
   ],
   "source": [
    "coord = file['PartType0']['Coordinates']\n",
    "coord"
   ]
  },
  {
   "cell_type": "code",
   "execution_count": 16,
   "id": "8dca0a73",
   "metadata": {},
   "outputs": [],
   "source": [
    "delta = 0.1\n",
    "\n",
    "x = coord[:, 0]\n",
    "y = coord[:, 1]\n",
    "z = coord[:, 2]"
   ]
  },
  {
   "cell_type": "code",
   "execution_count": null,
   "id": "b3ae05af",
   "metadata": {},
   "outputs": [],
   "source": []
  },
  {
   "cell_type": "code",
   "execution_count": 17,
   "id": "d707e56d",
   "metadata": {},
   "outputs": [
    {
     "data": {
      "text/plain": [
       "array([3.3652367e+13, 3.6829651e+13, 4.2374324e+13, ..., 4.0283450e+17,\n",
       "       4.0350070e+17, 4.0400658e+17], dtype=float32)"
      ]
     },
     "execution_count": 17,
     "metadata": {},
     "output_type": "execute_result"
    }
   ],
   "source": [
    "R = (x*x + y*y + z*z)**0.5 * UnitRadius_in_cm\n",
    "np.sort(R)"
   ]
  },
  {
   "cell_type": "code",
   "execution_count": 20,
   "id": "6abb3e59",
   "metadata": {},
   "outputs": [],
   "source": [
    "rho = np.array(file['PartType0']['Density'])"
   ]
  },
  {
   "cell_type": "code",
   "execution_count": 21,
   "id": "49baf58e",
   "metadata": {},
   "outputs": [
    {
     "data": {
      "text/plain": [
       "array([4.32751296e-23, 4.64336719e-23, 4.72830510e-23, ...,\n",
       "       1.03215091e-13, 1.04098594e-13, 1.04280699e-13], dtype=float32)"
      ]
     },
     "execution_count": 21,
     "metadata": {},
     "output_type": "execute_result"
    }
   ],
   "source": [
    "np.sort(rho) * UnitDensity_in_cgs"
   ]
  },
  {
   "cell_type": "code",
   "execution_count": 22,
   "id": "e5360963",
   "metadata": {},
   "outputs": [],
   "source": [
    "radius = (x*x + y*y + z*z)**0.5\n",
    "\n",
    "logR = np.log10(radius)\n",
    "rgrid = np.logspace(min(logR), max(logR), 40)\n",
    "\n",
    "res = []\n",
    "\n",
    "for i in range(len(rgrid)-1):\n",
    "    \n",
    "    nx = np.where((radius > rgrid[i]) & (radius <= rgrid[i+1]))[0]\n",
    "    \n",
    "    res.append([rgrid[i], np.mean(rho[nx])])\n",
    "\n",
    "res = np.array(res)\n",
    "\n",
    "R = res[:, 0] * UnitRadius_in_cm\n",
    "rho = res[:, 1] * UnitDensity_in_cgs"
   ]
  },
  {
   "cell_type": "code",
   "execution_count": null,
   "id": "44ca3c3a",
   "metadata": {},
   "outputs": [],
   "source": []
  },
  {
   "cell_type": "code",
   "execution_count": 23,
   "id": "8594eec7",
   "metadata": {},
   "outputs": [
    {
     "data": {
      "image/png": "[encoded data removed]",
      "text/plain": [
       "<Figure size 432x288 with 1 Axes>"
      ]
     },
     "metadata": {
      "needs_background": "light"
     },
     "output_type": "display_data"
    }
   ],
   "source": [
    "plt.scatter(np.log10(R), np.log10(rho), s = 10, color = 'k')\n",
    "plt.xlim(13, 18)\n",
    "plt.ylim(-24, -12);"
   ]
  },
  {
   "cell_type": "code",
   "execution_count": 26,
   "id": "4f61c338",
   "metadata": {},
   "outputs": [
    {
     "data": {
      "image/png": "[encoded data removed]",
      "text/plain": [
       "<Figure size 432x288 with 1 Axes>"
      ]
     },
     "metadata": {
      "needs_background": "light"
     },
     "output_type": "display_data"
    }
   ],
   "source": [
    "with open('rho_vs_r_hfvGPG.pkl', 'rb') as f:\n",
    "    dictx = pickle.load(f)\n",
    "\n",
    "rho_hfv = dictx['rho']\n",
    "R_hfv = dictx['R']\n",
    "\n",
    "plt.scatter(np.log10(R), np.log10(rho), s = 20, color = 'k')\n",
    "plt.scatter(np.log10(R_hfv), np.log10(rho_hfv), s = 10, color = 'orange')\n",
    "plt.xlim(13, 18)\n",
    "plt.ylim(-24, -12);"
   ]
  },
  {
   "cell_type": "code",
   "execution_count": null,
   "id": "239c706e",
   "metadata": {},
   "outputs": [],
   "source": []
  }
 ],
 "metadata": {
  "kernelspec": {
   "display_name": "Python 3 (ipykernel)",
   "language": "python",
   "name": "python3"
  },
  "language_info": {
   "codemirror_mode": {
    "name": "ipython",
    "version": 3
   },
   "file_extension": ".py",
   "mimetype": "text/x-python",
   "name": "python",
   "nbconvert_exporter": "python",
   "pygments_lexer": "ipython3",
   "version": "3.9.7"
  }
 },
 "nbformat": 4,
 "nbformat_minor": 5
}
