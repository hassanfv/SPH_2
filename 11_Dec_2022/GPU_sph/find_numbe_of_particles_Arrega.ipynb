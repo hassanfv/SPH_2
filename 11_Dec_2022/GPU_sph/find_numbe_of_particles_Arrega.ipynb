{
 "cells": [
  {
   "cell_type": "markdown",
   "id": "6443a58d",
   "metadata": {},
   "source": [
    "## REFERENCE: Arreaga et al - 2022.\n",
    "Here we check if Jeans condition is satisfied, given Npart and rho_max."
   ]
  },
  {
   "cell_type": "code",
   "execution_count": 1,
   "id": "28fbb31b",
   "metadata": {},
   "outputs": [],
   "source": [
    "import numpy as np"
   ]
  },
  {
   "cell_type": "code",
   "execution_count": 2,
   "id": "349ed4a1",
   "metadata": {},
   "outputs": [],
   "source": [
    "M_sun = 1.98992e+33 # gram\n",
    "G = 6.67259e-8 #  cm3 g-1 s-2\n",
    "N_ngb = 64"
   ]
  },
  {
   "cell_type": "code",
   "execution_count": 3,
   "id": "4ec88cba",
   "metadata": {},
   "outputs": [],
   "source": [
    "Npart = 300000\n",
    "\n",
    "Mcld = 10.0 #* M_sun\n",
    "#rho = 1e-17 # g/cm^3\n",
    "#T = 35. #K"
   ]
  },
  {
   "cell_type": "code",
   "execution_count": 4,
   "id": "98d8121a",
   "metadata": {},
   "outputs": [],
   "source": [
    "gamma = 5./3.\n",
    "c_0 = 0.255e5\n",
    "rho_crit = 5.0e-14 # Arrega et al - 2022"
   ]
  },
  {
   "cell_type": "code",
   "execution_count": 5,
   "id": "95b57846",
   "metadata": {},
   "outputs": [],
   "source": [
    "rho_max = 1.0e-15 # We want to know Npart for this max rho. You can vary this for other conditions!!!"
   ]
  },
  {
   "cell_type": "code",
   "execution_count": 6,
   "id": "4d96adfe",
   "metadata": {},
   "outputs": [
    {
     "data": {
      "text/plain": [
       "225000"
      ]
     },
     "execution_count": 6,
     "metadata": {},
     "output_type": "execute_result"
    }
   ],
   "source": [
    "csnd = 225000 # See Arreaga et al - 2022. It is fixed at 225000cm/s or 2.25e5 !!!!\n",
    "csnd"
   ]
  },
  {
   "cell_type": "code",
   "execution_count": 7,
   "id": "fd48cbf1",
   "metadata": {},
   "outputs": [
    {
     "data": {
      "text/plain": [
       "3.3333333333333335e-05"
      ]
     },
     "execution_count": 7,
     "metadata": {},
     "output_type": "execute_result"
    }
   ],
   "source": [
    "mp = Mcld / Npart\n",
    "mp"
   ]
  },
  {
   "cell_type": "code",
   "execution_count": 8,
   "id": "a8776370",
   "metadata": {},
   "outputs": [
    {
     "data": {
      "text/plain": [
       "30.61919074790296"
      ]
     },
     "execution_count": 8,
     "metadata": {},
     "output_type": "execute_result"
    }
   ],
   "source": [
    "# Since rho is max therefore MJ is min !\n",
    "MJ_min = np.pi**(5./2.) / 6. * csnd**3 / (G**3 * rho_max)**0.5 / M_sun\n",
    "MJ_min"
   ]
  },
  {
   "cell_type": "code",
   "execution_count": 9,
   "id": "33c32d65",
   "metadata": {},
   "outputs": [
    {
     "data": {
      "text/plain": [
       "0.23921242771799187"
      ]
     },
     "execution_count": 9,
     "metadata": {},
     "output_type": "execute_result"
    }
   ],
   "source": [
    "mr = MJ_min / 2. / N_ngb # The minimum resolvable mass\n",
    "mr"
   ]
  },
  {
   "cell_type": "code",
   "execution_count": 10,
   "id": "2be95204",
   "metadata": {},
   "outputs": [
    {
     "data": {
      "text/plain": [
       "0.00013934616044543509"
      ]
     },
     "execution_count": 10,
     "metadata": {},
     "output_type": "execute_result"
    }
   ],
   "source": [
    "mp / mr # if less than 1.0, the Jeans condition for that rho_max is satisfied with Npart."
   ]
  },
  {
   "cell_type": "code",
   "execution_count": null,
   "id": "506a90a9",
   "metadata": {},
   "outputs": [],
   "source": []
  },
  {
   "cell_type": "code",
   "execution_count": null,
   "id": "f3c037ef",
   "metadata": {},
   "outputs": [],
   "source": []
  }
 ],
 "metadata": {
  "kernelspec": {
   "display_name": "Python 3 (ipykernel)",
   "language": "python",
   "name": "python3"
  },
  "language_info": {
   "codemirror_mode": {
    "name": "ipython",
    "version": 3
   },
   "file_extension": ".py",
   "mimetype": "text/x-python",
   "name": "python",
   "nbconvert_exporter": "python",
   "pygments_lexer": "ipython3",
   "version": "3.9.7"
  }
 },
 "nbformat": 4,
 "nbformat_minor": 5
}
