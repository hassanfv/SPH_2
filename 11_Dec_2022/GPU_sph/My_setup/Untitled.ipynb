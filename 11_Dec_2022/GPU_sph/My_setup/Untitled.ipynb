{
 "cells": [
  {
   "cell_type": "code",
   "execution_count": 1,
   "id": "2a507a3e",
   "metadata": {},
   "outputs": [],
   "source": [
    "import numpy as np\n",
    "import matplotlib.pyplot as plt"
   ]
  },
  {
   "cell_type": "code",
   "execution_count": 12,
   "id": "ad27b503",
   "metadata": {},
   "outputs": [],
   "source": [
    "mH = 1.6726e-24 # gram\n",
    "kB = 1.3807e-16  # cm2 g s-2 K-1\n",
    "gamma = 5./3.   #!!!!!!!!!!!!!!!!!!!!!!!!!!!!!!!!!!!!!!!!!!!!!!!!!!!!!!!!!!!!!!!!!!!!\n",
    "\n",
    "muu = 2.55  #!!!!!!!!!!!!!!!!!!!!!!!!!!!!!!!!!!!!!!!!!!!!!!!!!!!!!!!!!!!!!!!!!!!!\n",
    "mH2 = muu * mH\n",
    "\n",
    "#c_0 = (kB * T_0 / mH2)**0.5"
   ]
  },
  {
   "cell_type": "code",
   "execution_count": 27,
   "id": "12e91ce8",
   "metadata": {
    "scrolled": false
   },
   "outputs": [
    {
     "name": "stdout",
     "output_type": "stream",
     "text": [
      "556.0392554501339\n"
     ]
    },
    {
     "data": {
      "text/plain": [
       "(1.0, 1.5)"
      ]
     },
     "execution_count": 27,
     "metadata": {},
     "output_type": "execute_result"
    },
    {
     "data": {
      "image/png": "[encoded data removed]",
      "text/plain": [
       "<Figure size 432x288 with 1 Axes>"
      ]
     },
     "metadata": {
      "needs_background": "light"
     },
     "output_type": "display_data"
    }
   ],
   "source": [
    "M_cld = 10\n",
    "M_sun = 1.\n",
    "\n",
    "c_0 = 0.2e5 * (M_cld/M_sun)**(1./4.) # cm/s\n",
    "c_s = 0.2e5 # cm/s\n",
    "\n",
    "rho_0 = 0.5e-20 # g/cm^-3\n",
    "\n",
    "rho = np.logspace(-20, -16, 100)\n",
    "\n",
    "cc = (c_0*c_0 - c_s*c_s)*(rho/rho_0)**(-2./3.) + c_s*c_s\n",
    "\n",
    "T = muu*mH*cc/kB\n",
    "\n",
    "#print(muu*mH*1.8e10/kB)\n",
    "\n",
    "plt.scatter(np.log10(rho), np.log10(T), s = 10)\n",
    "plt.ylim(1, 1.5)"
   ]
  },
  {
   "cell_type": "code",
   "execution_count": 8,
   "id": "b5878fa8",
   "metadata": {},
   "outputs": [
    {
     "data": {
      "text/plain": [
       "array([1.78885438e+10, 1.68368133e+10, 1.58483320e+10, 1.49192963e+10,\n",
       "       1.40461312e+10, 1.32254767e+10, 1.24541749e+10, 1.17292578e+10,\n",
       "       1.10479360e+10, 1.04075878e+10, 9.80574889e+09, 9.24010357e+09,\n",
       "       8.70847517e+09, 8.20881797e+09, 7.73920929e+09, 7.29784205e+09,\n",
       "       6.88301787e+09, 6.49314049e+09, 6.12670965e+09, 5.78231533e+09,\n",
       "       5.45863228e+09, 5.15441496e+09, 4.86849274e+09, 4.59976539e+09,\n",
       "       4.34719883e+09, 4.10982118e+09, 3.88671901e+09, 3.67703381e+09,\n",
       "       3.47995872e+09, 3.29473537e+09, 3.12065104e+09, 2.95703584e+09,\n",
       "       2.80326016e+09, 2.65873229e+09, 2.52289607e+09, 2.39522881e+09,\n",
       "       2.27523923e+09, 2.16246562e+09, 2.05647401e+09, 1.95685655e+09,\n",
       "       1.86322992e+09, 1.77523382e+09, 1.69252966e+09, 1.61479918e+09,\n",
       "       1.54174328e+09, 1.47308083e+09, 1.40854762e+09, 1.34789533e+09,\n",
       "       1.29089056e+09, 1.23731396e+09, 1.18695936e+09, 1.13963299e+09,\n",
       "       1.09515276e+09, 1.05334748e+09, 1.01405631e+09, 9.77128031e+08,\n",
       "       9.42420558e+08, 9.09800332e+08, 8.79141830e+08, 8.50327077e+08,\n",
       "       8.23245192e+08, 7.97791965e+08, 7.73869450e+08, 7.51385594e+08,\n",
       "       7.30253878e+08, 7.10392986e+08, 6.91726493e+08, 6.74182571e+08,\n",
       "       6.57693710e+08, 6.42196460e+08, 6.27631188e+08, 6.13941845e+08,\n",
       "       6.01075756e+08, 5.88983411e+08, 5.77618278e+08, 5.66936625e+08,\n",
       "       5.56897348e+08, 5.47461815e+08, 5.38593719e+08, 5.30258935e+08,\n",
       "       5.22425390e+08, 5.15062940e+08, 5.08143256e+08, 5.01639709e+08,\n",
       "       4.95527274e+08, 4.89782431e+08, 4.84383072e+08, 4.79308422e+08,\n",
       "       4.74538951e+08, 4.70056309e+08, 4.65843245e+08, 4.61883547e+08,\n",
       "       4.58161978e+08, 4.54664219e+08, 4.51376808e+08, 4.48287096e+08,\n",
       "       4.45383195e+08, 4.42653929e+08, 4.40088796e+08, 4.37677925e+08])"
      ]
     },
     "execution_count": 8,
     "metadata": {},
     "output_type": "execute_result"
    }
   ],
   "source": [
    "ff"
   ]
  },
  {
   "cell_type": "code",
   "execution_count": null,
   "id": "b147ae34",
   "metadata": {},
   "outputs": [],
   "source": []
  },
  {
   "cell_type": "code",
   "execution_count": null,
   "id": "05f8905c",
   "metadata": {},
   "outputs": [],
   "source": []
  }
 ],
 "metadata": {
  "kernelspec": {
   "display_name": "Python 3 (ipykernel)",
   "language": "python",
   "name": "python3"
  },
  "language_info": {
   "codemirror_mode": {
    "name": "ipython",
    "version": 3
   },
   "file_extension": ".py",
   "mimetype": "text/x-python",
   "name": "python",
   "nbconvert_exporter": "python",
   "pygments_lexer": "ipython3",
   "version": "3.9.7"
  }
 },
 "nbformat": 4,
 "nbformat_minor": 5
}
