{
 "cells": [
  {
   "cell_type": "code",
   "execution_count": 18,
   "id": "463768fa",
   "metadata": {},
   "outputs": [],
   "source": [
    "import numpy as np\n",
    "from scipy.integrate import odeint"
   ]
  },
  {
   "cell_type": "code",
   "execution_count": 19,
   "id": "d4ead72a",
   "metadata": {},
   "outputs": [],
   "source": [
    "def dSdx(x, S):\n",
    "\n",
    "    y1, y2 = S\n",
    "\n",
    "    return [y2, -2./x * y2 + np.exp(-y1)]\n",
    "\n",
    "\n",
    "y1_0 = 0.\n",
    "y2_0 = 0.\n",
    "S_0 = (y1_0, y2_0)\n",
    "\n",
    "x = np.linspace(.00001, 10., 10000)\n",
    "\n",
    "sol = odeint(dSdx, y0 = S_0, t = x, tfirst = True)\n",
    "\n",
    "y1_sol = sol.T[0]\n",
    "y2_sol = sol.T[1]\n",
    "\n",
    "\n",
    "#----- mu_from_ksi\n",
    "def mu_from_ksi(x, y2_sol, ksi): #y2_sol is d_psi/d_ksi\n",
    "\n",
    "    # finding the closest value\n",
    "    x1 = x - ksi\n",
    "    nx = np.where(x1 > 0.)[0]\n",
    "\n",
    "    return ksi * ksi * y2_sol[nx[0] - 1]\n",
    "\n",
    "\n",
    "#----- ksi_from_mu\n",
    "def ksi_from_mu(x, y2_sol, mu):\n",
    "\n",
    "    mu1 = x * x * y2_sol - mu\n",
    "    nx = np.where(mu1 > 0.)[0]\n",
    "\n",
    "    return x[nx[0]-1]\n",
    "\n",
    "\n",
    "#----- psi_from_ksi\n",
    "def psi_from_ksi(x, y1_sol, ksi):\n",
    "\n",
    "    x1 = x - ksi\n",
    "    nx = np.where(x1 > 0.)[0]\n",
    "\n",
    "    return y1_sol[nx[0] - 1]"
   ]
  },
  {
   "cell_type": "code",
   "execution_count": 11,
   "id": "7c18a7a0",
   "metadata": {},
   "outputs": [],
   "source": [
    "def get_cs(T_0):\n",
    "    \n",
    "    mH = 1.6726e-24 # gram\n",
    "    kB = 1.3807e-16  # cm2 g s-2 K-1\n",
    "\n",
    "    # Note that for pure molecular hydrogen mu=2.\n",
    "    # For molecular gas with ~10% He by mass and trace metals, mu ~ 2.7 is often used.\n",
    "    muu = 2.7\n",
    "    mH2 = muu * mH\n",
    "    \n",
    "    c_0 = (kB * T_0 / mH2)**0.5\n",
    "    \n",
    "    return c_0"
   ]
  },
  {
   "cell_type": "markdown",
   "id": "7d52c96d",
   "metadata": {},
   "source": [
    "## Sound speed for `T = 35 K`"
   ]
  },
  {
   "cell_type": "code",
   "execution_count": 13,
   "id": "e1ce71a2",
   "metadata": {},
   "outputs": [
    {
     "name": "stdout",
     "output_type": "stream",
     "text": [
      "Sound speed (cm/s) =  32711.9\n",
      "Sound speed (m/s) =  327.12\n",
      "Sound speed (km/s) =  0.327\n"
     ]
    }
   ],
   "source": [
    "T_0 = 35. # K, see Table_1 in Anathpindika - 2009 - II\n",
    "\n",
    "c_0 = get_cs(T_0)\n",
    "\n",
    "print('Sound speed (cm/s) = ', round(c_0, 2))\n",
    "print('Sound speed (m/s) = ', round(c_0/100., 2))\n",
    "print('Sound speed (km/s) = ', round(c_0/100000., 3))"
   ]
  },
  {
   "cell_type": "code",
   "execution_count": 9,
   "id": "6450a1d7",
   "metadata": {},
   "outputs": [
    {
     "name": "stdout",
     "output_type": "stream",
     "text": [
      "c_0 = 0.356 km/s.\n"
     ]
    }
   ],
   "source": [
    "M_sun = 1.0\n",
    "M_0 = 10 * M_sun\n",
    "\n",
    "c_0 = 0.2 * (M_0/M_sun)**(1./4.)  # see eq. 2 in Kitsionas et al - 2007.\n",
    "\n",
    "print(f'c_0 = {round(c_0, 3)} km/s.')"
   ]
  },
  {
   "cell_type": "markdown",
   "id": "dd301a56",
   "metadata": {},
   "source": [
    "## Sound speed for `T = 100 K`"
   ]
  },
  {
   "cell_type": "code",
   "execution_count": 14,
   "id": "a0811266",
   "metadata": {},
   "outputs": [
    {
     "name": "stdout",
     "output_type": "stream",
     "text": [
      "Sound speed (cm/s) =  55293.2\n",
      "Sound speed (m/s) =  552.93\n",
      "Sound speed (km/s) =  0.553\n"
     ]
    }
   ],
   "source": [
    "T_0 = 100. # K, see Chapman et al - 1992 (Nature paper).\n",
    "\n",
    "c_0 = get_cs(T_0)\n",
    "\n",
    "print('Sound speed (cm/s) = ', round(c_0, 2))\n",
    "print('Sound speed (m/s) = ', round(c_0/100., 2))\n",
    "print('Sound speed (km/s) = ', round(c_0/100000., 3))"
   ]
  },
  {
   "cell_type": "markdown",
   "id": "e9add6ca",
   "metadata": {},
   "source": [
    "## Sound speed for `T = 10 K`"
   ]
  },
  {
   "cell_type": "code",
   "execution_count": 16,
   "id": "ee78d662",
   "metadata": {},
   "outputs": [
    {
     "name": "stdout",
     "output_type": "stream",
     "text": [
      "Sound speed (cm/s) =  17485.25\n",
      "Sound speed (m/s) =  174.85\n",
      "Sound speed (km/s) =  0.175\n"
     ]
    }
   ],
   "source": [
    "T_0 = 10. # K, see Chapman et al - 1992 (Nature paper).\n",
    "\n",
    "c_0 = get_cs(T_0)\n",
    "\n",
    "print('Sound speed (cm/s) = ', round(c_0, 2))\n",
    "print('Sound speed (m/s) = ', round(c_0/100., 2))\n",
    "print('Sound speed (km/s) = ', round(c_0/100000., 3))"
   ]
  },
  {
   "cell_type": "code",
   "execution_count": null,
   "id": "b2863ea5",
   "metadata": {},
   "outputs": [],
   "source": []
  },
  {
   "cell_type": "code",
   "execution_count": null,
   "id": "733ada2d",
   "metadata": {},
   "outputs": [],
   "source": []
  },
  {
   "cell_type": "code",
   "execution_count": 21,
   "id": "31ec4eea",
   "metadata": {},
   "outputs": [],
   "source": [
    "M_sun = 1.989e33 # gram\n",
    "grav_const_in_cgs = 6.67259e-8 #  cm3 g-1 s-2\n",
    "G = grav_const_in_cgs\n",
    "\n",
    "thetax = 3.0 # We choose this value for the xsi."
   ]
  },
  {
   "cell_type": "markdown",
   "id": "d76f22cd",
   "metadata": {},
   "source": [
    "### Reproducing $\\rho_{c}$ reported in sect. 2.3 of Kitsionas et al. 2007"
   ]
  },
  {
   "cell_type": "code",
   "execution_count": 40,
   "id": "b108c4c4",
   "metadata": {},
   "outputs": [
    {
     "name": "stdout",
     "output_type": "stream",
     "text": [
      "Central density (g/cm^3) = 2.70e-20\n",
      "Central density (cm^-3) =  16118.05\n",
      "\n",
      "Sound speed (km/s) =  0.35\n"
     ]
    }
   ],
   "source": [
    "\n",
    "T_0 = 35.\n",
    "\n",
    "Mcld = 10. * M_sun\n",
    "\n",
    "#c_0 = get_cs(T_0)\n",
    "\n",
    "c_0 = 0.35 * 100000 # I use the exact value reported in sect. 2.3 (i.e. c_0 = 0.35)\n",
    "\n",
    "#------ Central density ------\n",
    "rho_0 = c_0**6 / 4./np.pi/G**3/Mcld**2 * (mu_from_ksi(x, y2_sol, thetax))**2\n",
    "\n",
    "print(f'Central density (g/cm^3) = {rho_0:.2e}')\n",
    "print('Central density (cm^-3) = ', round(rho_0/mH, 2))\n",
    "print()\n",
    "print('Sound speed (km/s) = ', round(c_0/100000., 3))"
   ]
  },
  {
   "cell_type": "code",
   "execution_count": null,
   "id": "13330081",
   "metadata": {},
   "outputs": [],
   "source": []
  }
 ],
 "metadata": {
  "kernelspec": {
   "display_name": "Python 3 (ipykernel)",
   "language": "python",
   "name": "python3"
  },
  "language_info": {
   "codemirror_mode": {
    "name": "ipython",
    "version": 3
   },
   "file_extension": ".py",
   "mimetype": "text/x-python",
   "name": "python",
   "nbconvert_exporter": "python",
   "pygments_lexer": "ipython3",
   "version": "3.9.7"
  }
 },
 "nbformat": 4,
 "nbformat_minor": 5
}
