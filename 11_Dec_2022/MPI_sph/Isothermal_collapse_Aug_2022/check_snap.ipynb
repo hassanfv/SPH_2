{
 "cells": [
  {
   "cell_type": "code",
   "execution_count": 29,
   "id": "2bfed29d",
   "metadata": {},
   "outputs": [],
   "source": [
    "import h5py\n",
    "import numpy as np\n",
    "import matplotlib.pyplot as plt\n",
    "import pickle"
   ]
  },
  {
   "cell_type": "code",
   "execution_count": 42,
   "id": "2f21c129",
   "metadata": {},
   "outputs": [],
   "source": [
    "file = h5py.File('./output_Gad_10k_Gauss/snap_017.hdf5', 'r')"
   ]
  },
  {
   "cell_type": "code",
   "execution_count": 43,
   "id": "5624235c",
   "metadata": {},
   "outputs": [
    {
     "data": {
      "text/plain": [
       "<KeysViewHDF5 ['Config', 'Header', 'Parameters', 'PartType0']>"
      ]
     },
     "execution_count": 43,
     "metadata": {},
     "output_type": "execute_result"
    }
   ],
   "source": [
    "file.keys()"
   ]
  },
  {
   "cell_type": "code",
   "execution_count": 44,
   "id": "1b35f112",
   "metadata": {},
   "outputs": [
    {
     "data": {
      "text/plain": [
       "<HDF5 group \"/Parameters\" (0 members)>"
      ]
     },
     "execution_count": 44,
     "metadata": {},
     "output_type": "execute_result"
    }
   ],
   "source": [
    "file['Parameters']"
   ]
  },
  {
   "cell_type": "code",
   "execution_count": 45,
   "id": "1fc83535",
   "metadata": {},
   "outputs": [
    {
     "data": {
      "text/plain": [
       "<KeysViewHDF5 ['Coordinates', 'Density', 'InternalEnergy', 'Masses', 'ParticleIDs', 'SmoothingLength', 'Velocities']>"
      ]
     },
     "execution_count": 45,
     "metadata": {},
     "output_type": "execute_result"
    }
   ],
   "source": [
    "file['PartType0'].keys()"
   ]
  },
  {
   "cell_type": "code",
   "execution_count": 46,
   "id": "18b4467f",
   "metadata": {},
   "outputs": [
    {
     "data": {
      "text/plain": [
       "<HDF5 dataset \"Coordinates\": shape (10892, 3), type \"<f4\">"
      ]
     },
     "execution_count": 46,
     "metadata": {},
     "output_type": "execute_result"
    }
   ],
   "source": [
    "coord = file['PartType0']['Coordinates']\n",
    "coord"
   ]
  },
  {
   "cell_type": "code",
   "execution_count": 47,
   "id": "e664fe31",
   "metadata": {
    "scrolled": false
   },
   "outputs": [],
   "source": [
    "# with open('../Testing_Auto_timestep/Outputs_0.5_m_8k_my_code/00400.pkl', 'rb') as f:\n",
    "#     data = pickle.load(f)\n",
    "#     r = data['pos']\n",
    "\n",
    "# j = 320\n",
    "    \n",
    "# print(r.shape)\n",
    "# plt.figure(figsize = (3, 3))\n",
    "# plt.scatter(coord[:, 0], coord[:, 1], s = 0.02, color = 'black')\n",
    "# plt.plot(coord[j, 0], coord[j, 1], marker = 'o', color = 'red')\n",
    "# #plt.scatter(r[:, 0], r[:, 1], s = 0.02, color = 'blue')\n",
    "# xyrange = 0.5\n",
    "# plt.xlim(-xyrange, xyrange)\n",
    "# plt.ylim(-xyrange, xyrange)"
   ]
  },
  {
   "cell_type": "code",
   "execution_count": 48,
   "id": "21b4fb91",
   "metadata": {},
   "outputs": [
    {
     "data": {
      "text/plain": [
       "(-0.1, 0.1)"
      ]
     },
     "execution_count": 48,
     "metadata": {},
     "output_type": "execute_result"
    },
    {
     "data": {
      "image/png": "[encoded data removed]",
      "text/plain": [
       "<Figure size 216x216 with 1 Axes>"
      ]
     },
     "metadata": {
      "needs_background": "light"
     },
     "output_type": "display_data"
    }
   ],
   "source": [
    "plt.figure(figsize = (3, 3))\n",
    "plt.scatter(coord[:, 0], coord[:, 1], s = 0.02, color = 'black')\n",
    "\n",
    "xyrange = 0.10\n",
    "plt.xlim(-xyrange, xyrange)\n",
    "plt.ylim(-xyrange, xyrange)"
   ]
  },
  {
   "cell_type": "code",
   "execution_count": null,
   "id": "70e171b4",
   "metadata": {},
   "outputs": [],
   "source": []
  },
  {
   "cell_type": "code",
   "execution_count": 37,
   "id": "142ce118",
   "metadata": {},
   "outputs": [
    {
     "data": {
      "text/plain": [
       "(2.4004172e-05, 0.7528557, 0.21585698)"
      ]
     },
     "execution_count": 37,
     "metadata": {},
     "output_type": "execute_result"
    }
   ],
   "source": [
    "h = file['PartType0']['SmoothingLength']\n",
    "\n",
    "np.min(h), np.max(h), np.median(h)"
   ]
  },
  {
   "cell_type": "code",
   "execution_count": 38,
   "id": "e8158046",
   "metadata": {},
   "outputs": [
    {
     "data": {
      "text/plain": [
       "(2.4004172e-05, 0.7528557, 0.21585698)"
      ]
     },
     "execution_count": 38,
     "metadata": {},
     "output_type": "execute_result"
    }
   ],
   "source": [
    "h = file['PartType0']['SmoothingLength']\n",
    "\n",
    "np.min(h), np.max(h), np.median(h)"
   ]
  },
  {
   "cell_type": "code",
   "execution_count": null,
   "id": "2efe19e1",
   "metadata": {},
   "outputs": [],
   "source": []
  },
  {
   "cell_type": "code",
   "execution_count": 39,
   "id": "6c378604",
   "metadata": {},
   "outputs": [
    {
     "data": {
      "text/plain": [
       "array([1.00692405e-20, 1.07841774e-20, 1.09206186e-20, ...,\n",
       "       3.14615477e-06, 3.21561583e-06, 3.44120940e-06], dtype=float32)"
      ]
     },
     "execution_count": 39,
     "metadata": {},
     "output_type": "execute_result"
    }
   ],
   "source": [
    "rho = list(file['PartType0']['Density'])\n",
    "np.sort(rho)* 1.7e-17"
   ]
  },
  {
   "cell_type": "code",
   "execution_count": null,
   "id": "9455f3fc",
   "metadata": {},
   "outputs": [],
   "source": []
  },
  {
   "cell_type": "code",
   "execution_count": null,
   "id": "61217167",
   "metadata": {},
   "outputs": [],
   "source": []
  },
  {
   "cell_type": "code",
   "execution_count": null,
   "id": "fdce609a",
   "metadata": {},
   "outputs": [],
   "source": []
  },
  {
   "cell_type": "code",
   "execution_count": null,
   "id": "d243a062",
   "metadata": {},
   "outputs": [],
   "source": []
  },
  {
   "cell_type": "code",
   "execution_count": 143,
   "id": "d630bb8d",
   "metadata": {},
   "outputs": [
    {
     "data": {
      "text/plain": [
       "(0.1273388, 0.1273388, 0.1273388)"
      ]
     },
     "execution_count": 143,
     "metadata": {},
     "output_type": "execute_result"
    }
   ],
   "source": [
    "u = file['PartType0']['InternalEnergy']\n",
    "min(u), max(u), np.median(u)"
   ]
  },
  {
   "cell_type": "code",
   "execution_count": null,
   "id": "d778da2e",
   "metadata": {},
   "outputs": [],
   "source": []
  },
  {
   "cell_type": "code",
   "execution_count": null,
   "id": "33ff4f83",
   "metadata": {},
   "outputs": [],
   "source": []
  },
  {
   "cell_type": "code",
   "execution_count": 11,
   "id": "d605322d",
   "metadata": {},
   "outputs": [
    {
     "data": {
      "text/plain": [
       "0.051000000000000004"
      ]
     },
     "execution_count": 11,
     "metadata": {},
     "output_type": "execute_result"
    }
   ],
   "source": [
    "0.034*1.5"
   ]
  },
  {
   "cell_type": "code",
   "execution_count": null,
   "id": "7eed9589",
   "metadata": {},
   "outputs": [],
   "source": []
  },
  {
   "cell_type": "code",
   "execution_count": null,
   "id": "43ed2b7d",
   "metadata": {},
   "outputs": [],
   "source": []
  },
  {
   "cell_type": "code",
   "execution_count": 28,
   "id": "4455ec54",
   "metadata": {},
   "outputs": [
    {
     "data": {
      "text/plain": [
       "<HDF5 dataset \"Masses\": shape (32768,), type \"<f4\">"
      ]
     },
     "execution_count": 28,
     "metadata": {},
     "output_type": "execute_result"
    }
   ],
   "source": [
    "m = file['PartType0']['Masses']\n",
    "m"
   ]
  },
  {
   "cell_type": "code",
   "execution_count": 29,
   "id": "d524237e",
   "metadata": {},
   "outputs": [
    {
     "data": {
      "text/plain": [
       "<HDF5 dataset \"Velocities\": shape (32768, 3), type \"<f4\">"
      ]
     },
     "execution_count": 29,
     "metadata": {},
     "output_type": "execute_result"
    }
   ],
   "source": [
    "v = file['PartType0']['Velocities']\n",
    "v"
   ]
  },
  {
   "cell_type": "code",
   "execution_count": null,
   "id": "f293fef9",
   "metadata": {},
   "outputs": [],
   "source": [
    "ids = file['PartType0']['ParticleIDs']\n",
    "ids"
   ]
  },
  {
   "cell_type": "code",
   "execution_count": null,
   "id": "6c9f35b6",
   "metadata": {},
   "outputs": [],
   "source": [
    "len(np.unique(list(ids)))"
   ]
  },
  {
   "cell_type": "code",
   "execution_count": null,
   "id": "b8e2f21c",
   "metadata": {},
   "outputs": [],
   "source": []
  }
 ],
 "metadata": {
  "kernelspec": {
   "display_name": "Python 3 (ipykernel)",
   "language": "python",
   "name": "python3"
  },
  "language_info": {
   "codemirror_mode": {
    "name": "ipython",
    "version": 3
   },
   "file_extension": ".py",
   "mimetype": "text/x-python",
   "name": "python",
   "nbconvert_exporter": "python",
   "pygments_lexer": "ipython3",
   "version": "3.9.7"
  }
 },
 "nbformat": 4,
 "nbformat_minor": 5
}
