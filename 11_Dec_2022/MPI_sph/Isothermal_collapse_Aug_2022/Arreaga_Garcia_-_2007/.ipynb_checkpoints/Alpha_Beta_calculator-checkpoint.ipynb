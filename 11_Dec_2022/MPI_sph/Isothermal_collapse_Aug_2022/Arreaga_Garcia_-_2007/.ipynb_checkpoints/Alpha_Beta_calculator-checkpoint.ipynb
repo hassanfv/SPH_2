{
 "cells": [
  {
   "cell_type": "code",
   "execution_count": 1,
   "id": "3ed189ed",
   "metadata": {},
   "outputs": [],
   "source": [
    "import numpy as np"
   ]
  },
  {
   "cell_type": "code",
   "execution_count": 2,
   "id": "a99f4ed1",
   "metadata": {},
   "outputs": [],
   "source": [
    "grav_const_in_cgs = G = 6.6738e-8\n",
    "MSun = 1.98892e33  \n",
    "\n",
    "Mcld = 1.0 * MSun                               # The mass of the cloud\n",
    "Rcld = 4.99e16                                  # The initial radius of the cloud in cm\n",
    "omega = 7.2e-13                                # The initial angular velocity of the cloud in radians s^-1 \n",
    "rho0 = 3.82e-18                                 # The initial average density\n",
    "cs = 1.66e4  # this corrsponds to mu = 3.0 in (kB * T_0 / mH2)**0.5 (mH2 = muu * mH)  # The sound speed"
   ]
  },
  {
   "cell_type": "markdown",
   "id": "101f7123",
   "metadata": {},
   "source": [
    " ## Calculate angular velocity $\\Omega$ from $\\beta$ (Commercon et al - 2007 or 2008)"
   ]
  },
  {
   "cell_type": "code",
   "execution_count": 3,
   "id": "63a19757",
   "metadata": {},
   "outputs": [
    {
     "name": "stdout",
     "output_type": "stream",
     "text": [
      "omega = 7.16E-13 rad/s\n"
     ]
    }
   ],
   "source": [
    "Beta = 0.16\n",
    "\n",
    "omega = (3.*Beta*G*Mcld /Rcld**3)**0.5\n",
    "\n",
    "print(f'omega = {omega:.2E} rad/s')"
   ]
  },
  {
   "cell_type": "code",
   "execution_count": null,
   "id": "08258835",
   "metadata": {},
   "outputs": [],
   "source": []
  },
  {
   "cell_type": "markdown",
   "id": "02e25ad2",
   "metadata": {},
   "source": [
    "## Calculate $\\alpha$ (eq. 1 in Commercon et al - 2007 or 2008)"
   ]
  },
  {
   "cell_type": "code",
   "execution_count": 4,
   "id": "3f782ff9",
   "metadata": {},
   "outputs": [],
   "source": [
    "mH = 1.6726e-24 # gram\n",
    "kB = 1.3807e-16  # cm2 g s-2 K-1\n",
    "Tcld = 10. # K,    # !!!!!!!!!!!!!!!!!!!!!!!!!!!!!!!!!!!!!!!!!!!!!!!!!!!!!\n",
    "# Note that for pure molecular hydrogen mu=2. For molecular gas with ~10% He by mass and trace metals, mu ~ 2.7 is often used.\n",
    "mu = 3.0 # !!!!!!!!!! Gives c_s = 1.9e4"
   ]
  },
  {
   "cell_type": "code",
   "execution_count": 5,
   "id": "cac1d450",
   "metadata": {},
   "outputs": [
    {
     "name": "stdout",
     "output_type": "stream",
     "text": [
      "alpha = 0.259\n"
     ]
    }
   ],
   "source": [
    "alpha = 5./2. * Rcld*kB*Tcld / (G*Mcld*mu*mH)\n",
    "\n",
    "print(f'alpha = {alpha:.3f}')"
   ]
  },
  {
   "cell_type": "code",
   "execution_count": null,
   "id": "6871d542",
   "metadata": {},
   "outputs": [],
   "source": []
  },
  {
   "cell_type": "markdown",
   "id": "0d659eac",
   "metadata": {},
   "source": [
    "## Calculate free-fall time scale"
   ]
  },
  {
   "cell_type": "code",
   "execution_count": 7,
   "id": "543512db",
   "metadata": {},
   "outputs": [
    {
     "name": "stdout",
     "output_type": "stream",
     "text": [
      "tff in sec = 1.07E+12\n",
      "tff in kyr = 34.06\n"
     ]
    }
   ],
   "source": [
    "tff = np.sqrt(3*np.pi/(32*G*rho0))\n",
    "tff_in_kyr = tff/3600/24/365.24/1000\n",
    "print(f'tff in sec = {tff:.2E}')\n",
    "print(f'tff in kyr = {tff_in_kyr:.2f}')"
   ]
  },
  {
   "cell_type": "code",
   "execution_count": null,
   "id": "a81e18f1",
   "metadata": {},
   "outputs": [],
   "source": []
  },
  {
   "cell_type": "markdown",
   "id": "1d342e3e",
   "metadata": {},
   "source": [
    "## unit_length in AU"
   ]
  },
  {
   "cell_type": "code",
   "execution_count": 8,
   "id": "8eeef0a9",
   "metadata": {},
   "outputs": [
    {
     "name": "stdout",
     "output_type": "stream",
     "text": [
      "unit_length = 3336 AU\n",
      "one_AU_in_code_unit = 0.0002997995991983968\n"
     ]
    }
   ],
   "source": [
    "unit_length = Rcld\n",
    "\n",
    "one_AU = 1.496e13 # cm\n",
    "\n",
    "scale = unit_length/one_AU\n",
    "\n",
    "print(f'unit_length = {round(scale)} AU')\n",
    "\n",
    "one_AU_in_code_unit = 1.0/scale\n",
    "\n",
    "print(f'one_AU_in_code_unit = {one_AU_in_code_unit}')"
   ]
  },
  {
   "cell_type": "code",
   "execution_count": 9,
   "id": "7ca73443",
   "metadata": {},
   "outputs": [
    {
     "data": {
      "text/plain": [
       "0.11991983967935872"
      ]
     },
     "execution_count": 9,
     "metadata": {},
     "output_type": "execute_result"
    }
   ],
   "source": [
    "one_AU_in_code_unit * 400"
   ]
  },
  {
   "cell_type": "code",
   "execution_count": null,
   "id": "386f6252",
   "metadata": {},
   "outputs": [],
   "source": []
  }
 ],
 "metadata": {
  "kernelspec": {
   "display_name": "Python 3 (ipykernel)",
   "language": "python",
   "name": "python3"
  },
  "language_info": {
   "codemirror_mode": {
    "name": "ipython",
    "version": 3
   },
   "file_extension": ".py",
   "mimetype": "text/x-python",
   "name": "python",
   "nbconvert_exporter": "python",
   "pygments_lexer": "ipython3",
   "version": "3.9.7"
  }
 },
 "nbformat": 4,
 "nbformat_minor": 5
}
