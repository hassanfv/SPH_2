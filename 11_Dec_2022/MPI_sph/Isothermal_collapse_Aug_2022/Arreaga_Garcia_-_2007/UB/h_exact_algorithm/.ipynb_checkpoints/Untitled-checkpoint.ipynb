{
 "cells": [
  {
   "cell_type": "code",
   "execution_count": null,
   "id": "34f637e4",
   "metadata": {},
   "outputs": [],
   "source": []
  },
  {
   "cell_type": "code",
   "execution_count": 1,
   "id": "bb9a73f2",
   "metadata": {},
   "outputs": [],
   "source": [
    "x1 = -0.0327\n",
    "y1 = -0.0262\n",
    "\n",
    "x2 = 0.0375\n",
    "y2 = 0.0237"
   ]
  },
  {
   "cell_type": "code",
   "execution_count": 2,
   "id": "ef2793f8",
   "metadata": {},
   "outputs": [
    {
     "data": {
      "text/plain": [
       "287.32334916048853"
      ]
     },
     "execution_count": 2,
     "metadata": {},
     "output_type": "execute_result"
    }
   ],
   "source": [
    "dist = ((x1-x2)**2 + (y1-y2)**2)**0.5 * 3336\n",
    "\n",
    "dist"
   ]
  },
  {
   "cell_type": "code",
   "execution_count": 6,
   "id": "4960938c",
   "metadata": {},
   "outputs": [
    {
     "data": {
      "text/plain": [
       "3.981071705534985e-18"
      ]
     },
     "execution_count": 6,
     "metadata": {},
     "output_type": "execute_result"
    }
   ],
   "source": [
    "10**(-17.4)"
   ]
  },
  {
   "cell_type": "code",
   "execution_count": null,
   "id": "885f8ad0",
   "metadata": {},
   "outputs": [],
   "source": []
  }
 ],
 "metadata": {
  "kernelspec": {
   "display_name": "Python 3 (ipykernel)",
   "language": "python",
   "name": "python3"
  },
  "language_info": {
   "codemirror_mode": {
    "name": "ipython",
    "version": 3
   },
   "file_extension": ".py",
   "mimetype": "text/x-python",
   "name": "python",
   "nbconvert_exporter": "python",
   "pygments_lexer": "ipython3",
   "version": "3.9.7"
  }
 },
 "nbformat": 4,
 "nbformat_minor": 5
}
