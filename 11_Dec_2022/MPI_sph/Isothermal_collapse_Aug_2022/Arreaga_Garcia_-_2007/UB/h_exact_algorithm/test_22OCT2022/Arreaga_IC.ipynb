{
 "cells": [
  {
   "cell_type": "code",
   "execution_count": 2,
   "id": "7ddede52",
   "metadata": {},
   "outputs": [],
   "source": [
    "import time\n",
    "import numpy as np\n",
    "from rebin import rebin #pip install rebin\n",
    "import matplotlib.pyplot as plt\n",
    "import random\n",
    "import h5py\n",
    "from libsx import *\n",
    "import pickle\n",
    "\n",
    "np.random.seed = 42"
   ]
  },
  {
   "cell_type": "code",
   "execution_count": 3,
   "id": "0ff7a3eb",
   "metadata": {},
   "outputs": [],
   "source": [
    "grav_const_in_cgs = G = 6.6738e-8\n",
    "MSun = 1.98892e33  \n",
    "\n",
    "Mcld = 1.0 * MSun                                     # The mass of the cloud\n",
    "Rcld = 4.99e16                                     # The initial radius of the cloud in cm\n",
    "omega = 7.2e-13                                 # The initial angular velocity of the cloud in radians s^-1 \n",
    "rho0 = 3.82e-18                                 # The initial average density\n",
    "cs = 1.66e4  # this corrsponds to mu = 3.0 in (kB * T_0 / mH2)**0.5 (mH2 = muu * mH)  # The sound speed"
   ]
  },
  {
   "cell_type": "code",
   "execution_count": 4,
   "id": "f6512f0f",
   "metadata": {},
   "outputs": [
    {
     "name": "stdout",
     "output_type": "stream",
     "text": [
      "tff in sec = 1.07E+12\n",
      "tff in kyr = 34.06\n"
     ]
    }
   ],
   "source": [
    "# Calculating derived quantities\n",
    "tff = np.sqrt(3*np.pi/(32*G*rho0))                   # The free-fall time = 3.4e4 yr\n",
    "tff_in_kyr = tff/3600/24/365.24/1000\n",
    "print(f'tff in sec = {tff:.2E}')\n",
    "print(f'tff in kyr = {tff_in_kyr:.2f}')"
   ]
  },
  {
   "cell_type": "code",
   "execution_count": 5,
   "id": "26105291",
   "metadata": {},
   "outputs": [],
   "source": [
    "# Setting the units of the simulation\n",
    "unitMass_in_g = MSun\n",
    "unitLength_in_cm = Rcld\n",
    "unitTime_in_s = (unitLength_in_cm**3/grav_const_in_cgs/unitMass_in_g)**0.5\n",
    "unitVelocity_in_cm_per_s = unitLength_in_cm / unitTime_in_s"
   ]
  },
  {
   "cell_type": "code",
   "execution_count": 6,
   "id": "47aa55c5",
   "metadata": {},
   "outputs": [
    {
     "name": "stdout",
     "output_type": "stream",
     "text": [
      "Unit_time_in_s = 967510233186.72 seconds\n",
      "Unit_time in kyrs = 30.66 kyrs\n",
      "Unit_time in Myrs = 0.0307 Myrs\n"
     ]
    }
   ],
   "source": [
    "print(f'Unit_time_in_s = {round(unitTime_in_s, 2)} seconds')\n",
    "print(f'Unit_time in kyrs = {round(unitTime_in_s/3600./24./365.25/1000., 2)} kyrs')\n",
    "print(f'Unit_time in Myrs = {round(unitTime_in_s/3600./24./365.25/1e6, 4)} Myrs')"
   ]
  },
  {
   "cell_type": "code",
   "execution_count": 7,
   "id": "766886f5",
   "metadata": {},
   "outputs": [
    {
     "name": "stdout",
     "output_type": "stream",
     "text": [
      "unitVelocity_in_cm_per_s = 51575.68 cm/s\n"
     ]
    }
   ],
   "source": [
    "print(f'unitVelocity_in_cm_per_s = {round(unitVelocity_in_cm_per_s, 2)} cm/s')"
   ]
  },
  {
   "cell_type": "code",
   "execution_count": 8,
   "id": "affbf089",
   "metadata": {},
   "outputs": [],
   "source": [
    "# calling things to code units\n",
    "Rcld /= unitLength_in_cm\n",
    "Mcld /= unitMass_in_g\n",
    "omega *= unitTime_in_s"
   ]
  },
  {
   "cell_type": "code",
   "execution_count": 9,
   "id": "b63f5619",
   "metadata": {},
   "outputs": [
    {
     "name": "stdout",
     "output_type": "stream",
     "text": [
      "UnitDensity_in_cgs = 1.601E-17\n"
     ]
    }
   ],
   "source": [
    "UnitDensity_in_cgs = unitMass_in_g / unitLength_in_cm**3\n",
    "print(f'UnitDensity_in_cgs = {UnitDensity_in_cgs:.3E}')"
   ]
  },
  {
   "cell_type": "code",
   "execution_count": 10,
   "id": "f5c566bc",
   "metadata": {},
   "outputs": [
    {
     "name": "stdout",
     "output_type": "stream",
     "text": [
      "delta = 0.0593\n",
      "M = 35\n"
     ]
    }
   ],
   "source": [
    "# Arreaga-García et al (2007)\n",
    "\n",
    "Npart = 22200 * 2\n",
    "L = 2.1 # Length of the cube. It is fine to get it a bit larger as we will constrain by r<=1.\n",
    "V = L**3\n",
    "delta = (V/Npart)**(1./3.)\n",
    "\n",
    "print(f'delta = {delta:.4f}')\n",
    "\n",
    "M = int(np.floor(L / delta))\n",
    "\n",
    "print(f'M = {M}')"
   ]
  },
  {
   "cell_type": "code",
   "execution_count": 11,
   "id": "efb4c7ae",
   "metadata": {},
   "outputs": [
    {
     "name": "stdout",
     "output_type": "stream",
     "text": [
      "(20045, 3)\n"
     ]
    }
   ],
   "source": [
    "pos = []\n",
    "\n",
    "for i in range(-M, M):\n",
    "    for j in range(-M, M):\n",
    "        for k in range(-M, M):\n",
    "            \n",
    "            xt, yt, zt = 0.0+i*delta, 0.0+j*delta, 0.0+k*delta\n",
    "            \n",
    "            rnd = np.random.random()\n",
    "            if rnd > 0.5:\n",
    "                sign = 1.0\n",
    "            else:\n",
    "                sign = -1.0\n",
    "            \n",
    "            # Adding some amount of disorder\n",
    "            rnd = np.random.random()\n",
    "            if rnd < 1./3.:\n",
    "                xt += sign * delta/4.\n",
    "            if (rnd >= 1./3.) & (rnd <= 2./3.):\n",
    "                yt += sign * delta/4.\n",
    "            if rnd > 2./3.:\n",
    "                zt += sign * delta/4.\n",
    "            \n",
    "            r = (xt*xt + yt*yt + zt*zt)**0.5\n",
    "            \n",
    "            if r <= 1.0:\n",
    "                pos.append([xt, yt, zt])\n",
    "\n",
    "pos = np.array(pos)\n",
    "print(pos.shape)"
   ]
  },
  {
   "cell_type": "code",
   "execution_count": 12,
   "id": "ad545f0b",
   "metadata": {},
   "outputs": [
    {
     "data": {
      "image/png": "[encoded data removed]",
      "text/plain": [
       "<Figure size 432x432 with 1 Axes>"
      ]
     },
     "metadata": {
      "needs_background": "light"
     },
     "output_type": "display_data"
    }
   ],
   "source": [
    "plt.figure(figsize = (6,6))\n",
    "plt.scatter(pos[:, 0], pos[:, 1], s = 0.1, color = 'k')\n",
    "plt.xlim(-1.2, 1.2)\n",
    "plt.ylim(-1.2, 1.2);"
   ]
  },
  {
   "cell_type": "markdown",
   "id": "b17b027a",
   "metadata": {},
   "source": [
    "## Calculating particle velocities in rectangular coordinates"
   ]
  },
  {
   "cell_type": "code",
   "execution_count": 13,
   "id": "30476290",
   "metadata": {},
   "outputs": [],
   "source": [
    "rxy = (pos[:,0]**2 + pos[:,1]**2)**0.5 \n",
    "vel = np.zeros_like(pos)\n",
    "\n",
    "vel[:,0] = -omega*pos[:,1]\n",
    "vel[:,1] = omega*pos[:,0]\n",
    "\n",
    "vel[:,2] = 0\n",
    "\n",
    "wh = np.argwhere(np.isnan(vel)) # NaNs are handled here !\n",
    "if len(wh) > 0:\n",
    "    vel[wh] = 0.0\n"
   ]
  },
  {
   "cell_type": "markdown",
   "id": "453b0fa3",
   "metadata": {},
   "source": [
    "## Calculating particle masses"
   ]
  },
  {
   "cell_type": "code",
   "execution_count": 14,
   "id": "4a69bf4c",
   "metadata": {},
   "outputs": [
    {
     "name": "stderr",
     "output_type": "stream",
     "text": [
      "/tmp/ipykernel_251166/2343784876.py:4: RuntimeWarning: invalid value encountered in true_divide\n",
      "  masses = mp * (1 + .1*((pos[:, 0]/rxy)**2 - (pos[:, 1]/rxy)**2))\n"
     ]
    }
   ],
   "source": [
    "mp = Mcld / pos.shape[0]\n",
    "\n",
    "# Imposing an m=2 density perturbation with an amplitude of 10 percent.\n",
    "masses = mp * (1 + .1*((pos[:, 0]/rxy)**2 - (pos[:, 1]/rxy)**2))\n",
    "\n",
    "wh = np.argwhere(np.isnan(masses)) # Fixes an issue with the particle at the origin\n",
    "if len(wh) > 0:\n",
    "    masses[wh] = mp"
   ]
  },
  {
   "cell_type": "code",
   "execution_count": 15,
   "id": "1fab74c8",
   "metadata": {},
   "outputs": [],
   "source": [
    "# Assign particle sound speed (isothermal EOS)\n",
    "u = np.zeros(len(masses)) + cs**2 / unitVelocity_in_cm_per_s**2"
   ]
  },
  {
   "cell_type": "markdown",
   "id": "af834250",
   "metadata": {},
   "source": [
    "# IC for Gadget"
   ]
  },
  {
   "cell_type": "code",
   "execution_count": 16,
   "id": "ad6c48e3",
   "metadata": {},
   "outputs": [],
   "source": [
    "#write intial conditions file\n",
    "\n",
    "ids = np.arange(pos.shape[0])\n",
    "\n",
    "FloatType = np.float32  # double precision: np.float64, for single use np.float32\n",
    "IntType = np.int32\n",
    "\n",
    "IC = h5py.File('hfv_ic.hdf5', 'w')\n",
    "\n",
    "## create hdf5 groups\n",
    "header = IC.create_group(\"Header\")\n",
    "part0 = IC.create_group(\"PartType0\")\n",
    "\n",
    "## header entries\n",
    "NumPart = np.array([pos.shape[0]], dtype=IntType)\n",
    "header.attrs.create(\"NumPart_ThisFile\", NumPart)\n",
    "header.attrs.create(\"NumPart_Total\", NumPart)\n",
    "header.attrs.create(\"NumPart_Total_HighWord\", np.zeros(1, dtype=IntType) )\n",
    "header.attrs.create(\"MassTable\", np.zeros(1, dtype=IntType) )\n",
    "header.attrs.create(\"Time\", 0.0)\n",
    "header.attrs.create(\"Redshift\", 0.0)\n",
    "header.attrs.create(\"BoxSize\", 0)\n",
    "header.attrs.create(\"NumFilesPerSnapshot\", 1)\n",
    "header.attrs.create(\"Omega0\", 0.0)\n",
    "header.attrs.create(\"OmegaB\", 0.0)\n",
    "header.attrs.create(\"OmegaLambda\", 0.0)\n",
    "header.attrs.create(\"HubbleParam\", 1.0)\n",
    "header.attrs.create(\"Flag_Sfr\", 0)\n",
    "header.attrs.create(\"Flag_Cooling\", 0)\n",
    "header.attrs.create(\"Flag_StellarAge\", 0)\n",
    "header.attrs.create(\"Flag_Metals\", 0)\n",
    "header.attrs.create(\"Flag_Feedback\", 0)\n",
    "if pos.dtype == np.float64:\n",
    "    header.attrs.create(\"Flag_DoublePrecision\", 1)\n",
    "else:\n",
    "    header.attrs.create(\"Flag_DoublePrecision\", 0)\n",
    "\n",
    "## copy datasets\n",
    "part0.create_dataset(\"Coordinates\", data=pos)\n",
    "part0.create_dataset(\"Velocities\", data=vel)\n",
    "part0.create_dataset(\"ParticleIDs\", data=ids )\n",
    "part0.create_dataset(\"Masses\", data=masses)\n",
    "part0.create_dataset(\"InternalEnergy\", data=u)\n",
    "\n",
    "IC.close()"
   ]
  },
  {
   "cell_type": "code",
   "execution_count": null,
   "id": "d587de1c",
   "metadata": {},
   "outputs": [],
   "source": []
  },
  {
   "cell_type": "code",
   "execution_count": 17,
   "id": "f5a4ab6b",
   "metadata": {},
   "outputs": [],
   "source": [
    "dictx = {'r': pos, 'v': vel, 'm': masses,\n",
    "         'unitVelocity': unitVelocity_in_cm_per_s,\n",
    "         'unitTime': unitTime_in_s,\n",
    "         't_ff': tff}\n",
    "\n",
    "num = str(int(np.floor(pos.shape[0]/1000)))\n",
    "\n",
    "with open('tmp_hfv_IC_RND_' + num +'k.pkl', 'wb') as f:\n",
    "    pickle.dump(dictx, f)"
   ]
  },
  {
   "cell_type": "markdown",
   "id": "971a3f14",
   "metadata": {},
   "source": [
    "# Next Step: USE the `h_generator` script to complete IC creation !!"
   ]
  },
  {
   "cell_type": "code",
   "execution_count": null,
   "id": "d6a7e7d0",
   "metadata": {},
   "outputs": [],
   "source": []
  },
  {
   "cell_type": "code",
   "execution_count": null,
   "id": "01208490",
   "metadata": {},
   "outputs": [],
   "source": []
  },
  {
   "cell_type": "markdown",
   "id": "90b328f9",
   "metadata": {},
   "source": [
    "# Density profile"
   ]
  },
  {
   "cell_type": "code",
   "execution_count": null,
   "id": "57848f14",
   "metadata": {},
   "outputs": [],
   "source": [
    "h = do_smoothingX((pos, pos))"
   ]
  },
  {
   "cell_type": "code",
   "execution_count": null,
   "id": "466c6d36",
   "metadata": {},
   "outputs": [],
   "source": [
    "#-------- rho ---------\n",
    "rho = getDensity(pos, masses, h)"
   ]
  },
  {
   "cell_type": "code",
   "execution_count": null,
   "id": "134b78fd",
   "metadata": {},
   "outputs": [],
   "source": [
    "rr = (pos[:, 0]*pos[:, 0] + pos[:, 1]*pos[:, 1] + pos[:, 2]*pos[:, 2])**0.5\n",
    "plt.scatter(rr, (rho)*UnitDensity_in_cgs, s = 0.1);"
   ]
  },
  {
   "cell_type": "code",
   "execution_count": null,
   "id": "dc7d18b0",
   "metadata": {},
   "outputs": [],
   "source": [
    "print(pos.shape)"
   ]
  },
  {
   "cell_type": "code",
   "execution_count": null,
   "id": "eccd36c4",
   "metadata": {},
   "outputs": [],
   "source": [
    "UnitDensity_in_cgs"
   ]
  },
  {
   "cell_type": "code",
   "execution_count": null,
   "id": "998cc91e",
   "metadata": {},
   "outputs": [],
   "source": []
  }
 ],
 "metadata": {
  "kernelspec": {
   "display_name": "Python 3 (ipykernel)",
   "language": "python",
   "name": "python3"
  },
  "language_info": {
   "codemirror_mode": {
    "name": "ipython",
    "version": 3
   },
   "file_extension": ".py",
   "mimetype": "text/x-python",
   "name": "python",
   "nbconvert_exporter": "python",
   "pygments_lexer": "ipython3",
   "version": "3.9.7"
  }
 },
 "nbformat": 4,
 "nbformat_minor": 5
}
