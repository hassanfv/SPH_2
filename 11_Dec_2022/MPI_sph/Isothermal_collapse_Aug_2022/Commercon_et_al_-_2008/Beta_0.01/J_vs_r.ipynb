{
 "cells": [
  {
   "cell_type": "code",
   "execution_count": 1,
   "id": "7688bd76",
   "metadata": {},
   "outputs": [],
   "source": [
    "import numpy as np\n",
    "import matplotlib.pyplot as plt\n",
    "import glob\n",
    "import pickle"
   ]
  },
  {
   "cell_type": "code",
   "execution_count": 2,
   "id": "d0209755",
   "metadata": {},
   "outputs": [
    {
     "name": "stdout",
     "output_type": "stream",
     "text": [
      "UnitDensity_in_cgs = 2.555477932111449e-18 g/cm^3\n",
      "unitVelocity_in_cm_per_s = 33979.12 cm/s\n"
     ]
    }
   ],
   "source": [
    "M_sun = 1.98992e+33 # gram\n",
    "UnitMass_in_g = 1.0 * M_sun       # !!!!!!!!!!!!!!!!!!!!!!!!! CHANGE !!!!!!!!!!!!!!!!!\n",
    "UnitRadius_in_cm = 9.2e16  #!!!!!!!!!!!!!! CHANGE !!!!!!!!!!!!!!!!!!\n",
    "UnitDensity_in_cgs = UnitMass_in_g / UnitRadius_in_cm**3\n",
    "\n",
    "print(f'UnitDensity_in_cgs = {UnitDensity_in_cgs} g/cm^3')\n",
    "\n",
    "G = 6.6738e-8\n",
    "rgas = 9.2e16                                     # The initial radius of the cloud in cm\n",
    "rho0 = 6.02e-19                                   # The initial average density\n",
    "tff = np.sqrt(3*np.pi/(32*G*rho0))                # The free-fall time = 3.4e4 yr\n",
    "unitTime_in_s = tff                               # Scaling time to free-fall time\n",
    "unitLength_in_cm = rgas                           # Scaling distance to the initial cloud radius\n",
    "\n",
    "unitVelocity_in_cm_per_s = unitLength_in_cm / unitTime_in_s          # The internal velocity unit\n",
    "print(f'unitVelocity_in_cm_per_s = {round(unitVelocity_in_cm_per_s, 2)} cm/s')"
   ]
  },
  {
   "cell_type": "code",
   "execution_count": 9,
   "id": "ba113b31",
   "metadata": {},
   "outputs": [],
   "source": [
    "NN = 7500\n",
    "\n",
    "j = 1375\n",
    "\n",
    "filz = np.sort(glob.glob('/mnt/Linux_Shared_Folder_2022/Outputs_103k/*.pkl'))"
   ]
  },
  {
   "cell_type": "code",
   "execution_count": 10,
   "id": "7f5d5e58",
   "metadata": {},
   "outputs": [
    {
     "data": {
      "text/plain": [
       "'/mnt/Linux_Shared_Folder_2022/Outputs_103k/01375.pkl'"
      ]
     },
     "execution_count": 10,
     "metadata": {},
     "output_type": "execute_result"
    }
   ],
   "source": [
    "filz[j]"
   ]
  },
  {
   "cell_type": "code",
   "execution_count": 11,
   "id": "b1f0b668",
   "metadata": {},
   "outputs": [
    {
     "name": "stdout",
     "output_type": "stream",
     "text": [
      "rho =  [3.31772479e-23 3.42379631e-23 3.42985840e-23 ... 9.95500735e-14\n",
      " 1.00122564e-13 1.01934205e-13]\n",
      "Done !!!\n"
     ]
    }
   ],
   "source": [
    "with open(filz[j], 'rb') as f:\n",
    "    data = pickle.load(f)\n",
    "\n",
    "r = data['pos']\n",
    "h = data['h']\n",
    "v = data['v']\n",
    "rho = data['rho']\n",
    "#print(r.shape)\n",
    "\n",
    "#print('h = ', np.sort(h))\n",
    "\n",
    "x = r[:, 0]\n",
    "y = r[:, 1]\n",
    "z = r[:, 2]\n",
    "t = data['current_t']\n",
    "unitTime_in_kyr = data['unitTime_in_kyr']\n",
    "\n",
    "print('rho = ', np.sort(rho)*UnitDensity_in_cgs)\n",
    "\n",
    "vx = v[:, 0]\n",
    "vy = v[:, 1]\n",
    "vz = v[:, 2]\n",
    "\n",
    "J = []\n",
    "\n",
    "for i in range(len(x)-NN):\n",
    "    \n",
    "    Jt = 0.0\n",
    "    \n",
    "    for j in range(NN):\n",
    "        Jt += x[i+j]*vy[i+j] - y[i+j]*vx[i+j]\n",
    "    \n",
    "    J.append([i, rho[i], Jt/NN])\n",
    "\n",
    "J = np.array(J)\n",
    "rhot = J[:, 1]\n",
    "nrho = np.argsort(rhot)[::-1]\n",
    "J = J[nrho, :]\n",
    "print('Done !!!')"
   ]
  },
  {
   "cell_type": "code",
   "execution_count": 13,
   "id": "b204076c",
   "metadata": {},
   "outputs": [
    {
     "name": "stdout",
     "output_type": "stream",
     "text": [
      "(103964, 3)\n",
      "h =  [0.03685552 0.03685552 0.03685552 ... 0.05176821 0.05176821 0.05176821]\n",
      "rho =  [2.44748397e-19 2.52550199e-19 2.52707251e-19 ... 8.17328029e-19\n",
      " 8.23796140e-19 8.28668061e-19]\n",
      "Done !!!\n"
     ]
    }
   ],
   "source": [
    "j = 0\n",
    "\n",
    "filz = np.sort(glob.glob('/mnt/Linux_Shared_Folder_2022/Outputs_103k/*.pkl'))\n",
    "\n",
    "with open(filz[j], 'rb') as f:\n",
    "    data = pickle.load(f)\n",
    "\n",
    "r = data['pos']\n",
    "h = data['h']\n",
    "v = data['v']\n",
    "print(r.shape)\n",
    "\n",
    "print('h = ', np.sort(h))\n",
    "\n",
    "x = r[:, 0]\n",
    "y = r[:, 1]\n",
    "z = r[:, 2]\n",
    "t = data['current_t']\n",
    "rho = data['rho']\n",
    "unitTime_in_kyr = data['unitTime_in_kyr']\n",
    "\n",
    "print('rho = ', np.sort(rho)*UnitDensity_in_cgs)\n",
    "\n",
    "vx = v[:, 0]\n",
    "vy = v[:, 1]\n",
    "vz = v[:, 2]\n",
    "\n",
    "J0 = []\n",
    "\n",
    "for i in range(len(x)-NN):\n",
    "    \n",
    "    Jt = 0.0\n",
    "    \n",
    "    for j in range(NN):\n",
    "        Jt += x[i+j]*vy[i+j] - y[i+j]*vx[i+j]\n",
    "    \n",
    "    J0.append([i, Jt/NN])\n",
    "\n",
    "J0 = np.array(J0)\n",
    "J0 = J0[nrho, :]\n",
    "print('Done !!!')"
   ]
  },
  {
   "cell_type": "code",
   "execution_count": 14,
   "id": "458d0c36",
   "metadata": {},
   "outputs": [
    {
     "data": {
      "text/plain": [
       "(0.85, 1.15)"
      ]
     },
     "execution_count": 14,
     "metadata": {},
     "output_type": "execute_result"
    },
    {
     "data": {
      "image/png": "[encoded data removed]",
      "text/plain": [
       "<Figure size 432x288 with 1 Axes>"
      ]
     },
     "metadata": {
      "needs_background": "light"
     },
     "output_type": "display_data"
    }
   ],
   "source": [
    "plt.scatter(J[:, 0], J[:, 2]/J0[:, 1], s = 0.01, color = 'k')\n",
    "#plt.plot(J[:, 0], J[:, 2]/J0[:, 1], color = 'k')\n",
    "plt.ylim(0.85, 1.15)"
   ]
  },
  {
   "cell_type": "code",
   "execution_count": 97,
   "id": "302e0772",
   "metadata": {},
   "outputs": [
    {
     "data": {
      "text/plain": [
       "(0.85, 1.15)"
      ]
     },
     "execution_count": 97,
     "metadata": {},
     "output_type": "execute_result"
    },
    {
     "data": {
      "image/png": "[encoded data removed]",
      "text/plain": [
       "<Figure size 432x288 with 1 Axes>"
      ]
     },
     "metadata": {
      "needs_background": "light"
     },
     "output_type": "display_data"
    }
   ],
   "source": [
    "plt.scatter(J[:, 0], J[:, 2]/J0[:, 1], s = 0.01, color = 'k')\n",
    "#plt.plot(J[:, 0], J[:, 2]/J0[:, 1], color = 'k')\n",
    "plt.ylim(0.85, 1.15)"
   ]
  }
 ],
 "metadata": {
  "kernelspec": {
   "display_name": "Python 3 (ipykernel)",
   "language": "python",
   "name": "python3"
  },
  "language_info": {
   "codemirror_mode": {
    "name": "ipython",
    "version": 3
   },
   "file_extension": ".py",
   "mimetype": "text/x-python",
   "name": "python",
   "nbconvert_exporter": "python",
   "pygments_lexer": "ipython3",
   "version": "3.9.7"
  }
 },
 "nbformat": 4,
 "nbformat_minor": 5
}
