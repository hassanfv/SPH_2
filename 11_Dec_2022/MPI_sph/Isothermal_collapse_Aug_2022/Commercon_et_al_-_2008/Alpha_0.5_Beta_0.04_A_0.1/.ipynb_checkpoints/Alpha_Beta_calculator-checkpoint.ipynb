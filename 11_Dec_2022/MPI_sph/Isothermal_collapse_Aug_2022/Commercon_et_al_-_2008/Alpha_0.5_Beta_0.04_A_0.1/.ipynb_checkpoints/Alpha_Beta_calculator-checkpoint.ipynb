{
 "cells": [
  {
   "cell_type": "code",
   "execution_count": 1,
   "id": "0da52132",
   "metadata": {},
   "outputs": [],
   "source": [
    "import numpy as np"
   ]
  },
  {
   "cell_type": "code",
   "execution_count": 2,
   "id": "cdc74b10",
   "metadata": {},
   "outputs": [],
   "source": [
    "grav_const_in_cgs = G = 6.6738e-8\n",
    "MSun = 1.98892e33  \n",
    "\n",
    "Mcld = 1.0 * MSun                               # The mass of the cloud\n",
    "Rcld = 7.07e16                                  # The initial radius of the cloud in cm\n",
    "omega = 2.12e-13                                # The initial angular velocity of the cloud in radians s^-1 \n",
    "rho0 = 1.35e-18                                 # The initial average density\n",
    "cs = 1.9e4  # this corrsponds to mu = 2.28 in (kB * T_0 / mH2)**0.5 (mH2 = muu * mH)  # The sound speed"
   ]
  },
  {
   "cell_type": "markdown",
   "id": "79b678a8",
   "metadata": {},
   "source": [
    " ## Calculate angular velocity $\\Omega$ from $\\beta$ (Commercon et al - 2007 or 2008)"
   ]
  },
  {
   "cell_type": "code",
   "execution_count": 3,
   "id": "77bd1e45",
   "metadata": {},
   "outputs": [
    {
     "name": "stdout",
     "output_type": "stream",
     "text": [
      "omega = 2.12E-13 rad/s\n"
     ]
    }
   ],
   "source": [
    "Beta = 0.04\n",
    "\n",
    "omega = (3.*Beta*G*Mcld /Rcld**3)**0.5\n",
    "\n",
    "print(f'omega = {omega:.2E} rad/s')"
   ]
  },
  {
   "cell_type": "code",
   "execution_count": null,
   "id": "4aa4e1da",
   "metadata": {},
   "outputs": [],
   "source": []
  },
  {
   "cell_type": "markdown",
   "id": "ffd0731f",
   "metadata": {},
   "source": [
    "## Calculate $\\alpha$ (eq. 1 in Commercon et al - 2007 or 2008)"
   ]
  },
  {
   "cell_type": "code",
   "execution_count": 4,
   "id": "1296ff84",
   "metadata": {},
   "outputs": [],
   "source": [
    "mH = 1.6726e-24 # gram\n",
    "kB = 1.3807e-16  # cm2 g s-2 K-1\n",
    "Tcld = 10. # K,    # !!!!!!!!!!!!!!!!!!!!!!!!!!!!!!!!!!!!!!!!!!!!!!!!!!!!!\n",
    "# Note that for pure molecular hydrogen mu=2. For molecular gas with ~10% He by mass and trace metals, mu ~ 2.7 is often used.\n",
    "mu = 2.28 # !!!!!!!!!! Gives c_s = 1.9e4"
   ]
  },
  {
   "cell_type": "code",
   "execution_count": 5,
   "id": "f0a80846",
   "metadata": {},
   "outputs": [
    {
     "name": "stdout",
     "output_type": "stream",
     "text": [
      "alpha = 0.482\n"
     ]
    }
   ],
   "source": [
    "alpha = 5./2. * Rcld*kB*Tcld / (G*Mcld*mu*mH)\n",
    "\n",
    "print(f'alpha = {alpha:.3f}')"
   ]
  },
  {
   "cell_type": "code",
   "execution_count": null,
   "id": "6a7fa330",
   "metadata": {},
   "outputs": [],
   "source": []
  },
  {
   "cell_type": "markdown",
   "id": "00171f1c",
   "metadata": {},
   "source": [
    "## Calculate frr-fall time scale"
   ]
  },
  {
   "cell_type": "code",
   "execution_count": 6,
   "id": "e9e3383f",
   "metadata": {},
   "outputs": [
    {
     "name": "stdout",
     "output_type": "stream",
     "text": [
      "tff in kyr = 57.29\n"
     ]
    }
   ],
   "source": [
    "tff = np.sqrt(3*np.pi/(32*G*rho0))\n",
    "tff_in_kyr = tff/3600/24/365.24/1000\n",
    "print(f'tff in kyr = {tff_in_kyr:.2f}')"
   ]
  },
  {
   "cell_type": "code",
   "execution_count": null,
   "id": "242d6e5a",
   "metadata": {},
   "outputs": [],
   "source": []
  },
  {
   "cell_type": "markdown",
   "id": "09cb4c43",
   "metadata": {},
   "source": [
    "## unit_length in AU"
   ]
  },
  {
   "cell_type": "code",
   "execution_count": 8,
   "id": "4ee535ec",
   "metadata": {},
   "outputs": [
    {
     "name": "stdout",
     "output_type": "stream",
     "text": [
      "unit_length = 4726\n"
     ]
    }
   ],
   "source": [
    "unit_length = Rcld\n",
    "\n",
    "one_AU = 1.496e13 # cm\n",
    "\n",
    "print(f'unit_length = {round(unit_length/one_AU)}')\n"
   ]
  },
  {
   "cell_type": "code",
   "execution_count": null,
   "id": "7843fae5",
   "metadata": {},
   "outputs": [],
   "source": []
  }
 ],
 "metadata": {
  "kernelspec": {
   "display_name": "Python 3 (ipykernel)",
   "language": "python",
   "name": "python3"
  },
  "language_info": {
   "codemirror_mode": {
    "name": "ipython",
    "version": 3
   },
   "file_extension": ".py",
   "mimetype": "text/x-python",
   "name": "python",
   "nbconvert_exporter": "python",
   "pygments_lexer": "ipython3",
   "version": "3.9.7"
  }
 },
 "nbformat": 4,
 "nbformat_minor": 5
}
