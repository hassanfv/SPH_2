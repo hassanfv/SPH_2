{
 "cells": [
  {
   "cell_type": "code",
   "execution_count": 29,
   "id": "8c13e1f5",
   "metadata": {},
   "outputs": [],
   "source": [
    "import numpy as np\n",
    "from rebin import rebin #pip install rebin\n",
    "import matplotlib.pyplot as plt\n",
    "import random\n",
    "import h5py\n",
    "from libsx import *\n",
    "import pickle\n",
    "\n",
    "np.random.seed = 42"
   ]
  },
  {
   "cell_type": "code",
   "execution_count": 30,
   "id": "75ecb000",
   "metadata": {},
   "outputs": [],
   "source": [
    "nGasPower = 13"
   ]
  },
  {
   "cell_type": "code",
   "execution_count": 31,
   "id": "ed529173",
   "metadata": {},
   "outputs": [],
   "source": [
    "# filename of output file to be created\n",
    "#foutbase = \"SIC_\"                                                     \n",
    "#foutsuffix = \".dat\"\n",
    "#fout = foutbase + str(nGasPower).zfill(3) + foutsuffix"
   ]
  },
  {
   "cell_type": "code",
   "execution_count": 32,
   "id": "990b404a",
   "metadata": {},
   "outputs": [],
   "source": [
    "grav_const_in_cgs = G = 6.6738e-8\n",
    "MSun = 1.98892e33"
   ]
  },
  {
   "cell_type": "code",
   "execution_count": 33,
   "id": "4f02c845",
   "metadata": {},
   "outputs": [],
   "source": [
    "Ngas = 2**round(nGasPower)                      # The number of gas particles in the simulation"
   ]
  },
  {
   "cell_type": "code",
   "execution_count": 34,
   "id": "bf20243a",
   "metadata": {},
   "outputs": [
    {
     "name": "stdout",
     "output_type": "stream",
     "text": [
      "omega_0 = 7.15E-14\n",
      "alpha =  0.627\n",
      "cs =  19027.7\n"
     ]
    }
   ],
   "source": [
    "Mgas = MSun                                     # The mass of the cloud\n",
    "rgas = 9.2e16  #!!!!!!!!!!!!!!!!!!!!!!!!        # The initial radius of the cloud in cm\n",
    "\n",
    "Beta = 0.01 # !!!!!!!!!!!!!!!!!!!!!!!!!!!!!!!!!!!!!!!!!!!!!!!!!!!!!!!!!\n",
    "omega_0 = (3.*Beta*G*Mgas/rgas**3)**0.5\n",
    "print(f'omega_0 = {omega_0:.2E}')\n",
    "\n",
    "omega = omega_0                                 # The initial angular velocity of the cloud in radians s^-1 \n",
    "rho0 = 6.02e-19 #!!!!!!!!!!!!!!!!!!!!!!!!       # The initial average density\n",
    "#cs = 1.9e4                                     # The sound speed\n",
    "\n",
    "mH = 1.6726e-24 # gram\n",
    "kB = 1.3807e-16  # cm2 g s-2 K-1\n",
    "T_0 = 10. # K,  # !!!!!!!!!!!!!!!!!!!!!!!!!!!!!!!!!!!!!!!!!!!!!!!!!!!!!\n",
    "# Note that for pure molecular hydrogen mu=2. For molecular gas with ~10% He by mass and trace metals, mu ~ 2.7 is often used.\n",
    "muu = 2.28 # !!!!!!!!!! Gives c_s = 1.9e4\n",
    "mH2 = muu * mH\n",
    "\n",
    "alpha = 5./2.*rgas*kB*T_0/G/Mgas/muu/mH\n",
    "print('alpha = ', round(alpha, 3))\n",
    "\n",
    "cs = (kB * T_0 / mH2)**0.5   # !!!!!!!!!!!!!!!!!!!!!!!!!!!!!!!!!!!!!!!!!!!!!!!!!!!!!\n",
    "\n",
    "print('cs = ', round(cs, 2))\n"
   ]
  },
  {
   "cell_type": "code",
   "execution_count": 35,
   "id": "47143599",
   "metadata": {},
   "outputs": [
    {
     "name": "stdout",
     "output_type": "stream",
     "text": [
      "tff in kyr = 85.80\n"
     ]
    }
   ],
   "source": [
    "# Calculating derived quantities\n",
    "tff = np.sqrt(3*np.pi/(32*G*rho0))                   # The free-fall time = 3.4e4 yr\n",
    "tff_in_kyr = tff/3600/24/365.24/1000\n",
    "print(f'tff in kyr = {tff_in_kyr:.2f}')"
   ]
  },
  {
   "cell_type": "code",
   "execution_count": 36,
   "id": "adebb9aa",
   "metadata": {},
   "outputs": [],
   "source": [
    "# Setting the units of the simulation\n",
    "unitMass_in_g = MSun\n",
    "unitLength_in_cm = rgas\n",
    "unitTime_in_s = (unitLength_in_cm**3/grav_const_in_cgs/unitMass_in_g)**0.5\n",
    "unitVelocity_in_cm_per_s = unitLength_in_cm / unitTime_in_s"
   ]
  },
  {
   "cell_type": "code",
   "execution_count": 37,
   "id": "9c166574",
   "metadata": {},
   "outputs": [
    {
     "name": "stdout",
     "output_type": "stream",
     "text": [
      "Unit_time_in_s = 2422068880502.64 seconds\n",
      "Unit_time in kyrs = 76.75 kyrs\n",
      "Unit_time in Myrs = 0.0768 Myrs\n"
     ]
    }
   ],
   "source": [
    "print(f'Unit_time_in_s = {round(unitTime_in_s, 2)} seconds')\n",
    "print(f'Unit_time in kyrs = {round(unitTime_in_s/3600./24./365.25/1000., 2)} kyrs')\n",
    "print(f'Unit_time in Myrs = {round(unitTime_in_s/3600./24./365.25/1e6, 4)} Myrs')"
   ]
  },
  {
   "cell_type": "code",
   "execution_count": 38,
   "id": "6aaa8839",
   "metadata": {},
   "outputs": [
    {
     "name": "stdout",
     "output_type": "stream",
     "text": [
      "unitVelocity_in_cm_per_s = 37984.06 cm/s\n"
     ]
    }
   ],
   "source": [
    "print(f'unitVelocity_in_cm_per_s = {round(unitVelocity_in_cm_per_s, 2)} cm/s')"
   ]
  },
  {
   "cell_type": "code",
   "execution_count": 39,
   "id": "8c702b7a",
   "metadata": {},
   "outputs": [],
   "source": [
    "# calling things to code units\n",
    "rgas /= unitLength_in_cm\n",
    "Mgas /= unitMass_in_g\n",
    "omega *= unitTime_in_s"
   ]
  },
  {
   "cell_type": "code",
   "execution_count": 40,
   "id": "67d632df",
   "metadata": {},
   "outputs": [
    {
     "name": "stdout",
     "output_type": "stream",
     "text": [
      "UnitDensity_in_cgs = 2.55E-18\n"
     ]
    }
   ],
   "source": [
    "UnitDensity_in_cgs = unitMass_in_g / unitLength_in_cm**3\n",
    "print(f'UnitDensity_in_cgs = {UnitDensity_in_cgs:.2E}')"
   ]
  },
  {
   "cell_type": "code",
   "execution_count": 41,
   "id": "d325c66d",
   "metadata": {},
   "outputs": [],
   "source": [
    "# Making a uniform grid of particles from which I will carve a sphere\n",
    "# with Ngas particles.\n",
    "\n",
    "regular_grid = False\n",
    "\n",
    "if regular_grid:\n",
    "    ninds = max((15,2*round(((1.1*Ngas)*3./4/np.pi)**.333333333)))              # Size of grid template\n",
    "    \n",
    "    inds = np.arange(ninds)-np.floor(ninds/2)\n",
    "    \n",
    "    zarr, yarr, xarr = np.mgrid[inds[0]:inds[-1]:ninds+0j, inds[0]:inds[-1]:ninds+0j, inds[0]:inds[-1]:ninds+0j]\n",
    "    \n",
    "    gridInds=np.array(range(len(xarr)))\n",
    "    \n",
    "    xarr = xarr.flatten().reshape(1, -1)\n",
    "    yarr = yarr.flatten().reshape(1, -1)\n",
    "    zarr = zarr.flatten().reshape(1, -1)\n",
    "\n",
    "    pos = np.transpose(np.concatenate([xarr, yarr, zarr]))\n",
    "\n",
    "    rarr = (pos[:,0]**2 + pos[:,1]**2 + pos[:,2]**2)**0.5       # vector of distance from origin to grid points \n",
    "    \n",
    "    nsrt = (np.argsort(rarr))[:Ngas-1]  # Indices for Ngas points closest to origin (carving sphere !!!)\n",
    "    rsrt = rarr[nsrt]\n",
    "    \n",
    "    if max(rsrt) > ninds/2:\n",
    "        print('Must increase ninds!') # You're trying to simulate a cloud with a very large number of particles.\n",
    "                                      # Increase ninds if you want this error to go away.\n",
    "    \n",
    "    pos = pos[nsrt, :] # Position of particles in sphere\n",
    "    \n",
    "    pos *= rgas/max(rsrt)  #Scaling particle positions to where I want them to be in the simulation\n",
    "    \n",
    "    r = (pos[:,0]**2 + pos[:,1]**2 + pos[:,2]**2)**0.5\n",
    "\n",
    "else:\n",
    "    \n",
    "    r = np.random.random(Ngas)*rgas\n",
    "    u = np.random.random(Ngas)*2 - 1\n",
    "    theta = np.random.random(Ngas)*2*np.pi\n",
    "\n",
    "    xt = (r**(1./3.) * (1. - u**2)**0.5 * np.cos(theta)).reshape(1, -1)\n",
    "    yt = (r**(1./3.) * (1. - u**2)**0.5 * np.sin(theta)).reshape(1, -1)\n",
    "    zt = (r**(1./3.) * u).reshape(1, -1)\n",
    "\n",
    "    pos = np.transpose(np.concatenate([xt, yt, zt]))\n",
    "    # Shouldn't we also normalize this one !!!!!??????\n",
    "\n"
   ]
  },
  {
   "cell_type": "markdown",
   "id": "7cd445ea",
   "metadata": {},
   "source": [
    "## Calculating particle velocities in rectangular coordinates"
   ]
  },
  {
   "cell_type": "code",
   "execution_count": 42,
   "id": "76190a1a",
   "metadata": {},
   "outputs": [
    {
     "name": "stdout",
     "output_type": "stream",
     "text": [
      "(8192, 3) (8192, 3) (8192,)\n"
     ]
    }
   ],
   "source": [
    "rxy = (pos[:,0]**2 + pos[:,1]**2)**0.5\n",
    "vel = np.zeros_like(pos)\n",
    "\n",
    "print(vel.shape, pos.shape, r.shape)\n",
    "\n",
    "vel[:,0] = -r*omega*pos[:,1]/rxy * rxy/r    # r * omega * cos(theta) * sin(phi)\n",
    "vel[:,1] = r*omega*pos[:,0]/rxy * rxy/r     # r * omega * sin(theta) * sin(phi)\n",
    "vel[:,2] = 0                                # theta is angle with respec to the z axis, phi is the azimuthal angle\n",
    "\n",
    "wh = np.argwhere(np.isnan(vel))\n",
    "if len(wh) > 0:\n",
    "    vel[wh] = 0.0\n"
   ]
  },
  {
   "cell_type": "markdown",
   "id": "6c76d94b",
   "metadata": {},
   "source": [
    "## Calculating particle masses"
   ]
  },
  {
   "cell_type": "code",
   "execution_count": 43,
   "id": "48222899",
   "metadata": {},
   "outputs": [],
   "source": [
    "mp = Mgas / pos.shape[0]\n",
    "\n",
    "# Imposing an m=2 density perturbation with an amplitude of 10 percent.\n",
    "#masses = mp * (1 + .1*((pos[:, 0]/rxy)**2 - (pos[:, 1]/rxy)**2))\n",
    "masses = mp * np.ones(pos.shape[0])\n",
    "#boxsize = rgas/unitLength_in_cm\n",
    "\n",
    "wh = np.argwhere(np.isnan(masses)) # Fixes an issue with the particle at the origin\n",
    "if len(wh) > 0:\n",
    "    masses[wh] = mp"
   ]
  },
  {
   "cell_type": "code",
   "execution_count": 44,
   "id": "d16742f7",
   "metadata": {},
   "outputs": [],
   "source": [
    "# Assign particle sound speed (isothermal EOS)\n",
    "u = np.zeros(len(masses)) + cs**2 / unitVelocity_in_cm_per_s**2"
   ]
  },
  {
   "cell_type": "markdown",
   "id": "8eae9da9",
   "metadata": {},
   "source": [
    "## Create header"
   ]
  },
  {
   "cell_type": "code",
   "execution_count": 45,
   "id": "9007ca2b",
   "metadata": {},
   "outputs": [],
   "source": [
    "#write intial conditions file\n",
    "\n",
    "ids = np.arange(pos.shape[0])\n",
    "\n",
    "FloatType = np.float32  # double precision: np.float64, for single use np.float32\n",
    "IntType = np.int32\n",
    "\n",
    "IC = h5py.File('hfv_ic.hdf5', 'w')\n",
    "\n",
    "## create hdf5 groups\n",
    "header = IC.create_group(\"Header\")\n",
    "part0 = IC.create_group(\"PartType0\")\n",
    "\n",
    "## header entries\n",
    "NumPart = np.array([pos.shape[0]], dtype=IntType)\n",
    "header.attrs.create(\"NumPart_ThisFile\", NumPart)\n",
    "header.attrs.create(\"NumPart_Total\", NumPart)\n",
    "header.attrs.create(\"NumPart_Total_HighWord\", np.zeros(1, dtype=IntType) )\n",
    "header.attrs.create(\"MassTable\", np.zeros(1, dtype=IntType) )\n",
    "header.attrs.create(\"Time\", 0.0)\n",
    "header.attrs.create(\"Redshift\", 0.0)\n",
    "header.attrs.create(\"BoxSize\", 0)\n",
    "header.attrs.create(\"NumFilesPerSnapshot\", 1)\n",
    "header.attrs.create(\"Omega0\", 0.0)\n",
    "header.attrs.create(\"OmegaB\", 0.0)\n",
    "header.attrs.create(\"OmegaLambda\", 0.0)\n",
    "header.attrs.create(\"HubbleParam\", 1.0)\n",
    "header.attrs.create(\"Flag_Sfr\", 0)\n",
    "header.attrs.create(\"Flag_Cooling\", 0)\n",
    "header.attrs.create(\"Flag_StellarAge\", 0)\n",
    "header.attrs.create(\"Flag_Metals\", 0)\n",
    "header.attrs.create(\"Flag_Feedback\", 0)\n",
    "if pos.dtype == np.float64:\n",
    "    header.attrs.create(\"Flag_DoublePrecision\", 1)\n",
    "else:\n",
    "    header.attrs.create(\"Flag_DoublePrecision\", 0)\n",
    "\n",
    "## copy datasets\n",
    "part0.create_dataset(\"Coordinates\", data=pos)\n",
    "part0.create_dataset(\"Velocities\", data=vel)\n",
    "part0.create_dataset(\"ParticleIDs\", data=ids )\n",
    "part0.create_dataset(\"Masses\", data=masses)\n",
    "part0.create_dataset(\"InternalEnergy\", data=u)\n",
    "\n",
    "IC.close()"
   ]
  },
  {
   "cell_type": "code",
   "execution_count": 46,
   "id": "c1ea739f",
   "metadata": {},
   "outputs": [
    {
     "data": {
      "text/plain": [
       "(8192, 3)"
      ]
     },
     "execution_count": 46,
     "metadata": {},
     "output_type": "execute_result"
    }
   ],
   "source": [
    "pos.shape"
   ]
  },
  {
   "cell_type": "code",
   "execution_count": 47,
   "id": "f2196e7f",
   "metadata": {},
   "outputs": [
    {
     "name": "stdout",
     "output_type": "stream",
     "text": [
      "Done !\n"
     ]
    }
   ],
   "source": [
    "print('Done !')"
   ]
  },
  {
   "cell_type": "code",
   "execution_count": 48,
   "id": "67e10439",
   "metadata": {},
   "outputs": [
    {
     "data": {
      "text/plain": [
       "-0.6536436208636119"
      ]
     },
     "execution_count": 48,
     "metadata": {},
     "output_type": "execute_result"
    }
   ],
   "source": [
    "t = 2.0\n",
    "\n",
    "np.cos(2.*t)"
   ]
  },
  {
   "cell_type": "code",
   "execution_count": 49,
   "id": "1360977c",
   "metadata": {},
   "outputs": [
    {
     "data": {
      "text/plain": [
       "-0.6536436208636119"
      ]
     },
     "execution_count": 49,
     "metadata": {},
     "output_type": "execute_result"
    }
   ],
   "source": [
    "np.cos(t)**2 - np.sin(t)**2"
   ]
  },
  {
   "cell_type": "code",
   "execution_count": 50,
   "id": "347b3fc2",
   "metadata": {},
   "outputs": [],
   "source": [
    "h = do_smoothingX((pos, pos))"
   ]
  },
  {
   "cell_type": "code",
   "execution_count": 51,
   "id": "1ff1116d",
   "metadata": {},
   "outputs": [],
   "source": [
    "dictx = {'r': pos, 'v': vel, 'm': masses,\n",
    "         'unitVelocity': unitVelocity_in_cm_per_s,\n",
    "         'unitTime': unitTime_in_s,\n",
    "         't_ff': tff}\n",
    "\n",
    "num = str(int(np.floor(pos.shape[0]/1000)))\n",
    "\n",
    "with open('hfv_IC_RND_' + num +'k_tmp.pkl', 'wb') as f:\n",
    "    pickle.dump(dictx, f)"
   ]
  },
  {
   "cell_type": "markdown",
   "id": "ff2b64f7",
   "metadata": {},
   "source": [
    "## Plot the particles"
   ]
  },
  {
   "cell_type": "code",
   "execution_count": 52,
   "id": "a7e0e4ef",
   "metadata": {},
   "outputs": [
    {
     "data": {
      "image/png": "[encoded data removed]",
      "text/plain": [
       "<Figure size 360x360 with 1 Axes>"
      ]
     },
     "metadata": {
      "needs_background": "light"
     },
     "output_type": "display_data"
    }
   ],
   "source": [
    "plt.figure(figsize = (5,5))\n",
    "plt.scatter(pos[:, 0], pos[:, 1], s = 0.1);"
   ]
  },
  {
   "cell_type": "markdown",
   "id": "d96ae3bb",
   "metadata": {},
   "source": [
    "## Density profile"
   ]
  },
  {
   "cell_type": "code",
   "execution_count": 53,
   "id": "eea982af",
   "metadata": {},
   "outputs": [],
   "source": [
    "#-------- rho ---------\n",
    "rho = getDensity(pos, masses, h)"
   ]
  },
  {
   "cell_type": "code",
   "execution_count": 54,
   "id": "c00fc30b",
   "metadata": {},
   "outputs": [],
   "source": [
    "rr = (pos[:, 0]*pos[:, 0] + pos[:, 1]*pos[:, 1] + pos[:, 2]*pos[:, 2])**0.5"
   ]
  },
  {
   "cell_type": "code",
   "execution_count": 55,
   "id": "6a23b226",
   "metadata": {},
   "outputs": [
    {
     "data": {
      "image/png": "[encoded data removed]",
      "text/plain": [
       "<Figure size 432x288 with 1 Axes>"
      ]
     },
     "metadata": {
      "needs_background": "light"
     },
     "output_type": "display_data"
    }
   ],
   "source": [
    "plt.scatter(rr, (rho)*UnitDensity_in_cgs, s = 0.1);"
   ]
  },
  {
   "cell_type": "code",
   "execution_count": 56,
   "id": "9e1bcbd3",
   "metadata": {},
   "outputs": [
    {
     "data": {
      "text/plain": [
       "2.55419372071998e-18"
      ]
     },
     "execution_count": 56,
     "metadata": {},
     "output_type": "execute_result"
    }
   ],
   "source": [
    "UnitDensity_in_cgs"
   ]
  },
  {
   "cell_type": "code",
   "execution_count": null,
   "id": "5fcb6412",
   "metadata": {},
   "outputs": [],
   "source": []
  }
 ],
 "metadata": {
  "kernelspec": {
   "display_name": "Python 3 (ipykernel)",
   "language": "python",
   "name": "python3"
  },
  "language_info": {
   "codemirror_mode": {
    "name": "ipython",
    "version": 3
   },
   "file_extension": ".py",
   "mimetype": "text/x-python",
   "name": "python",
   "nbconvert_exporter": "python",
   "pygments_lexer": "ipython3",
   "version": "3.9.7"
  }
 },
 "nbformat": 4,
 "nbformat_minor": 5
}
