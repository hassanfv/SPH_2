{
 "cells": [
  {
   "cell_type": "code",
   "execution_count": 19,
   "id": "28fbb31b",
   "metadata": {},
   "outputs": [],
   "source": [
    "import numpy as np"
   ]
  },
  {
   "cell_type": "code",
   "execution_count": 20,
   "id": "349ed4a1",
   "metadata": {},
   "outputs": [],
   "source": [
    "Rgas = 8.3143e7 # erg.K^-1.mol^-1\n",
    "M_sun = 1.98992e+33 # gram\n",
    "G = 6.67259e-8 #  cm3 g-1 s-2\n",
    "mu = 2.7"
   ]
  },
  {
   "cell_type": "code",
   "execution_count": 21,
   "id": "4ec88cba",
   "metadata": {},
   "outputs": [],
   "source": [
    "Mcld = 1.0 * M_sun\n",
    "rho = 1e-14 # g/cm^3\n",
    "T = 10. #K"
   ]
  },
  {
   "cell_type": "code",
   "execution_count": 22,
   "id": "125fc7ad",
   "metadata": {},
   "outputs": [
    {
     "name": "stdout",
     "output_type": "stream",
     "text": [
      "Jeans mass = 6.055038905737873e+30 g\n"
     ]
    }
   ],
   "source": [
    "M_J = (5.*Rgas*T/2./G/mu)**(3./2.) * (4.*np.pi*rho/3.)**(-1./2.)\n",
    "print(f'Jeans mass = {M_J} g')"
   ]
  },
  {
   "cell_type": "code",
   "execution_count": 23,
   "id": "e55e90c8",
   "metadata": {},
   "outputs": [],
   "source": [
    "msph = M_J/64"
   ]
  },
  {
   "cell_type": "code",
   "execution_count": 24,
   "id": "7e6a11a2",
   "metadata": {},
   "outputs": [
    {
     "data": {
      "text/plain": [
       "21032.875590496376"
      ]
     },
     "execution_count": 24,
     "metadata": {},
     "output_type": "execute_result"
    }
   ],
   "source": [
    "Npart = Mcld/msph\n",
    "Npart"
   ]
  },
  {
   "cell_type": "code",
   "execution_count": null,
   "id": "506a90a9",
   "metadata": {},
   "outputs": [],
   "source": []
  },
  {
   "cell_type": "code",
   "execution_count": null,
   "id": "f3c037ef",
   "metadata": {},
   "outputs": [],
   "source": []
  }
 ],
 "metadata": {
  "kernelspec": {
   "display_name": "Python 3 (ipykernel)",
   "language": "python",
   "name": "python3"
  },
  "language_info": {
   "codemirror_mode": {
    "name": "ipython",
    "version": 3
   },
   "file_extension": ".py",
   "mimetype": "text/x-python",
   "name": "python",
   "nbconvert_exporter": "python",
   "pygments_lexer": "ipython3",
   "version": "3.9.7"
  }
 },
 "nbformat": 4,
 "nbformat_minor": 5
}
