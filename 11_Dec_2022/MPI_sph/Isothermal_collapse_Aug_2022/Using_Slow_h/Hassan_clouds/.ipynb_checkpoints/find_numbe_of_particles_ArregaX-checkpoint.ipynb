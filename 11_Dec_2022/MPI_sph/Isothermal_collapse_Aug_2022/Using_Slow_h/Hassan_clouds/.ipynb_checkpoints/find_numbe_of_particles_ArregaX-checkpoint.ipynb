{
 "cells": [
  {
   "cell_type": "markdown",
   "id": "6443a58d",
   "metadata": {},
   "source": [
    "## REFERENCE: Arreaga et al - 2022.\n",
    "Here we check if Jeans condition is satisfied, given Npart and rho_max."
   ]
  },
  {
   "cell_type": "code",
   "execution_count": 4,
   "id": "28fbb31b",
   "metadata": {},
   "outputs": [],
   "source": [
    "import numpy as np"
   ]
  },
  {
   "cell_type": "code",
   "execution_count": 22,
   "id": "349ed4a1",
   "metadata": {},
   "outputs": [],
   "source": [
    "M_sun = 1.98992e+33 # gram\n",
    "G = 6.67259e-8 #  cm3 g-1 s-2\n",
    "mu = 2.7\n",
    "N_ngb = 50"
   ]
  },
  {
   "cell_type": "code",
   "execution_count": 23,
   "id": "4ec88cba",
   "metadata": {},
   "outputs": [],
   "source": [
    "Npart = 13366240\n",
    "\n",
    "Mcld = 1.0e5 #* M_sun\n",
    "#rho = 1e-17 # g/cm^3\n",
    "#T = 35. #K"
   ]
  },
  {
   "cell_type": "code",
   "execution_count": 24,
   "id": "98d8121a",
   "metadata": {},
   "outputs": [],
   "source": [
    "gamma = 5./3.\n",
    "c_0 = 0.255e5\n",
    "rho_crit = 5.0e-14 # Arrega et al - 2022"
   ]
  },
  {
   "cell_type": "code",
   "execution_count": 25,
   "id": "95b57846",
   "metadata": {},
   "outputs": [],
   "source": [
    "rho_max = 5.0e-12 # We want to know Npart for this max rho. You can vary this for other conditions!!!"
   ]
  },
  {
   "cell_type": "code",
   "execution_count": 26,
   "id": "4d96adfe",
   "metadata": {},
   "outputs": [
    {
     "data": {
      "text/plain": [
       "121076.26345379316"
      ]
     },
     "execution_count": 26,
     "metadata": {},
     "output_type": "execute_result"
    }
   ],
   "source": [
    "csnd = (c_0*c_0 * (1.0 + (rho_max/rho_crit)**(gamma - 1.0)))**0.5\n",
    "csnd"
   ]
  },
  {
   "cell_type": "code",
   "execution_count": 27,
   "id": "fd48cbf1",
   "metadata": {},
   "outputs": [
    {
     "data": {
      "text/plain": [
       "0.007481535570212715"
      ]
     },
     "execution_count": 27,
     "metadata": {},
     "output_type": "execute_result"
    }
   ],
   "source": [
    "mp = Mcld / Npart\n",
    "mp"
   ]
  },
  {
   "cell_type": "code",
   "execution_count": 28,
   "id": "a8776370",
   "metadata": {},
   "outputs": [
    {
     "data": {
      "text/plain": [
       "0.06747426785734187"
      ]
     },
     "execution_count": 28,
     "metadata": {},
     "output_type": "execute_result"
    }
   ],
   "source": [
    "# Since rho is max therefore MJ is min !\n",
    "MJ_min = np.pi**(5./2.) / 6. * csnd**3 / (G**3 * rho_max)**0.5 / M_sun\n",
    "MJ_min"
   ]
  },
  {
   "cell_type": "code",
   "execution_count": 30,
   "id": "33c32d65",
   "metadata": {},
   "outputs": [
    {
     "data": {
      "text/plain": [
       "0.0006747426785734187"
      ]
     },
     "execution_count": 30,
     "metadata": {},
     "output_type": "execute_result"
    }
   ],
   "source": [
    "mr = MJ_min / 2. / N_ngb # The minimum resolvable mass\n",
    "mr"
   ]
  },
  {
   "cell_type": "code",
   "execution_count": 31,
   "id": "2be95204",
   "metadata": {},
   "outputs": [
    {
     "data": {
      "text/plain": [
       "0.09018772580055172"
      ]
     },
     "execution_count": 31,
     "metadata": {},
     "output_type": "execute_result"
    }
   ],
   "source": [
    "mr / mp # if less than 1.0, the Jeans condition for that rho_max is satisfied with Npart."
   ]
  },
  {
   "cell_type": "code",
   "execution_count": null,
   "id": "506a90a9",
   "metadata": {},
   "outputs": [],
   "source": []
  },
  {
   "cell_type": "code",
   "execution_count": null,
   "id": "f3c037ef",
   "metadata": {},
   "outputs": [],
   "source": []
  }
 ],
 "metadata": {
  "kernelspec": {
   "display_name": "Python 3 (ipykernel)",
   "language": "python",
   "name": "python3"
  },
  "language_info": {
   "codemirror_mode": {
    "name": "ipython",
    "version": 3
   },
   "file_extension": ".py",
   "mimetype": "text/x-python",
   "name": "python",
   "nbconvert_exporter": "python",
   "pygments_lexer": "ipython3",
   "version": "3.9.7"
  }
 },
 "nbformat": 4,
 "nbformat_minor": 5
}
