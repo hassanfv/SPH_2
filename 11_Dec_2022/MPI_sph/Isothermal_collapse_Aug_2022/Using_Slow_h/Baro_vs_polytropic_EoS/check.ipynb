{
 "cells": [
  {
   "cell_type": "code",
   "execution_count": 1,
   "id": "e3313caa",
   "metadata": {},
   "outputs": [],
   "source": [
    "import numpy as np\n",
    "import matplotlib.pyplot as plt"
   ]
  },
  {
   "cell_type": "code",
   "execution_count": null,
   "id": "18e017da",
   "metadata": {},
   "outputs": [],
   "source": []
  },
  {
   "cell_type": "code",
   "execution_count": 11,
   "id": "8e276f4d",
   "metadata": {},
   "outputs": [],
   "source": [
    "#---- Speed of Sound ------\n",
    "mH = 1.6726e-24 # gram\n",
    "kB = 1.3807e-16  # cm2 g s-2 K-1\n",
    "muu = 2.7\n",
    "mH2 = muu * mH\n",
    "\n",
    "gamma = 5./2."
   ]
  },
  {
   "cell_type": "code",
   "execution_count": 27,
   "id": "236c792a",
   "metadata": {},
   "outputs": [],
   "source": [
    "c_0 = 0.6e5\n",
    "\n",
    "rho_crit = 5.0e-22"
   ]
  },
  {
   "cell_type": "code",
   "execution_count": null,
   "id": "460db329",
   "metadata": {},
   "outputs": [],
   "source": []
  },
  {
   "cell_type": "code",
   "execution_count": 28,
   "id": "1e2c459d",
   "metadata": {},
   "outputs": [],
   "source": [
    "rho = np.logspace(-22, -12, 1000)"
   ]
  },
  {
   "cell_type": "code",
   "execution_count": null,
   "id": "2c709b41",
   "metadata": {},
   "outputs": [],
   "source": []
  },
  {
   "cell_type": "code",
   "execution_count": 29,
   "id": "07bf5568",
   "metadata": {},
   "outputs": [],
   "source": [
    "T = mH2 / kB * c_0**2 * (1.0 + (rho/rho_crit)**(-2./3.))"
   ]
  },
  {
   "cell_type": "code",
   "execution_count": 30,
   "id": "ab694366",
   "metadata": {},
   "outputs": [
    {
     "data": {
      "text/plain": [
       "<matplotlib.collections.PathCollection at 0x7f9706295b50>"
      ]
     },
     "execution_count": 30,
     "metadata": {},
     "output_type": "execute_result"
    },
    {
     "data": {
      "image/png": "[encoded data removed]",
      "text/plain": [
       "<Figure size 432x288 with 1 Axes>"
      ]
     },
     "metadata": {
      "needs_background": "light"
     },
     "output_type": "display_data"
    }
   ],
   "source": [
    "plt.scatter(np.log10(rho), np.log10(T), s = 1)\n",
    "#plt.ylim(0, 4);"
   ]
  },
  {
   "cell_type": "code",
   "execution_count": null,
   "id": "bf00d647",
   "metadata": {},
   "outputs": [],
   "source": []
  }
 ],
 "metadata": {
  "kernelspec": {
   "display_name": "Python 3 (ipykernel)",
   "language": "python",
   "name": "python3"
  },
  "language_info": {
   "codemirror_mode": {
    "name": "ipython",
    "version": 3
   },
   "file_extension": ".py",
   "mimetype": "text/x-python",
   "name": "python",
   "nbconvert_exporter": "python",
   "pygments_lexer": "ipython3",
   "version": "3.9.7"
  }
 },
 "nbformat": 4,
 "nbformat_minor": 5
}
