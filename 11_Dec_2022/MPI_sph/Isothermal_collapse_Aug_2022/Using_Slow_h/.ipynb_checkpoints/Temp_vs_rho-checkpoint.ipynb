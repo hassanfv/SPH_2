{
 "cells": [
  {
   "cell_type": "code",
   "execution_count": 26,
   "id": "5009d45e",
   "metadata": {},
   "outputs": [],
   "source": [
    "import numpy as np\n",
    "from scipy.integrate import odeint\n",
    "import matplotlib.pyplot as plt"
   ]
  },
  {
   "cell_type": "code",
   "execution_count": 27,
   "id": "525484dd",
   "metadata": {},
   "outputs": [],
   "source": [
    "def dSdx(x, S):\n",
    "\n",
    "    y1, y2 = S\n",
    "\n",
    "    return [y2, -2./x * y2 + np.exp(-y1)]\n",
    "\n",
    "\n",
    "y1_0 = 0.\n",
    "y2_0 = 0.\n",
    "S_0 = (y1_0, y2_0)\n",
    "\n",
    "x = np.linspace(.00001, 10., 10000)\n",
    "\n",
    "sol = odeint(dSdx, y0 = S_0, t = x, tfirst = True)\n",
    "\n",
    "y1_sol = sol.T[0]\n",
    "y2_sol = sol.T[1]\n",
    "\n",
    "\n",
    "#----- mu_from_ksi\n",
    "def mu_from_ksi(x, y2_sol, ksi): #y2_sol is d_psi/d_ksi\n",
    "\n",
    "    # finding the closest value\n",
    "    x1 = x - ksi\n",
    "    nx = np.where(x1 > 0.)[0]\n",
    "\n",
    "    return ksi * ksi * y2_sol[nx[0] - 1]\n",
    "\n",
    "\n",
    "#----- ksi_from_mu\n",
    "def ksi_from_mu(x, y2_sol, mu):\n",
    "\n",
    "    mu1 = x * x * y2_sol - mu\n",
    "    nx = np.where(mu1 > 0.)[0]\n",
    "\n",
    "    return x[nx[0]-1]\n",
    "\n",
    "\n",
    "#----- psi_from_ksi\n",
    "def psi_from_ksi(x, y1_sol, ksi):\n",
    "\n",
    "    x1 = x - ksi\n",
    "    nx = np.where(x1 > 0.)[0]\n",
    "\n",
    "    return y1_sol[nx[0] - 1]"
   ]
  },
  {
   "cell_type": "code",
   "execution_count": 28,
   "id": "6385416b",
   "metadata": {},
   "outputs": [],
   "source": [
    "mH = 1.6726e-24 # gram\n",
    "kB = 1.3807e-16  # cm2 g s-2 K-1\n",
    "\n",
    "# Note that for pure molecular hydrogen mu=2.\n",
    "# For molecular gas with ~10% He by mass and trace metals, mu ~ 2.7 is often used.\n",
    "muu = 2.7\n",
    "mH2 = muu * mH"
   ]
  },
  {
   "cell_type": "code",
   "execution_count": 29,
   "id": "02804558",
   "metadata": {},
   "outputs": [],
   "source": [
    "def get_cs(T_0):\n",
    "    \n",
    "    c_0 = (kB * T_0 / mH2)**0.5\n",
    "    \n",
    "    return c_0"
   ]
  },
  {
   "cell_type": "markdown",
   "id": "0bd1a8de",
   "metadata": {},
   "source": [
    "## Sound speed for `T = 35 K`"
   ]
  },
  {
   "cell_type": "code",
   "execution_count": 30,
   "id": "19539779",
   "metadata": {},
   "outputs": [
    {
     "name": "stdout",
     "output_type": "stream",
     "text": [
      "Sound speed (cm/s) =  32711.9\n",
      "Sound speed (m/s) =  327.12\n",
      "Sound speed (km/s) =  0.327\n"
     ]
    }
   ],
   "source": [
    "T_0 = 35. # K, see Table_1 in Anathpindika - 2009 - II\n",
    "\n",
    "c_0 = get_cs(T_0)\n",
    "\n",
    "print('Sound speed (cm/s) = ', round(c_0, 2))\n",
    "print('Sound speed (m/s) = ', round(c_0/100., 2))\n",
    "print('Sound speed (km/s) = ', round(c_0/100000., 3))"
   ]
  },
  {
   "cell_type": "code",
   "execution_count": 31,
   "id": "d4df85f7",
   "metadata": {},
   "outputs": [
    {
     "name": "stdout",
     "output_type": "stream",
     "text": [
      "c_0 = 0.356 km/s.\n"
     ]
    }
   ],
   "source": [
    "M_sun = 1.0\n",
    "M_0 = 10 * M_sun\n",
    "\n",
    "c_0 = 0.2 * (M_0/M_sun)**(1./4.)  # see eq. 2 in Kitsionas et al - 2007.\n",
    "\n",
    "print(f'c_0 = {round(c_0, 3)} km/s.')"
   ]
  },
  {
   "cell_type": "markdown",
   "id": "1ba5ee26",
   "metadata": {},
   "source": [
    "## Sound speed for `T = 100 K`"
   ]
  },
  {
   "cell_type": "code",
   "execution_count": 32,
   "id": "04c01816",
   "metadata": {},
   "outputs": [
    {
     "name": "stdout",
     "output_type": "stream",
     "text": [
      "Sound speed (cm/s) =  55293.2\n",
      "Sound speed (m/s) =  552.93\n",
      "Sound speed (km/s) =  0.553\n"
     ]
    }
   ],
   "source": [
    "T_0 = 100. # K, see Chapman et al - 1992 (Nature paper).\n",
    "\n",
    "c_0 = get_cs(T_0)\n",
    "\n",
    "print('Sound speed (cm/s) = ', round(c_0, 2))\n",
    "print('Sound speed (m/s) = ', round(c_0/100., 2))\n",
    "print('Sound speed (km/s) = ', round(c_0/100000., 3))"
   ]
  },
  {
   "cell_type": "markdown",
   "id": "7b55e82d",
   "metadata": {},
   "source": [
    "## Sound speed for `T = 10 K`"
   ]
  },
  {
   "cell_type": "code",
   "execution_count": 33,
   "id": "798e932b",
   "metadata": {},
   "outputs": [
    {
     "name": "stdout",
     "output_type": "stream",
     "text": [
      "Sound speed (cm/s) =  17485.25\n",
      "Sound speed (m/s) =  174.85\n",
      "Sound speed (km/s) =  0.175\n"
     ]
    }
   ],
   "source": [
    "T_0 = 10. # K, see Chapman et al - 1992 (Nature paper).\n",
    "\n",
    "c_0 = get_cs(T_0)\n",
    "\n",
    "print('Sound speed (cm/s) = ', round(c_0, 2))\n",
    "print('Sound speed (m/s) = ', round(c_0/100., 2))\n",
    "print('Sound speed (km/s) = ', round(c_0/100000., 3))"
   ]
  },
  {
   "cell_type": "code",
   "execution_count": null,
   "id": "c213c40c",
   "metadata": {},
   "outputs": [],
   "source": []
  },
  {
   "cell_type": "code",
   "execution_count": null,
   "id": "28ae386e",
   "metadata": {},
   "outputs": [],
   "source": []
  },
  {
   "cell_type": "code",
   "execution_count": 34,
   "id": "b49ac26c",
   "metadata": {},
   "outputs": [],
   "source": [
    "M_sun = 1.989e33 # gram\n",
    "grav_const_in_cgs = 6.67259e-8 #  cm3 g-1 s-2\n",
    "G = grav_const_in_cgs\n",
    "\n",
    "thetax = 3.0 # We choose this value for the xsi."
   ]
  },
  {
   "cell_type": "markdown",
   "id": "e5949e2a",
   "metadata": {},
   "source": [
    "### Reproducing $\\rho_{c}$ reported in sect. 2.3 of Kitsionas et al. 2007"
   ]
  },
  {
   "cell_type": "code",
   "execution_count": 35,
   "id": "a9f274f0",
   "metadata": {},
   "outputs": [
    {
     "name": "stdout",
     "output_type": "stream",
     "text": [
      "Central density (g/cm^3) = 2.70e-20\n",
      "Central density (cm^-3) =  16118.05\n",
      "\n",
      "Sound speed (km/s) =  0.35\n"
     ]
    }
   ],
   "source": [
    "\n",
    "T_0 = 35.\n",
    "\n",
    "Mcld = 10. * M_sun\n",
    "\n",
    "#c_0 = get_cs(T_0)\n",
    "\n",
    "c_0 = 0.35 * 100000 # I use the exact value reported in sect. 2.3 (i.e. c_0 = 0.35)\n",
    "\n",
    "#------ Central density ------\n",
    "rho_0 = c_0**6 / 4./np.pi/G**3/Mcld**2 * (mu_from_ksi(x, y2_sol, thetax))**2\n",
    "\n",
    "print(f'Central density (g/cm^3) = {rho_0:.2e}')\n",
    "print('Central density (cm^-3) = ', round(rho_0/mH, 2))\n",
    "print()\n",
    "print('Sound speed (km/s) = ', round(c_0/100000., 3))"
   ]
  },
  {
   "cell_type": "code",
   "execution_count": 36,
   "id": "8831cd59",
   "metadata": {},
   "outputs": [
    {
     "name": "stdout",
     "output_type": "stream",
     "text": [
      "Central density (g/cm^3) = 1.22e-20\n",
      "Central density (cm^-3) =  7272.59\n",
      "\n",
      "Sound speed (km/s) =  0.6\n"
     ]
    }
   ],
   "source": [
    "T_0 = 100.\n",
    "\n",
    "Mcld = 75. * M_sun\n",
    "\n",
    "#c_0 = get_cs(T_0)\n",
    "\n",
    "c_0 = 0.60 * 100000 # I use the exact value reported in sect. 2.3 (i.e. c_0 = 0.35)\n",
    "\n",
    "#------ Central density ------\n",
    "rho_0 = c_0**6 / 4./np.pi/G**3/Mcld**2 * (mu_from_ksi(x, y2_sol, thetax))**2\n",
    "\n",
    "print(f'Central density (g/cm^3) = {rho_0:.2e}')\n",
    "print('Central density (cm^-3) = ', round(rho_0/mH, 2))\n",
    "print()\n",
    "print('Sound speed (km/s) = ', round(c_0/100000., 3))"
   ]
  },
  {
   "cell_type": "code",
   "execution_count": null,
   "id": "1c8e09fa",
   "metadata": {},
   "outputs": [],
   "source": []
  },
  {
   "cell_type": "code",
   "execution_count": 37,
   "id": "b966fbfd",
   "metadata": {},
   "outputs": [
    {
     "name": "stdout",
     "output_type": "stream",
     "text": [
      "Sound speed (km/s) =  35565.588\n"
     ]
    }
   ],
   "source": [
    "M_sun = 1.0\n",
    "M_0 = 10. * M_sun\n",
    "c_0 = 0.2 * (M_0/M_sun)**(1./4.) * 1e5  # see eq. 2 in Kitsionas et al - 2007.\n",
    "print('Sound speed (km/s) = ', round(c_0, 3))\n",
    "\n",
    "c_s = 0.2 * 1e5 # see caption of Fig_1 in Kitsionas et al. 2007\n",
    "\n",
    "rho_1 = 1.0e-14\n",
    "\n",
    "#------ Central density ------\n",
    "rho_0 = rho_c = 2.70e-20 # g/cm^3 - see above cells."
   ]
  },
  {
   "cell_type": "code",
   "execution_count": 38,
   "id": "23ecade1",
   "metadata": {},
   "outputs": [],
   "source": [
    "log_rho = np.linspace(-22, -12, 100)\n",
    "rho = 10**log_rho\n",
    "\n",
    "c2 = ((c_0**2 - c_s**2)*(rho/rho_0)**(-2./3.) + c_s**2) * (1. + (rho/rho_1)**(4./3))**0.5 # this is c^2 !\n",
    "T = mH2 / kB * c2\n",
    "\n",
    "#--- rho < rho_0\n",
    "nn1 = rho < rho_0\n",
    "T[nn1] = mH2 / kB * c_0**2\n"
   ]
  },
  {
   "cell_type": "code",
   "execution_count": 39,
   "id": "024f630f",
   "metadata": {},
   "outputs": [
    {
     "data": {
      "image/png": "[encoded data removed]",
      "text/plain": [
       "<Figure size 432x288 with 1 Axes>"
      ]
     },
     "metadata": {
      "needs_background": "light"
     },
     "output_type": "display_data"
    }
   ],
   "source": [
    "plt.plot(log_rho, np.log10(T));"
   ]
  },
  {
   "cell_type": "code",
   "execution_count": null,
   "id": "a2873f04",
   "metadata": {},
   "outputs": [],
   "source": []
  }
 ],
 "metadata": {
  "kernelspec": {
   "display_name": "Python 3 (ipykernel)",
   "language": "python",
   "name": "python3"
  },
  "language_info": {
   "codemirror_mode": {
    "name": "ipython",
    "version": 3
   },
   "file_extension": ".py",
   "mimetype": "text/x-python",
   "name": "python",
   "nbconvert_exporter": "python",
   "pygments_lexer": "ipython3",
   "version": "3.9.7"
  }
 },
 "nbformat": 4,
 "nbformat_minor": 5
}
