{
 "cells": [
  {
   "cell_type": "code",
   "execution_count": 8,
   "id": "e3313caa",
   "metadata": {},
   "outputs": [],
   "source": [
    "import numpy as np\n",
    "import matplotlib.pyplot as plt"
   ]
  },
  {
   "cell_type": "code",
   "execution_count": 9,
   "id": "8e276f4d",
   "metadata": {},
   "outputs": [],
   "source": [
    "#---- Speed of Sound ------\n",
    "mH = 1.6726e-24 # gram\n",
    "kB = 1.3807e-16  # cm2 g s-2 K-1\n",
    "muu = 2.7\n",
    "mH2 = muu * mH\n",
    "\n",
    "gamma = 5./2."
   ]
  },
  {
   "cell_type": "code",
   "execution_count": 27,
   "id": "236c792a",
   "metadata": {},
   "outputs": [],
   "source": [
    "c_0 = 0.6e5\n",
    "c_s = 0.2e5\n",
    "\n",
    "rho_0 = 1.2e-23\n",
    "rho_1 = 1e-14 # g/cm^3"
   ]
  },
  {
   "cell_type": "code",
   "execution_count": null,
   "id": "460db329",
   "metadata": {},
   "outputs": [],
   "source": []
  },
  {
   "cell_type": "code",
   "execution_count": 28,
   "id": "1e2c459d",
   "metadata": {},
   "outputs": [],
   "source": [
    "rho = np.logspace(-22, -12, 1000)"
   ]
  },
  {
   "cell_type": "code",
   "execution_count": null,
   "id": "2c709b41",
   "metadata": {},
   "outputs": [],
   "source": []
  },
  {
   "cell_type": "code",
   "execution_count": 29,
   "id": "07bf5568",
   "metadata": {},
   "outputs": [],
   "source": [
    "#T = mH2 / kB * c_0**2 * (1.0 + (rho/rho_crit)**(-2./3.))\n",
    "\n",
    "T = mH2 / kB * ((c_0*c_0 - c_s*c_s)*(rho/rho_0)**(-2./3.) + c_s*c_s) * (1. + (rho/rho_1)**(4./3.))**0.5"
   ]
  },
  {
   "cell_type": "code",
   "execution_count": 30,
   "id": "ab694366",
   "metadata": {},
   "outputs": [
    {
     "data": {
      "image/png": "[encoded data removed]",
      "text/plain": [
       "<Figure size 432x288 with 1 Axes>"
      ]
     },
     "metadata": {
      "needs_background": "light"
     },
     "output_type": "display_data"
    }
   ],
   "source": [
    "plt.scatter(np.log10(rho), np.log10(T), s = 1);\n",
    "#plt.ylim(0, 4);"
   ]
  },
  {
   "cell_type": "code",
   "execution_count": 22,
   "id": "9775e755",
   "metadata": {},
   "outputs": [
    {
     "data": {
      "image/png": "[encoded data removed]",
      "text/plain": [
       "<Figure size 432x288 with 1 Axes>"
      ]
     },
     "metadata": {
      "needs_background": "light"
     },
     "output_type": "display_data"
    }
   ],
   "source": [
    "plt.scatter(np.log10(rho), np.log10(T), s = 1);\n",
    "#plt.ylim(0, 4);"
   ]
  },
  {
   "cell_type": "code",
   "execution_count": null,
   "id": "bf00d647",
   "metadata": {},
   "outputs": [],
   "source": []
  },
  {
   "cell_type": "code",
   "execution_count": null,
   "id": "ff30f758",
   "metadata": {},
   "outputs": [],
   "source": []
  }
 ],
 "metadata": {
  "kernelspec": {
   "display_name": "Python 3 (ipykernel)",
   "language": "python",
   "name": "python3"
  },
  "language_info": {
   "codemirror_mode": {
    "name": "ipython",
    "version": 3
   },
   "file_extension": ".py",
   "mimetype": "text/x-python",
   "name": "python",
   "nbconvert_exporter": "python",
   "pygments_lexer": "ipython3",
   "version": "3.9.7"
  }
 },
 "nbformat": 4,
 "nbformat_minor": 5
}
