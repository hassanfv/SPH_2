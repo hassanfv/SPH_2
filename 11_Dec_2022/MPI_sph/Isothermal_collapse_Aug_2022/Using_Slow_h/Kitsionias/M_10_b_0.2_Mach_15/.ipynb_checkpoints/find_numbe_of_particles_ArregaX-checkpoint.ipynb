{
 "cells": [
  {
   "cell_type": "markdown",
   "id": "6443a58d",
   "metadata": {},
   "source": [
    "## REFERENCE: Arreaga et al - 2022.\n",
    "Here we find the number of particles for which Jeans condition is satisfied, given rho_max, Mcld,..."
   ]
  },
  {
   "cell_type": "code",
   "execution_count": 1,
   "id": "28fbb31b",
   "metadata": {},
   "outputs": [],
   "source": [
    "import numpy as np"
   ]
  },
  {
   "cell_type": "code",
   "execution_count": 6,
   "id": "349ed4a1",
   "metadata": {},
   "outputs": [],
   "source": [
    "M_sun = 1.98992e+33 # gram\n",
    "G = 6.67259e-8 #  cm3 g-1 s-2\n",
    "gamma = 5./3.\n",
    "N_ngb = 50"
   ]
  },
  {
   "cell_type": "markdown",
   "id": "327ef932",
   "metadata": {},
   "source": [
    "## Want to vary ?"
   ]
  },
  {
   "cell_type": "code",
   "execution_count": 7,
   "id": "4ec88cba",
   "metadata": {},
   "outputs": [],
   "source": [
    "Mcld = 10.0 #* M_sun\n",
    "rho_max = 1.0e-14 # We want to know Npart for this max rho. You can vary this for other conditions!!!"
   ]
  },
  {
   "cell_type": "code",
   "execution_count": 8,
   "id": "98d8121a",
   "metadata": {},
   "outputs": [
    {
     "name": "stdout",
     "output_type": "stream",
     "text": [
      "Sound speed (cm/s) =  35442.45\n",
      "Sound speed (m/s) =  354.424\n",
      "Sound speed (km/s) =  0.3544\n"
     ]
    }
   ],
   "source": [
    "#---- Speed of Sound ------\n",
    "mH = 1.6726e-24 # gram\n",
    "kB = 1.3807e-16  # cm2 g s-2 K-1\n",
    "T_0 = 35. # K, #!!!!!!!!!!!!!!!!!!!!!!!!!!!!!!!!!!!!!!!!!!!!!!!!!!!!!!!!!!!!!!!!!!!!\n",
    "\n",
    "# Note that for pure molecular hydrogen mu=2. For molecular gas with ~10% He by mass and trace metals, mu ~ 2.7 is often used.\n",
    "muu = 2.30  #!!!!!!!!!!!!!!!!!!!!!!!!!!!!!!!!!!!!!!!!!!!!!!!!!!!!!!!!!!!!!!!!!!!!\n",
    "mH2 = muu * mH\n",
    "\n",
    "c_0 = (kB * T_0 / mH2)**0.5\n",
    "\n",
    "print('Sound speed (cm/s) = ', round(c_0, 2))\n",
    "print('Sound speed (m/s) = ', round(c_0/100., 3))\n",
    "print('Sound speed (km/s) = ', round(c_0/100000., 4))"
   ]
  },
  {
   "cell_type": "code",
   "execution_count": 9,
   "id": "4d96adfe",
   "metadata": {},
   "outputs": [],
   "source": [
    "csnd = c_0 #(c_0*c_0 * (1.0 + (rho_max/rho_crit)**(gamma - 1.0)))**0.5"
   ]
  },
  {
   "cell_type": "code",
   "execution_count": 10,
   "id": "a8776370",
   "metadata": {},
   "outputs": [
    {
     "name": "stdout",
     "output_type": "stream",
     "text": [
      "MJ_min = 3.785E-02\n"
     ]
    }
   ],
   "source": [
    "# Since rho is max therefore MJ is min !\n",
    "MJ_min = np.pi**(5./2.) / 6. * csnd**3 / (G**3 * rho_max)**0.5 / M_sun\n",
    "print(f'MJ_min = {MJ_min:.3E}')"
   ]
  },
  {
   "cell_type": "code",
   "execution_count": 11,
   "id": "506a90a9",
   "metadata": {},
   "outputs": [
    {
     "name": "stdout",
     "output_type": "stream",
     "text": [
      "Minimum number of particles required =  26423\n"
     ]
    }
   ],
   "source": [
    "Npart = 2. * Mcld * N_ngb / MJ_min\n",
    "print(f'Minimum number of particles required = ', round(Npart))"
   ]
  },
  {
   "cell_type": "code",
   "execution_count": null,
   "id": "5be7c325",
   "metadata": {},
   "outputs": [],
   "source": []
  },
  {
   "cell_type": "code",
   "execution_count": null,
   "id": "8f4c3c4f",
   "metadata": {},
   "outputs": [],
   "source": []
  },
  {
   "cell_type": "code",
   "execution_count": null,
   "id": "1441f094",
   "metadata": {},
   "outputs": [],
   "source": []
  },
  {
   "cell_type": "code",
   "execution_count": null,
   "id": "f84e3195",
   "metadata": {},
   "outputs": [],
   "source": []
  }
 ],
 "metadata": {
  "kernelspec": {
   "display_name": "Python 3 (ipykernel)",
   "language": "python",
   "name": "python3"
  },
  "language_info": {
   "codemirror_mode": {
    "name": "ipython",
    "version": 3
   },
   "file_extension": ".py",
   "mimetype": "text/x-python",
   "name": "python",
   "nbconvert_exporter": "python",
   "pygments_lexer": "ipython3",
   "version": "3.9.7"
  }
 },
 "nbformat": 4,
 "nbformat_minor": 5
}
