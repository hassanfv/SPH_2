{
 "cells": [
  {
   "cell_type": "markdown",
   "id": "54b6dcc8",
   "metadata": {},
   "source": [
    "## See Anathpindika PhD thesis eq 4.15"
   ]
  },
  {
   "cell_type": "code",
   "execution_count": 7,
   "id": "d3b71a49",
   "metadata": {},
   "outputs": [],
   "source": [
    "import numpy as np\n",
    "import matplotlib.pyplot as plt"
   ]
  },
  {
   "cell_type": "code",
   "execution_count": 8,
   "id": "68d6b764",
   "metadata": {},
   "outputs": [],
   "source": [
    "# For Model 4 the central density is 5.61e-22. Therefore, we should adjust the values in the\n",
    "# lower eq. in such a way that aat this density T becomes 377 K.\n",
    "\n",
    "rho = np.logspace(-21, -12, 100)"
   ]
  },
  {
   "cell_type": "code",
   "execution_count": 51,
   "id": "fa138dea",
   "metadata": {},
   "outputs": [
    {
     "name": "stdout",
     "output_type": "stream",
     "text": [
      "The starting T is 377.0 K\n"
     ]
    },
    {
     "data": {
      "image/png": "[encoded data removed]",
      "text/plain": [
       "<Figure size 432x288 with 1 Axes>"
      ]
     },
     "metadata": {
      "needs_background": "light"
     },
     "output_type": "display_data"
    }
   ],
   "source": [
    "# rho should be in g/cm^3 and T_0 in K.\n",
    "\n",
    "T_0 = 10. # K\n",
    "\n",
    "# We chose 4.4e-21 so that the first T becomes Tcld = 54. Then in the EOS, for rho <= 4.4e-21 we set\n",
    "# P = rho * kB/mH * Tcld (Tcld = 54 K). And for rho > 4.4e-21, we use the following equation. With\n",
    "# this, the transition from Tcld = 54 to lower T will be continuous.\n",
    "\n",
    "T = T_0 * (3.67e-20 / rho + 1. + (2.4e9)*rho**(2./3.)) # I modified the values to better match Fig_4.5 in the thesis.\n",
    "\n",
    "print(f'The starting T is {round(T[0], 1)} K')\n",
    "\n",
    "\n",
    "plt.scatter(np.log10(rho), np.log10(T));"
   ]
  },
  {
   "cell_type": "code",
   "execution_count": null,
   "id": "37be7ec5",
   "metadata": {},
   "outputs": [],
   "source": []
  }
 ],
 "metadata": {
  "kernelspec": {
   "display_name": "Python 3 (ipykernel)",
   "language": "python",
   "name": "python3"
  },
  "language_info": {
   "codemirror_mode": {
    "name": "ipython",
    "version": 3
   },
   "file_extension": ".py",
   "mimetype": "text/x-python",
   "name": "python",
   "nbconvert_exporter": "python",
   "pygments_lexer": "ipython3",
   "version": "3.9.7"
  }
 },
 "nbformat": 4,
 "nbformat_minor": 5
}
