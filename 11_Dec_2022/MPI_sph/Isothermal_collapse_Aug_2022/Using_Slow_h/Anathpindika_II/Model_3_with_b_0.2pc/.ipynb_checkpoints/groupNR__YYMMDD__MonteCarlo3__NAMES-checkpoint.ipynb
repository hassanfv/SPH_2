{
 "cells": [
  {
   "cell_type": "markdown",
   "metadata": {},
   "source": [
    "<h1> Monte Carlo simulation - limb darkening in plane-parallel, grey atmospheres </h1>\n",
    "\n",
    "\n",
    "Limb darkening describes the fact that a (normal) star seems to be darker at the edge than at its center. This can be clearly observed for the sun. If, as in Example 1.13, the direction cosine (i.e., the cosine of angle between radius vector and photon direction) is denoted by $\\mu$, one can approximiate the angular dependency of the specific intensity (see below) by the expression\n",
    "\n",
    "$$I(\\mu) ≈ I_1(0.4 + 0.6 \\mu) \\quad\\quad\\quad\\quad(1)$$\n",
    "\n",
    "where $I_1$ is the specific intensity for the radial direction, $\\mu = 1$, i.e., the intensity observed at the center of a star. For $\\mu = 0$, on the other hand, the angle between radial and photon’s direction is 90$^{\\circ}$  (this condition is met at the limb of the star), and the corresponding region appears to be fainter, by a factor of roughly 0.4.\n",
    "\n",
    "Eq.(1) is the consequence of an approximate solution of the equation of radiative transfer in plane-parallel symmetry (i.e., under the condition that the stellar photosphere is very thin compared to the stellar radius: the solar photosphere, e.g., is only a few hundred kilometers thick, contrasted to the sun’s radius of 700 000 km), with absorption and emission processes assumed to be grey, i.e., frequency independent, which has been developed  by Eddingtion and Barbier. \n",
    "Note that the approximate solution of Milne’s integral equation (Example 1.13) is based on the same approach. Just one additional comment: The above relation (1) has nothing to do with the presence of any temperature stratification (though it can be influenced by it), but is the consequence of a large number of absorption and emission processes in an atmosphere of finite (optical) depth, as we will see below.\n",
    "\n",
    "In order to avoid almost all subtleties of radiative transfer and corresponding approximate solutions, in this exercise we will perform a Monte Carlo simulation to confirm the above result. The principle strategy is very close to the simulation as described in Example 1.13, but we will sort the photons according to the direction they leave the atmosphere, and not according to their energy.\n",
    "\n"
   ]
  },
  {
   "cell_type": "code",
   "execution_count": null,
   "metadata": {},
   "outputs": [],
   "source": [
    "import math\n",
    "import random\n",
    "import numpy as np\n",
    "import time\n",
    "%matplotlib inline\n",
    "import matplotlib.pyplot as plt\n",
    "import scipy.optimize"
   ]
  },
  {
   "cell_type": "markdown",
   "metadata": {},
   "source": [
    "<h3>a) Develop the Algorithm to Simulate Photons in an Atmosphere</h3>\n",
    "\n",
    "develope a sketch of the program flow including all possible branches (a so-called flow-chart), accounting for appropriate distributions of emission angle (Example 1.18), optical path length and scattering angle. Update always the radial optical depth of the photon, according to the comments in the program, and follow the photons until they have left the atmosphere. In the latter case then, update the corresponding array counting the number of photons which have escaped under a certain range of angles. Before implementing this program, discuss your flow-chart with your supervisor.\n",
    "\n",
    "Develop an algorithm to simulate the propagation of photons in an atmosphere and write it down in the form of a flow-chart. Your algorithm should include all possible branches, accounting for appropriate distributions of emission angle (Example 1.18), optical path length and scattering angle. Update always the radial optical depth of the photon and propagate the photons until they have left the atmosphere. Once a photon as left the atmosphere, return the corresponding directional cosine $\\mu$ under which the photon was emitted.\n",
    "<b>Before implementing this program, discuss your flow-chart with your supervisor.</b>\n",
    "\n",
    "Note that tau and tau_max are *radial* optical depths.\n",
    "Since photons have a direction of mu with respect to the radial\n",
    "direction, we have to account for projection effects.\n",
    "In order to simulate the photons, along their way through the\n",
    "atmosphere you have to decide whether a photon is\n",
    "- inside the atmoshere (0 < tau < tau_max)\n",
    "- has left the atmosphere (tau < 0)\n",
    "- or has been scattered back into the stellar core (tau > taumax)\n",
    "and choose the appropriate next step for the photon.\n",
    "\n",
    "If a photon was found to have been scattered back into the core,\n",
    "just release a new photon at the inner boundary.\n"
   ]
  },
  {
   "cell_type": "markdown",
   "metadata": {},
   "source": [
    "<h3>b) Implement the Algorithm to Simulate Photons in an Atmosphere</h3>\n",
    "\n",
    "In this step you should implement the algorithm you developed in a) and test it for $10^4\\dots10^5$ photons and an optical depth of the atmosphere of tau_max=10. From the $\\mu$ values returned from your code, build a histgram.\n",
    "<b> Implement the histogram function yourself. For this exercise, do not use a histogram function from a library.</b>\n",
    "But it's okay to use the numpy histogram function for testing. Just make sure you use your own histogram function in the end.\n",
    "\n",
    "Using 20 channels and make a plot like this one:\n",
    "\n",
    "<img src=\"https://dmz-sv-owncloud.physik.uni-muenchen.de/index.php/apps/files_sharing/ajax/publicpreview.php?x=2864&y=1580&a=true&file=Limb_N.png&t=d3c6c60bc6af21213afcc775a2622a2c&scalingup=0\" width=\"600\">\n",
    "\n"
   ]
  },
  {
   "cell_type": "code",
   "execution_count": null,
   "metadata": {},
   "outputs": [],
   "source": [
    "# the body of the functions and the content of the while loop are removed in the student version\n",
    "def get_tau_step():\n",
    "    \"\"\"calculate how far a photon travels in radial direction before it gets scattered.\n",
    "    Input: None\n",
    "    Output: optical depth traveled\"\"\"\n",
    "\n",
    "    # put your code here\n",
    "\n",
    "    return delta_tau\n",
    "\n",
    "def emit_photon(tau_max):\n",
    "    \"\"\"Emit a photon from the stellar core.\n",
    "    Input: tau_max - optical depth of the atmosphere\n",
    "    Output: \n",
    "      tau: optical depth at which the photon is scattered first\n",
    "      mu: directional cosine of the photon emitted\n",
    "    \"\"\"\n",
    "    # put your code here\n",
    "\n",
    "    return tau, mu\n",
    "\n",
    "def scatter_photon(tau):\n",
    "    \"\"\"Scatter a photon.\n",
    "    Input: tau - optical depth of the atmosphere\n",
    "    Output: \n",
    "      tau: new optical depth\n",
    "      mu: directional cosine of the photon scattered\n",
    "    \"\"\"\n",
    "    # put your code here\n",
    "\n",
    "    return tau, mu\n",
    "\n",
    "def simulate_photon(tau_max):\n",
    "    \"\"\"Simulate the directional cosine of the last scattering of a photon\n",
    "    propagating through a stellar atmosphere.\n",
    "    Input: tau_max - optical depth of the atmosphere\n",
    "    Output: \n",
    "      mu: directional cosine of the photon escaping the atmosphere\n",
    "    \"\"\"\n",
    "    # put your code here\n",
    "    return mu\n",
    "\n",
    "def linear_function(x, a, b):\n",
    "    \"\"\"\n",
    "    Calculate y = a + b*x\n",
    "    Inputs:\n",
    "      x: input x for function\n",
    "      a: the intercept, needs to be scalar or same dimension as x\n",
    "      b: the slope, needs to be scalar or same dimension as x\n",
    "    Output:\n",
    "      y: function values, same dimension as x\n",
    "    \"\"\"\n",
    "    y = a + b*x\n",
    "    return y\n"
   ]
  },
  {
   "cell_type": "code",
   "execution_count": null,
   "metadata": {},
   "outputs": [],
   "source": [
    "# use the following code to visualize the data, adjust the number of bins and photons\n",
    "n_photons = 100\n",
    "n_bins = 15\n",
    "mu_values = [simulate_photon(10.) for i in range(n_photons) ]\n",
    "bins = np.linspace(0,1,n_bins) # those are the bin edges\n",
    "n_mu, _ = np.histogram(mu_values, bins=bins);\n",
    "n_mu_plot = np.concatenate(([0], n_mu))\n",
    "plt.step(bins, n_mu_plot, color='DodgerBlue');\n",
    "plt.xlabel('$\\mu$')\n",
    "plt.ylabel('$N(\\mu)/N(1)$');"
   ]
  },
  {
   "cell_type": "markdown",
   "metadata": {},
   "source": [
    "<h3>c) Comparison to Equation (1)</h3>\n",
    "\n",
    "\n",
    "\n",
    "In our simulation, we have calculated the *number* of photons leaving the atmosphere with respect to a surface perpendicular to the radial direction. Without going into details, this number is proportional to the specific intensity weighted with the projection angle μ, since the specific intensity, I(μ), is defined with respect to unit projected area. \n",
    "\n",
    "$$ N(\\mu){\\rm d}\\mu \\propto I(\\mu)\\mu{\\rm d}\\mu $$\n",
    "\n",
    "and the intensity within dμ is obtained from the number of photons, divided by an appropriate average of μ, i.e., centered at the mid of the corresponding channel.\n",
    "\n",
    "This relation is also the reason why the distribution of the photons with respect to μ at the lower boundary follows the pdf μdμ: for an isotropic radiation field, which is assumed to be present at the lowermost boundary, it is the specific intensity and not the photon number which is uniformly distributed with respect to μ! \n",
    "\n",
    "Thus, in order to convert to photon numbers, we have to draw the emission angles at the lower boundary from the pdf μdμ instead of dμ! Inside the atmosphere, on the other hand, the emission angle refers to the photons themselves and thus is (almost) isotropic, so that we have to draw from the pdf dμ.\n",
    "\n",
    "Write a function/cell to display the specific intensity and compare with the prediction Eq. (1). Use $N = 10^6$ photons for tau_max = 10 now, and derive the limb-darkening coefficients (in analogy to Eq. (1)) from a linear regression to your results. \n",
    "\n",
    "Use scipy.optimize.curve_fit to determine the coefficients - see the scipy documentation how to use it http://docs.scipy.org/doc/scipy-0.15.1/reference/generated/scipy.optimize.curve_fit.html\n",
    "\n"
   ]
  },
  {
   "cell_type": "code",
   "execution_count": null,
   "metadata": {},
   "outputs": [],
   "source": []
  },
  {
   "cell_type": "code",
   "execution_count": null,
   "metadata": {},
   "outputs": [],
   "source": [
    "plt.plot(mu_plot, 0.4+0.6*mu_plot, 'k-', label='analytic approx.', alpha=0.5);\n",
    "\n",
    "# plot the results of your simulation as well\n",
    "\n",
    "# you can fit functions to data in python using the curve_fit functions\n",
    "# x_data in this case will be the bin centers of your histograms - so far you only have bin edges\n",
    "# p, p_cov = scipy.optimize.curve_fit(linear_function, x_data, y_data, p0=[0.,0.])\n",
    "\n",
    "# plot the model you fitted to your simulations\n",
    "I_model = linear_function(mu_plot, *p) # p is the list containing your parameters from the fit, the * unpacks them\n",
    "plt.plot(mu_plot, I_model, label='best fit')\n",
    "\n",
    "plt.legend(loc='lower right')\n",
    "plt.xlabel('$\\mu$')\n",
    "plt.ylabel('$I(\\mu)/I(1)$');\n",
    "print(f\"Fitted relation: I(mu) = ({p[0]:.2f}+/-{p_cov[0,0]:.2e}) + ({p[1]:.2f}+/-{p_cov[1,1]:.2e})*mu\")"
   ]
  },
  {
   "cell_type": "markdown",
   "metadata": {},
   "source": [
    "<h3>d) Limiting case tau_max << 1 </h3>\n",
    "\n",
    "To convince yourself that limb-darkening is the consequence of a multitude of scattering effects, reduce tau_max to a very small value. Which angular distribution do you expect now for the specific intensity? Does your simulation verify your expectation?"
   ]
  },
  {
   "cell_type": "code",
   "execution_count": null,
   "metadata": {},
   "outputs": [],
   "source": [
    "# put your code here\n",
    "\n",
    "plt.plot(mu_plot, 0.4+0.6*mu_plot, 'k-', label='Analytic approx.', alpha=0.5);\n",
    "# plt.plot(mu_bin_centers,I_mu_thin, 'o', color='DodgerBlue', label='Monte Carlo')\n",
    "plt.xlabel('$\\mu$')\n",
    "plt.ylabel('$I(\\mu)/I(1)$');\n",
    "plt.legend(loc='lower right')\n"
   ]
  },
  {
   "cell_type": "code",
   "execution_count": null,
   "metadata": {
    "collapsed": true
   },
   "outputs": [],
   "source": []
  },
  {
   "cell_type": "code",
   "execution_count": null,
   "metadata": {
    "collapsed": true
   },
   "outputs": [],
   "source": []
  }
 ],
 "metadata": {
  "kernel_info": {
   "name": "python2"
  },
  "kernelspec": {
   "display_name": "Python 3 (ipykernel)",
   "language": "python",
   "name": "python3"
  },
  "language_info": {
   "codemirror_mode": {
    "name": "ipython",
    "version": 3
   },
   "file_extension": ".py",
   "mimetype": "text/x-python",
   "name": "python",
   "nbconvert_exporter": "python",
   "pygments_lexer": "ipython3",
   "version": "3.9.7"
  }
 },
 "nbformat": 4,
 "nbformat_minor": 2
}
