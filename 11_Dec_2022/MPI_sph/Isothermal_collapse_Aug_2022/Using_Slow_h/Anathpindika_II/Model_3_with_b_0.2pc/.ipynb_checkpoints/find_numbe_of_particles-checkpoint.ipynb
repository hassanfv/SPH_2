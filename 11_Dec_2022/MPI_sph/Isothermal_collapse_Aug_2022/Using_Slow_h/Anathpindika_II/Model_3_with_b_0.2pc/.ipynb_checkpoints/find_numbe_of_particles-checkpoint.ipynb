{
 "cells": [
  {
   "cell_type": "code",
   "execution_count": 1,
   "id": "28fbb31b",
   "metadata": {},
   "outputs": [],
   "source": [
    "import numpy as np"
   ]
  },
  {
   "cell_type": "code",
   "execution_count": 7,
   "id": "349ed4a1",
   "metadata": {},
   "outputs": [],
   "source": [
    "Rgas = 8.3143e7 # erg.K^-1.mol^-1\n",
    "M_sun = 1.98992e+33 # gram\n",
    "G = 6.67259e-8 #  cm3 g-1 s-2\n",
    "mu = 2.7"
   ]
  },
  {
   "cell_type": "code",
   "execution_count": 8,
   "id": "4ec88cba",
   "metadata": {},
   "outputs": [],
   "source": [
    "Mcld = 1.0 * M_sun\n",
    "rho = 1e-13 # g/cm^3\n",
    "T = 10. #K"
   ]
  },
  {
   "cell_type": "code",
   "execution_count": 13,
   "id": "125fc7ad",
   "metadata": {},
   "outputs": [
    {
     "name": "stdout",
     "output_type": "stream",
     "text": [
      "Jeans mass = 1.9147714263065265e+30 g\n",
      "Jeans mass in M_sun = 9.622E-04 g\n"
     ]
    }
   ],
   "source": [
    "M_J = (5.*Rgas*T/2./G/mu)**(3./2.) * (4.*np.pi*rho/3.)**(-1./2.)\n",
    "print(f'Jeans mass = {M_J} g')\n",
    "print(f'Jeans mass in M_sun = {M_J/M_sun:.3E} g')"
   ]
  },
  {
   "cell_type": "code",
   "execution_count": 10,
   "id": "e55e90c8",
   "metadata": {},
   "outputs": [],
   "source": [
    "msph = M_J/64"
   ]
  },
  {
   "cell_type": "code",
   "execution_count": 11,
   "id": "7e6a11a2",
   "metadata": {},
   "outputs": [
    {
     "data": {
      "text/plain": [
       "66511.7926089275"
      ]
     },
     "execution_count": 11,
     "metadata": {},
     "output_type": "execute_result"
    }
   ],
   "source": [
    "Npart = Mcld/msph\n",
    "Npart"
   ]
  },
  {
   "cell_type": "code",
   "execution_count": null,
   "id": "506a90a9",
   "metadata": {},
   "outputs": [],
   "source": []
  },
  {
   "cell_type": "code",
   "execution_count": null,
   "id": "f3c037ef",
   "metadata": {},
   "outputs": [],
   "source": []
  }
 ],
 "metadata": {
  "kernelspec": {
   "display_name": "Python 3 (ipykernel)",
   "language": "python",
   "name": "python3"
  },
  "language_info": {
   "codemirror_mode": {
    "name": "ipython",
    "version": 3
   },
   "file_extension": ".py",
   "mimetype": "text/x-python",
   "name": "python",
   "nbconvert_exporter": "python",
   "pygments_lexer": "ipython3",
   "version": "3.9.7"
  }
 },
 "nbformat": 4,
 "nbformat_minor": 5
}
