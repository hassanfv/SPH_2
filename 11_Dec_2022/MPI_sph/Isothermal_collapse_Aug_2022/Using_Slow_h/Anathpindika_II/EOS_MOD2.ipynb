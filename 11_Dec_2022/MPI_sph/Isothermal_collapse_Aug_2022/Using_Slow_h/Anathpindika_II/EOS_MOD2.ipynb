{
 "cells": [
  {
   "cell_type": "markdown",
   "id": "54b6dcc8",
   "metadata": {},
   "source": [
    "## See Anathpindika PhD thesis eq 4.15"
   ]
  },
  {
   "cell_type": "code",
   "execution_count": 44,
   "id": "d3b71a49",
   "metadata": {},
   "outputs": [],
   "source": [
    "import numpy as np\n",
    "import matplotlib.pyplot as plt"
   ]
  },
  {
   "cell_type": "code",
   "execution_count": 45,
   "id": "68d6b764",
   "metadata": {},
   "outputs": [],
   "source": [
    "# For Model 4 the central density is 5.61e-22. Therefore, we should adjust the values in the\n",
    "# lower eq. in such a way that aat this density T becomes 377 K.\n",
    "\n",
    "rho_cen = 2.64e-21 # g/cm^3\n",
    "T_cld = 54. # K\n",
    "T_0 = 10. # K # We maintained the post-shock temperature of the cloud at this value.\n",
    "\n",
    "rho = np.logspace(np.log10(rho_cen), -12, 100)"
   ]
  },
  {
   "cell_type": "markdown",
   "id": "665ef06a",
   "metadata": {},
   "source": [
    "## Note:\n",
    "In the EOS for rho <= rho_cen we set P = kB/mH * T_cld while for rho > rho_cen we use the following equation."
   ]
  },
  {
   "cell_type": "markdown",
   "id": "bac56100",
   "metadata": {},
   "source": [
    "### Now we need to adjust things so that at `rho_cen`, the value of `T` is `T_cld`."
   ]
  },
  {
   "cell_type": "code",
   "execution_count": 46,
   "id": "01e51fcf",
   "metadata": {},
   "outputs": [
    {
     "name": "stdout",
     "output_type": "stream",
     "text": [
      "best_x = 1.162E-20\n",
      "\n",
      "The starting T is 54.0 K while T_cld is 54.0 K. Are you happy !?\n"
     ]
    },
    {
     "data": {
      "image/png": "[encoded data removed]",
      "text/plain": [
       "<Figure size 432x288 with 1 Axes>"
      ]
     },
     "metadata": {
      "needs_background": "light"
     },
     "output_type": "display_data"
    }
   ],
   "source": [
    "grid = np.logspace(-24, -17, 10000)\n",
    "\n",
    "res = []\n",
    "for x in grid:\n",
    "    res.append([x, T_0 * (x / rho_cen + 1. + (2.4e9)*rho_cen**(2./3.))]) \n",
    "\n",
    "res = np.array(res)\n",
    "\n",
    "x = res[:, 0]\n",
    "T = res[:, 1]\n",
    "\n",
    "best_x = x[np.abs(T_cld - T).argmin()]\n",
    "\n",
    "print(f'best_x = {best_x:.3E}')\n",
    "print()\n",
    "\n",
    "T = T_0 * (best_x / rho + 1. + (2.4e9)*rho**(2./3.))\n",
    "\n",
    "print(f'The starting T is {round(T[0], 1)} K while T_cld is {T_cld} K. Are you happy !?')\n",
    "\n",
    "\n",
    "plt.scatter(np.log10(rho), np.log10(T));"
   ]
  },
  {
   "cell_type": "code",
   "execution_count": null,
   "id": "e70d522f",
   "metadata": {},
   "outputs": [],
   "source": []
  }
 ],
 "metadata": {
  "kernelspec": {
   "display_name": "Python 3 (ipykernel)",
   "language": "python",
   "name": "python3"
  },
  "language_info": {
   "codemirror_mode": {
    "name": "ipython",
    "version": 3
   },
   "file_extension": ".py",
   "mimetype": "text/x-python",
   "name": "python",
   "nbconvert_exporter": "python",
   "pygments_lexer": "ipython3",
   "version": "3.9.7"
  }
 },
 "nbformat": 4,
 "nbformat_minor": 5
}
