{
 "cells": [
  {
   "cell_type": "code",
   "execution_count": 33,
   "id": "a6673ab8",
   "metadata": {},
   "outputs": [],
   "source": [
    "import numpy as np"
   ]
  },
  {
   "cell_type": "code",
   "execution_count": 41,
   "id": "454f8f99",
   "metadata": {},
   "outputs": [],
   "source": [
    "Rgas = 8.3143e7 # erg.K^-1.mol^-1\n",
    "M_sun = 1.98992e+33 # gram\n",
    "G = 6.67259e-8 #  cm3 g-1 s-2\n",
    "mu = 2.7"
   ]
  },
  {
   "cell_type": "code",
   "execution_count": 48,
   "id": "4f5e9bfb",
   "metadata": {},
   "outputs": [],
   "source": [
    "Mcld = 1.0 * M_sun\n",
    "rho = 1e-14 # g/cm^3\n",
    "T = 10. #K"
   ]
  },
  {
   "cell_type": "code",
   "execution_count": 49,
   "id": "5a18ef49",
   "metadata": {},
   "outputs": [
    {
     "name": "stdout",
     "output_type": "stream",
     "text": [
      "Jeans mass = 6.055038905737874e+28 g\n"
     ]
    }
   ],
   "source": [
    "M_J = (5.*Rgas*T/2./G/mu)**(3./2.) * (4.*np.pi*rho/3.)**(-1./2.)\n",
    "print(f'Jeans mass = {M_J} g')"
   ]
  },
  {
   "cell_type": "code",
   "execution_count": 50,
   "id": "6ca5d868",
   "metadata": {},
   "outputs": [],
   "source": [
    "msph = M_J/100"
   ]
  },
  {
   "cell_type": "code",
   "execution_count": 51,
   "id": "de512f39",
   "metadata": {},
   "outputs": [
    {
     "data": {
      "text/plain": [
       "3286386.8110150583"
      ]
     },
     "execution_count": 51,
     "metadata": {},
     "output_type": "execute_result"
    }
   ],
   "source": [
    "Npart = Mcld/msph\n",
    "Npart"
   ]
  },
  {
   "cell_type": "code",
   "execution_count": null,
   "id": "fa8813ca",
   "metadata": {},
   "outputs": [],
   "source": []
  },
  {
   "cell_type": "code",
   "execution_count": null,
   "id": "aac67827",
   "metadata": {},
   "outputs": [],
   "source": []
  }
 ],
 "metadata": {
  "kernelspec": {
   "display_name": "Python 3 (ipykernel)",
   "language": "python",
   "name": "python3"
  },
  "language_info": {
   "codemirror_mode": {
    "name": "ipython",
    "version": 3
   },
   "file_extension": ".py",
   "mimetype": "text/x-python",
   "name": "python",
   "nbconvert_exporter": "python",
   "pygments_lexer": "ipython3",
   "version": "3.9.7"
  }
 },
 "nbformat": 4,
 "nbformat_minor": 5
}
