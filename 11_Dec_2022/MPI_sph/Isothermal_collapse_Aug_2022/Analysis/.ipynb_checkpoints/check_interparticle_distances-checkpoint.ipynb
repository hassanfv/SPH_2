{
 "cells": [
  {
   "cell_type": "code",
   "execution_count": 17,
   "id": "2bfed29d",
   "metadata": {},
   "outputs": [],
   "source": [
    "import h5py\n",
    "import numpy as np\n",
    "import matplotlib.pyplot as plt\n",
    "import pickle"
   ]
  },
  {
   "cell_type": "code",
   "execution_count": 18,
   "id": "2f21c129",
   "metadata": {},
   "outputs": [],
   "source": [
    "file = h5py.File('../Testing_Auto_timestep/output_8k_Gadget//snap_258.hdf5', 'r')"
   ]
  },
  {
   "cell_type": "code",
   "execution_count": 19,
   "id": "5624235c",
   "metadata": {},
   "outputs": [
    {
     "data": {
      "text/plain": [
       "<KeysViewHDF5 ['Config', 'Header', 'Parameters', 'PartType0']>"
      ]
     },
     "execution_count": 19,
     "metadata": {},
     "output_type": "execute_result"
    }
   ],
   "source": [
    "file.keys()"
   ]
  },
  {
   "cell_type": "code",
   "execution_count": 20,
   "id": "1b35f112",
   "metadata": {},
   "outputs": [
    {
     "data": {
      "text/plain": [
       "<HDF5 group \"/Parameters\" (0 members)>"
      ]
     },
     "execution_count": 20,
     "metadata": {},
     "output_type": "execute_result"
    }
   ],
   "source": [
    "file['Parameters']"
   ]
  },
  {
   "cell_type": "code",
   "execution_count": 21,
   "id": "1fc83535",
   "metadata": {},
   "outputs": [
    {
     "data": {
      "text/plain": [
       "<KeysViewHDF5 ['Coordinates', 'Density', 'InternalEnergy', 'Masses', 'ParticleIDs', 'SmoothingLength', 'Velocities']>"
      ]
     },
     "execution_count": 21,
     "metadata": {},
     "output_type": "execute_result"
    }
   ],
   "source": [
    "file['PartType0'].keys()"
   ]
  },
  {
   "cell_type": "code",
   "execution_count": 22,
   "id": "18b4467f",
   "metadata": {},
   "outputs": [
    {
     "data": {
      "text/plain": [
       "<HDF5 dataset \"Coordinates\": shape (8192, 3), type \"<f4\">"
      ]
     },
     "execution_count": 22,
     "metadata": {},
     "output_type": "execute_result"
    }
   ],
   "source": [
    "coord = file['PartType0']['Coordinates']\n",
    "coord"
   ]
  },
  {
   "cell_type": "code",
   "execution_count": 23,
   "id": "b6f9f660",
   "metadata": {},
   "outputs": [],
   "source": [
    "#with open('../Testing_Auto_timestep/Outputs_8k_my_code/00423.pkl', 'rb') as f:\n",
    "#    data = pickle.load(f)\n",
    "#    r = data['pos']"
   ]
  },
  {
   "cell_type": "code",
   "execution_count": 24,
   "id": "e664fe31",
   "metadata": {
    "scrolled": false
   },
   "outputs": [
    {
     "name": "stdout",
     "output_type": "stream",
     "text": [
      "60877\n",
      "60877\n"
     ]
    },
    {
     "data": {
      "image/png": "[encoded data removed]",
      "text/plain": [
       "<Figure size 432x288 with 1 Axes>"
      ]
     },
     "metadata": {
      "needs_background": "light"
     },
     "output_type": "display_data"
    }
   ],
   "source": [
    "xxG = xx =  coord[:, 0]\n",
    "yyG = yy = coord[:, 1]\n",
    "zzG = zz = coord[:, 2]\n",
    "\n",
    "lst = []\n",
    "\n",
    "arr = np.zeros(1)\n",
    "mm = np.zeros(1)\n",
    "\n",
    "for i in range(len(xx)):\n",
    "    \n",
    "    rr = ((xx[i]-xx)**2 + (yy[i]-yy)**2 + (zz[i]-zz)**2)**0.5\n",
    "    rr = rr[rr != 0.]\n",
    "    m_lt = np.where(rr < 0.01)[0]\n",
    "    rr = rr[m_lt]\n",
    "\n",
    "    arr = np.concatenate([arr, rr])\n",
    "    mm = np.concatenate([mm, m_lt])\n",
    "\n",
    "print(len(arr))\n",
    "print(len(mm))\n",
    "\n",
    "plt.hist(arr, bins=10);"
   ]
  },
  {
   "cell_type": "code",
   "execution_count": null,
   "id": "702edea8",
   "metadata": {},
   "outputs": [],
   "source": []
  },
  {
   "cell_type": "code",
   "execution_count": null,
   "id": "541dd9b1",
   "metadata": {},
   "outputs": [],
   "source": []
  },
  {
   "cell_type": "code",
   "execution_count": 25,
   "id": "8b55123b",
   "metadata": {},
   "outputs": [],
   "source": [
    "with open('../Testing_Auto_timestep/Outputs_8k_my_code/00490.pkl', 'rb') as f:\n",
    "    data = pickle.load(f)\n",
    "    r = data['pos']"
   ]
  },
  {
   "cell_type": "code",
   "execution_count": 26,
   "id": "9c840247",
   "metadata": {
    "scrolled": false
   },
   "outputs": [
    {
     "name": "stdout",
     "output_type": "stream",
     "text": [
      "37941\n"
     ]
    },
    {
     "data": {
      "image/png": "[encoded data removed]",
      "text/plain": [
       "<Figure size 432x288 with 1 Axes>"
      ]
     },
     "metadata": {
      "needs_background": "light"
     },
     "output_type": "display_data"
    }
   ],
   "source": [
    "xx = r[:, 0]\n",
    "yy = r[:, 1]\n",
    "zz = r[:, 2]\n",
    "\n",
    "arr = np.zeros(1)\n",
    "nn = np.zeros(1)\n",
    "\n",
    "for i in range(len(xx)):\n",
    "    \n",
    "    rr = ((xx[i]-xx)**2 + (yy[i]-yy)**2 + (zz[i]-zz)**2)**0.5\n",
    "    rr = rr[rr != 0.]\n",
    "    \n",
    "    n_lt = np.where(rr < 0.01)[0]\n",
    "    rr = rr[n_lt]\n",
    "\n",
    "    arr = np.concatenate([arr, rr])\n",
    "    nn = np.concatenate([nn, n_lt])\n",
    "\n",
    "print(len(arr))\n",
    "\n",
    "plt.hist(arr, bins=10);"
   ]
  },
  {
   "cell_type": "code",
   "execution_count": 44,
   "id": "b8e2f21c",
   "metadata": {},
   "outputs": [
    {
     "data": {
      "image/png": "[encoded data removed]",
      "text/plain": [
       "<Figure size 432x288 with 1 Axes>"
      ]
     },
     "metadata": {
      "needs_background": "light"
     },
     "output_type": "display_data"
    }
   ],
   "source": [
    "nn = nn[1:]\n",
    "nn = [int(i) for i in nn] # to convert indices to INT\n",
    "\n",
    "plt.scatter(xx[nn], yy[nn], s = 0.01);\n",
    "xyrange = 0.15\n",
    "plt.xlim(-xyrange, xyrange)\n",
    "plt.ylim(-xyrange, xyrange);\n",
    "\n",
    "#plt.xlim(0.1293, 0.12934)\n",
    "#plt.ylim(-0.074, -0.07);"
   ]
  },
  {
   "cell_type": "code",
   "execution_count": null,
   "id": "6ca52e57",
   "metadata": {},
   "outputs": [],
   "source": []
  },
  {
   "cell_type": "code",
   "execution_count": 34,
   "id": "accca9d5",
   "metadata": {},
   "outputs": [
    {
     "data": {
      "image/png": "[encoded data removed]",
      "text/plain": [
       "<Figure size 432x288 with 1 Axes>"
      ]
     },
     "metadata": {
      "needs_background": "light"
     },
     "output_type": "display_data"
    }
   ],
   "source": [
    "mm = mm[1:]\n",
    "mm = [int(i) for i in mm] # to convert indices to INT\n",
    "\n",
    "plt.scatter(xxG[mm], yyG[mm], s = 0.01)\n",
    "xyrange = 0.15\n",
    "plt.xlim(-xyrange, xyrange)\n",
    "plt.ylim(-xyrange, xyrange);"
   ]
  },
  {
   "cell_type": "code",
   "execution_count": null,
   "id": "78a36ba4",
   "metadata": {},
   "outputs": [],
   "source": []
  },
  {
   "cell_type": "code",
   "execution_count": null,
   "id": "bcaf61bd",
   "metadata": {},
   "outputs": [],
   "source": []
  },
  {
   "cell_type": "code",
   "execution_count": null,
   "id": "9122b67a",
   "metadata": {},
   "outputs": [],
   "source": []
  }
 ],
 "metadata": {
  "kernelspec": {
   "display_name": "Python 3 (ipykernel)",
   "language": "python",
   "name": "python3"
  },
  "language_info": {
   "codemirror_mode": {
    "name": "ipython",
    "version": 3
   },
   "file_extension": ".py",
   "mimetype": "text/x-python",
   "name": "python",
   "nbconvert_exporter": "python",
   "pygments_lexer": "ipython3",
   "version": "3.9.7"
  }
 },
 "nbformat": 4,
 "nbformat_minor": 5
}
