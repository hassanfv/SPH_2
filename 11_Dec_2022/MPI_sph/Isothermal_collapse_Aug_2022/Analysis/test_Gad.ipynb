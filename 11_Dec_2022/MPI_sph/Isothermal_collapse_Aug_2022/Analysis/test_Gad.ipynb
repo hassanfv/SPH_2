{
 "cells": [
  {
   "cell_type": "code",
   "execution_count": 1,
   "id": "1bb4e40d",
   "metadata": {},
   "outputs": [],
   "source": [
    "import h5py"
   ]
  },
  {
   "cell_type": "code",
   "execution_count": 2,
   "id": "db9f860e",
   "metadata": {},
   "outputs": [],
   "source": [
    "file = h5py.File('IC.hdf5', 'r')"
   ]
  },
  {
   "cell_type": "code",
   "execution_count": 3,
   "id": "7bba65e7",
   "metadata": {},
   "outputs": [
    {
     "data": {
      "text/plain": [
       "<KeysViewHDF5 ['Header', 'PartType0']>"
      ]
     },
     "execution_count": 3,
     "metadata": {},
     "output_type": "execute_result"
    }
   ],
   "source": [
    "file.keys()"
   ]
  },
  {
   "cell_type": "code",
   "execution_count": 4,
   "id": "18a3be75",
   "metadata": {},
   "outputs": [
    {
     "data": {
      "text/plain": [
       "<KeysViewHDF5 ['Coordinates', 'InternalEnergy', 'Masses', 'ParticleIDs', 'Velocities']>"
      ]
     },
     "execution_count": 4,
     "metadata": {},
     "output_type": "execute_result"
    }
   ],
   "source": [
    "file['PartType0'].keys()"
   ]
  },
  {
   "cell_type": "code",
   "execution_count": 5,
   "id": "dfb63faa",
   "metadata": {},
   "outputs": [
    {
     "data": {
      "text/plain": [
       "<HDF5 dataset \"Coordinates\": shape (11536, 3), type \"<f4\">"
      ]
     },
     "execution_count": 5,
     "metadata": {},
     "output_type": "execute_result"
    }
   ],
   "source": [
    "coord = file['PartType0']['Coordinates']\n",
    "coord"
   ]
  },
  {
   "cell_type": "code",
   "execution_count": 6,
   "id": "48056a55",
   "metadata": {},
   "outputs": [
    {
     "data": {
      "text/plain": [
       "<HDF5 dataset \"InternalEnergy\": shape (11536, 3), type \"<f8\">"
      ]
     },
     "execution_count": 6,
     "metadata": {},
     "output_type": "execute_result"
    }
   ],
   "source": [
    "u = file['PartType0']['InternalEnergy']\n",
    "u"
   ]
  },
  {
   "cell_type": "code",
   "execution_count": 7,
   "id": "8bcc6295",
   "metadata": {},
   "outputs": [
    {
     "data": {
      "text/plain": [
       "<HDF5 dataset \"Masses\": shape (11536, 3), type \"<f4\">"
      ]
     },
     "execution_count": 7,
     "metadata": {},
     "output_type": "execute_result"
    }
   ],
   "source": [
    "m = file['PartType0']['Masses']\n",
    "m"
   ]
  },
  {
   "cell_type": "code",
   "execution_count": 12,
   "id": "d7c4aa73",
   "metadata": {},
   "outputs": [
    {
     "data": {
      "text/plain": [
       "<HDF5 dataset \"Velocities\": shape (11536, 3), type \"<f4\">"
      ]
     },
     "execution_count": 12,
     "metadata": {},
     "output_type": "execute_result"
    }
   ],
   "source": [
    "v = file['PartType0']['Velocities']\n",
    "v"
   ]
  },
  {
   "cell_type": "code",
   "execution_count": 11,
   "id": "416977d0",
   "metadata": {},
   "outputs": [
    {
     "data": {
      "text/plain": [
       "<HDF5 dataset \"ParticleIDs\": shape (11536,), type \"<i8\">"
      ]
     },
     "execution_count": 11,
     "metadata": {},
     "output_type": "execute_result"
    }
   ],
   "source": [
    "ids = file['PartType0']['ParticleIDs']\n",
    "ids"
   ]
  },
  {
   "cell_type": "code",
   "execution_count": null,
   "id": "9ef438a4",
   "metadata": {},
   "outputs": [],
   "source": []
  }
 ],
 "metadata": {
  "kernelspec": {
   "display_name": "Python 3 (ipykernel)",
   "language": "python",
   "name": "python3"
  },
  "language_info": {
   "codemirror_mode": {
    "name": "ipython",
    "version": 3
   },
   "file_extension": ".py",
   "mimetype": "text/x-python",
   "name": "python",
   "nbconvert_exporter": "python",
   "pygments_lexer": "ipython3",
   "version": "3.9.12"
  }
 },
 "nbformat": 4,
 "nbformat_minor": 5
}
