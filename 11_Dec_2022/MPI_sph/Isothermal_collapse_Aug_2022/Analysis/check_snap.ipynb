{
 "cells": [
  {
   "cell_type": "code",
   "execution_count": 1,
   "id": "2bfed29d",
   "metadata": {},
   "outputs": [],
   "source": [
    "import h5py\n",
    "import numpy as np\n",
    "import matplotlib.pyplot as plt\n",
    "import pickle"
   ]
  },
  {
   "cell_type": "code",
   "execution_count": 18,
   "id": "2f21c129",
   "metadata": {},
   "outputs": [],
   "source": [
    "file = h5py.File('../Testing_Auto_timestep/output_8k_0.5m_Gadget//snap_1700.hdf5', 'r')"
   ]
  },
  {
   "cell_type": "code",
   "execution_count": 19,
   "id": "5624235c",
   "metadata": {},
   "outputs": [
    {
     "data": {
      "text/plain": [
       "<KeysViewHDF5 ['Config', 'Header', 'Parameters', 'PartType0']>"
      ]
     },
     "execution_count": 19,
     "metadata": {},
     "output_type": "execute_result"
    }
   ],
   "source": [
    "file.keys()"
   ]
  },
  {
   "cell_type": "code",
   "execution_count": 20,
   "id": "1b35f112",
   "metadata": {},
   "outputs": [
    {
     "data": {
      "text/plain": [
       "<HDF5 group \"/Parameters\" (0 members)>"
      ]
     },
     "execution_count": 20,
     "metadata": {},
     "output_type": "execute_result"
    }
   ],
   "source": [
    "file['Parameters']"
   ]
  },
  {
   "cell_type": "code",
   "execution_count": 21,
   "id": "1fc83535",
   "metadata": {},
   "outputs": [
    {
     "data": {
      "text/plain": [
       "<KeysViewHDF5 ['Coordinates', 'Density', 'InternalEnergy', 'Masses', 'ParticleIDs', 'SmoothingLength', 'Velocities']>"
      ]
     },
     "execution_count": 21,
     "metadata": {},
     "output_type": "execute_result"
    }
   ],
   "source": [
    "file['PartType0'].keys()"
   ]
  },
  {
   "cell_type": "code",
   "execution_count": 22,
   "id": "18b4467f",
   "metadata": {},
   "outputs": [
    {
     "data": {
      "text/plain": [
       "<HDF5 dataset \"Coordinates\": shape (8192, 3), type \"<f4\">"
      ]
     },
     "execution_count": 22,
     "metadata": {},
     "output_type": "execute_result"
    }
   ],
   "source": [
    "coord = file['PartType0']['Coordinates']\n",
    "coord"
   ]
  },
  {
   "cell_type": "code",
   "execution_count": 23,
   "id": "e664fe31",
   "metadata": {
    "scrolled": false
   },
   "outputs": [
    {
     "name": "stdout",
     "output_type": "stream",
     "text": [
      "(8192, 3)\n"
     ]
    },
    {
     "data": {
      "text/plain": [
       "(-0.5, 0.5)"
      ]
     },
     "execution_count": 23,
     "metadata": {},
     "output_type": "execute_result"
    },
    {
     "data": {
      "image/png": "[encoded data removed]",
      "text/plain": [
       "<Figure size 216x216 with 1 Axes>"
      ]
     },
     "metadata": {
      "needs_background": "light"
     },
     "output_type": "display_data"
    }
   ],
   "source": [
    "with open('../Testing_Auto_timestep/Outputs_0.5_m_8k_my_code/00400.pkl', 'rb') as f:\n",
    "    data = pickle.load(f)\n",
    "    r = data['pos']\n",
    "\n",
    "j = 320\n",
    "    \n",
    "print(r.shape)\n",
    "plt.figure(figsize = (3, 3))\n",
    "plt.scatter(coord[:, 0], coord[:, 1], s = 0.02, color = 'black')\n",
    "plt.plot(coord[j, 0], coord[j, 1], marker = 'o', color = 'red')\n",
    "#plt.scatter(r[:, 0], r[:, 1], s = 0.02, color = 'blue')\n",
    "xyrange = 0.5\n",
    "plt.xlim(-xyrange, xyrange)\n",
    "plt.ylim(-xyrange, xyrange)"
   ]
  },
  {
   "cell_type": "code",
   "execution_count": 24,
   "id": "142ce118",
   "metadata": {},
   "outputs": [
    {
     "data": {
      "text/plain": [
       "(0.014756903, 1.2249879, 0.13330624)"
      ]
     },
     "execution_count": 24,
     "metadata": {},
     "output_type": "execute_result"
    }
   ],
   "source": [
    "h = file['PartType0']['SmoothingLength']\n",
    "\n",
    "np.min(h), np.max(h), np.median(h)"
   ]
  },
  {
   "cell_type": "code",
   "execution_count": 25,
   "id": "e8158046",
   "metadata": {},
   "outputs": [
    {
     "data": {
      "text/plain": [
       "(0.014756903, 1.2249879, 0.13330624)"
      ]
     },
     "execution_count": 25,
     "metadata": {},
     "output_type": "execute_result"
    }
   ],
   "source": [
    "h = file['PartType0']['SmoothingLength']\n",
    "\n",
    "np.min(h), np.max(h), np.median(h)"
   ]
  },
  {
   "cell_type": "code",
   "execution_count": null,
   "id": "2efe19e1",
   "metadata": {},
   "outputs": [],
   "source": []
  },
  {
   "cell_type": "code",
   "execution_count": 26,
   "id": "6c378604",
   "metadata": {},
   "outputs": [
    {
     "data": {
      "text/plain": [
       "array([8.7723659e-21, 1.0794928e-20, 1.2542700e-20, ..., 1.2689115e-14,\n",
       "       1.3323838e-14, 1.3855595e-14], dtype=float32)"
      ]
     },
     "execution_count": 26,
     "metadata": {},
     "output_type": "execute_result"
    }
   ],
   "source": [
    "rho = list(file['PartType0']['Density'])\n",
    "np.sort(rho)* 1.591936e-17"
   ]
  },
  {
   "cell_type": "code",
   "execution_count": null,
   "id": "9455f3fc",
   "metadata": {},
   "outputs": [],
   "source": []
  },
  {
   "cell_type": "code",
   "execution_count": null,
   "id": "61217167",
   "metadata": {},
   "outputs": [],
   "source": []
  },
  {
   "cell_type": "code",
   "execution_count": null,
   "id": "fdce609a",
   "metadata": {},
   "outputs": [],
   "source": []
  },
  {
   "cell_type": "code",
   "execution_count": null,
   "id": "d243a062",
   "metadata": {},
   "outputs": [],
   "source": []
  },
  {
   "cell_type": "code",
   "execution_count": 143,
   "id": "d630bb8d",
   "metadata": {},
   "outputs": [
    {
     "data": {
      "text/plain": [
       "(0.1273388, 0.1273388, 0.1273388)"
      ]
     },
     "execution_count": 143,
     "metadata": {},
     "output_type": "execute_result"
    }
   ],
   "source": [
    "u = file['PartType0']['InternalEnergy']\n",
    "min(u), max(u), np.median(u)"
   ]
  },
  {
   "cell_type": "code",
   "execution_count": null,
   "id": "d778da2e",
   "metadata": {},
   "outputs": [],
   "source": []
  },
  {
   "cell_type": "code",
   "execution_count": null,
   "id": "33ff4f83",
   "metadata": {},
   "outputs": [],
   "source": []
  },
  {
   "cell_type": "code",
   "execution_count": 11,
   "id": "d605322d",
   "metadata": {},
   "outputs": [
    {
     "data": {
      "text/plain": [
       "0.051000000000000004"
      ]
     },
     "execution_count": 11,
     "metadata": {},
     "output_type": "execute_result"
    }
   ],
   "source": [
    "0.034*1.5"
   ]
  },
  {
   "cell_type": "code",
   "execution_count": null,
   "id": "7eed9589",
   "metadata": {},
   "outputs": [],
   "source": []
  },
  {
   "cell_type": "code",
   "execution_count": null,
   "id": "43ed2b7d",
   "metadata": {},
   "outputs": [],
   "source": []
  },
  {
   "cell_type": "code",
   "execution_count": 28,
   "id": "4455ec54",
   "metadata": {},
   "outputs": [
    {
     "data": {
      "text/plain": [
       "<HDF5 dataset \"Masses\": shape (32768,), type \"<f4\">"
      ]
     },
     "execution_count": 28,
     "metadata": {},
     "output_type": "execute_result"
    }
   ],
   "source": [
    "m = file['PartType0']['Masses']\n",
    "m"
   ]
  },
  {
   "cell_type": "code",
   "execution_count": 29,
   "id": "d524237e",
   "metadata": {},
   "outputs": [
    {
     "data": {
      "text/plain": [
       "<HDF5 dataset \"Velocities\": shape (32768, 3), type \"<f4\">"
      ]
     },
     "execution_count": 29,
     "metadata": {},
     "output_type": "execute_result"
    }
   ],
   "source": [
    "v = file['PartType0']['Velocities']\n",
    "v"
   ]
  },
  {
   "cell_type": "code",
   "execution_count": null,
   "id": "f293fef9",
   "metadata": {},
   "outputs": [],
   "source": [
    "ids = file['PartType0']['ParticleIDs']\n",
    "ids"
   ]
  },
  {
   "cell_type": "code",
   "execution_count": null,
   "id": "6c9f35b6",
   "metadata": {},
   "outputs": [],
   "source": [
    "len(np.unique(list(ids)))"
   ]
  },
  {
   "cell_type": "code",
   "execution_count": null,
   "id": "b8e2f21c",
   "metadata": {},
   "outputs": [],
   "source": []
  }
 ],
 "metadata": {
  "kernelspec": {
   "display_name": "Python 3 (ipykernel)",
   "language": "python",
   "name": "python3"
  },
  "language_info": {
   "codemirror_mode": {
    "name": "ipython",
    "version": 3
   },
   "file_extension": ".py",
   "mimetype": "text/x-python",
   "name": "python",
   "nbconvert_exporter": "python",
   "pygments_lexer": "ipython3",
   "version": "3.9.7"
  }
 },
 "nbformat": 4,
 "nbformat_minor": 5
}
