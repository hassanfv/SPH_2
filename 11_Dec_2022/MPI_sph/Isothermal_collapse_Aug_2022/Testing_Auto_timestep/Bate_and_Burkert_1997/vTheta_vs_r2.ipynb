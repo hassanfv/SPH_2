{
 "cells": [
  {
   "cell_type": "code",
   "execution_count": 1,
   "id": "7688bd76",
   "metadata": {},
   "outputs": [],
   "source": [
    "import numpy as np\n",
    "import matplotlib.pyplot as plt\n",
    "import glob\n",
    "import pickle"
   ]
  },
  {
   "cell_type": "code",
   "execution_count": 2,
   "id": "d0209755",
   "metadata": {},
   "outputs": [
    {
     "name": "stdout",
     "output_type": "stream",
     "text": [
      "UnitDensity_in_cgs = 2.555477932111449e-18 g/cm^3\n",
      "unitVelocity_in_cm_per_s = 33979.12 cm/s\n"
     ]
    }
   ],
   "source": [
    "M_sun = 1.98992e+33 # gram\n",
    "UnitMass_in_g = 1.0 * M_sun       # !!!!!!!!!!!!!!!!!!!!!!!!! CHANGE !!!!!!!!!!!!!!!!!\n",
    "UnitRadius_in_cm = 9.2e16  #!!!!!!!!!!!!!! CHANGE !!!!!!!!!!!!!!!!!!\n",
    "UnitDensity_in_cgs = UnitMass_in_g / UnitRadius_in_cm**3\n",
    "\n",
    "print(f'UnitDensity_in_cgs = {UnitDensity_in_cgs} g/cm^3')\n",
    "\n",
    "G = 6.6738e-8\n",
    "rgas = 9.2e16                                     # The initial radius of the cloud in cm\n",
    "rho0 = 6.02e-19                                   # The initial average density\n",
    "tff = np.sqrt(3*np.pi/(32*G*rho0))                # The free-fall time = 3.4e4 yr\n",
    "unitTime_in_s = tff                               # Scaling time to free-fall time\n",
    "unitLength_in_cm = rgas                           # Scaling distance to the initial cloud radius\n",
    "\n",
    "unitVelocity_in_cm_per_s = unitLength_in_cm / unitTime_in_s          # The internal velocity unit\n",
    "print(f'unitVelocity_in_cm_per_s = {round(unitVelocity_in_cm_per_s, 2)} cm/s')"
   ]
  },
  {
   "cell_type": "code",
   "execution_count": 8,
   "id": "f084a5f2",
   "metadata": {},
   "outputs": [
    {
     "name": "stdout",
     "output_type": "stream",
     "text": [
      "rho =  [3.42066327e-22 3.82262886e-22 3.85949077e-22 ... 9.02355894e-14\n",
      " 9.86022860e-14 1.01965947e-13]\n",
      "948\n"
     ]
    }
   ],
   "source": [
    "#NN = 7500\n",
    "#j = 1935\n",
    "#filz = np.sort(glob.glob('/mnt/Linux_Shared_Folder_2022/Output_21_August/*.pkl'))\n",
    "\n",
    "NN = 100\n",
    "j = 720\n",
    "filz = np.sort(glob.glob('./Outputs_10k_beta_0.01/*.pkl'))\n",
    "\n",
    "with open(filz[j], 'rb') as f:\n",
    "    data = pickle.load(f)\n",
    "\n",
    "r = data['pos']\n",
    "h = data['h']\n",
    "v = data['v']\n",
    "rho = data['rho']\n",
    "mass = data['m']\n",
    "\n",
    "x = r[:, 0]\n",
    "y = r[:, 1]\n",
    "z = r[:, 2]\n",
    "t = data['current_t']\n",
    "unitTime_in_kyr = data['unitTime_in_kyr']\n",
    "\n",
    "print('rho = ', np.sort(rho)*UnitDensity_in_cgs)\n",
    "\n",
    "## Selecting particles in a thin shell parallel to the x-y plane\n",
    "\n",
    "delta = 0.01\n",
    "\n",
    "nz = np.where((z >= -delta) & (z <= delta))[0]\n",
    "print(len(nz))\n",
    "\n",
    "x = x[nz]\n",
    "y = y[nz]\n",
    "z = z[nz]\n"
   ]
  },
  {
   "cell_type": "code",
   "execution_count": 4,
   "id": "1713e28e",
   "metadata": {},
   "outputs": [
    {
     "data": {
      "text/plain": [
       "(-1.0, 1.0)"
      ]
     },
     "execution_count": 4,
     "metadata": {},
     "output_type": "execute_result"
    },
    {
     "data": {
      "image/png": "[encoded data removed]",
      "text/plain": [
       "<Figure size 432x288 with 1 Axes>"
      ]
     },
     "metadata": {
      "needs_background": "light"
     },
     "output_type": "display_data"
    }
   ],
   "source": [
    "plt.scatter(x, z, s = 0.1)\n",
    "plt.xlim(-1, 1)\n",
    "plt.ylim(-1, 1)"
   ]
  },
  {
   "cell_type": "code",
   "execution_count": 5,
   "id": "6f4c56ec",
   "metadata": {},
   "outputs": [
    {
     "name": "stdout",
     "output_type": "stream",
     "text": [
      "Done !!!\n"
     ]
    },
    {
     "data": {
      "image/png": "[encoded data removed]",
      "text/plain": [
       "<Figure size 432x288 with 1 Axes>"
      ]
     },
     "metadata": {
      "needs_background": "light"
     },
     "output_type": "display_data"
    }
   ],
   "source": [
    "vx = v[:, 0]\n",
    "vy = v[:, 1]\n",
    "vz = v[:, 2]\n",
    "\n",
    "res = []\n",
    "\n",
    "for i in range(len(x)-NN):\n",
    "    \n",
    "    d = (x[i]*x[i] + y[i]*y[i])**0.5\n",
    "\n",
    "    Jt = 0.\n",
    "    for k in range(NN):\n",
    "        Jt += x[i+k]*vy[i+k] - y[i+k]*vx[i+k]\n",
    "\n",
    "    res.append([d, np.mean(Jt/d)])\n",
    "\n",
    "res = np.array(res)\n",
    "\n",
    "d = res[:, 0] * unitLength_in_cm\n",
    "jt_d = res[:, 1] \n",
    "\n",
    "plt.scatter(np.log10(d), jt_d, s = 0.1)\n",
    "\n",
    "print('Done !!!')"
   ]
  },
  {
   "cell_type": "code",
   "execution_count": null,
   "id": "56957d10",
   "metadata": {},
   "outputs": [],
   "source": []
  },
  {
   "cell_type": "code",
   "execution_count": null,
   "id": "8cd401bc",
   "metadata": {},
   "outputs": [],
   "source": []
  },
  {
   "cell_type": "code",
   "execution_count": null,
   "id": "4399c896",
   "metadata": {},
   "outputs": [],
   "source": []
  },
  {
   "cell_type": "code",
   "execution_count": 6,
   "id": "7f005322",
   "metadata": {},
   "outputs": [
    {
     "name": "stdout",
     "output_type": "stream",
     "text": [
      "rho =  [2.52149963e-19 2.55984445e-19 2.57326428e-19 ... 7.81179208e-19\n",
      " 7.83612296e-19 7.98841457e-19]\n",
      "573\n"
     ]
    }
   ],
   "source": [
    "NN = 10\n",
    "j = 1\n",
    "filz = np.sort(glob.glob('./Outputs_10k_beta_0.01/*.pkl'))\n",
    "\n",
    "with open(filz[j], 'rb') as f:\n",
    "    data = pickle.load(f)\n",
    "\n",
    "r = data['pos']\n",
    "h = data['h']\n",
    "v = data['v']\n",
    "rho = data['rho']\n",
    "\n",
    "x = r[:, 0]\n",
    "y = r[:, 1]\n",
    "z = r[:, 2]\n",
    "t = data['current_t']\n",
    "unitTime_in_kyr = data['unitTime_in_kyr']\n",
    "\n",
    "print('rho = ', np.sort(rho)*UnitDensity_in_cgs)\n",
    "\n",
    "## Selecting particles in a thin shell parallel to the x-y plane\n",
    "\n",
    "delta = 0.05\n",
    "\n",
    "nz = np.where((z >= -delta) & (z <= delta))[0]\n",
    "print(len(nz))\n",
    "\n",
    "x = x[nz]\n",
    "y = y[nz]\n",
    "z = z[nz]\n",
    "\n",
    "v = v[nz] * unitVelocity_in_cm_per_s"
   ]
  },
  {
   "cell_type": "code",
   "execution_count": 7,
   "id": "4a2afd47",
   "metadata": {},
   "outputs": [
    {
     "name": "stdout",
     "output_type": "stream",
     "text": [
      "Done !!!\n"
     ]
    },
    {
     "data": {
      "image/png": "[encoded data removed]",
      "text/plain": [
       "<Figure size 432x288 with 1 Axes>"
      ]
     },
     "metadata": {
      "needs_background": "light"
     },
     "output_type": "display_data"
    }
   ],
   "source": [
    "vx = v[:, 0]\n",
    "vy = v[:, 1]\n",
    "vz = v[:, 2]\n",
    "\n",
    "res = []\n",
    "\n",
    "for i in range(len(x)):\n",
    "    \n",
    "    d = (x[i]*x[i] + y[i]*y[i])**0.5\n",
    "\n",
    "    Jt = x[i]*vy[i] - y[i]*vx[i]\n",
    "\n",
    "    res.append([d, Jt/d])\n",
    "\n",
    "res = np.array(res)\n",
    "\n",
    "d = res[:, 0] * unitLength_in_cm\n",
    "jt_d = res[:, 1] \n",
    "\n",
    "plt.scatter(np.log10(d), jt_d, s = 0.1)\n",
    "\n",
    "print('Done !!!')"
   ]
  },
  {
   "cell_type": "code",
   "execution_count": null,
   "id": "25652b1c",
   "metadata": {},
   "outputs": [],
   "source": []
  }
 ],
 "metadata": {
  "kernelspec": {
   "display_name": "Python 3 (ipykernel)",
   "language": "python",
   "name": "python3"
  },
  "language_info": {
   "codemirror_mode": {
    "name": "ipython",
    "version": 3
   },
   "file_extension": ".py",
   "mimetype": "text/x-python",
   "name": "python",
   "nbconvert_exporter": "python",
   "pygments_lexer": "ipython3",
   "version": "3.9.7"
  }
 },
 "nbformat": 4,
 "nbformat_minor": 5
}
