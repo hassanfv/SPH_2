{
 "cells": [
  {
   "cell_type": "markdown",
   "id": "982e0037",
   "metadata": {},
   "source": [
    "## Calculating omega based on beta"
   ]
  },
  {
   "cell_type": "code",
   "execution_count": 1,
   "id": "bbce8074",
   "metadata": {},
   "outputs": [],
   "source": [
    "import numpy as np"
   ]
  },
  {
   "cell_type": "code",
   "execution_count": 5,
   "id": "5549f34c",
   "metadata": {},
   "outputs": [],
   "source": [
    "G = 6.67259e-8 #  cm3 g-1 s-2\n",
    "M_sun = 1.98992e+33 # gram\n",
    "M0 = 1.0 * M_sun\n",
    "R0 = 9.2e16"
   ]
  },
  {
   "cell_type": "code",
   "execution_count": 6,
   "id": "bbe2b884",
   "metadata": {},
   "outputs": [],
   "source": [
    "beta = 0.01"
   ]
  },
  {
   "cell_type": "code",
   "execution_count": 9,
   "id": "3c668349",
   "metadata": {},
   "outputs": [
    {
     "name": "stdout",
     "output_type": "stream",
     "text": [
      "omega = 7.152270232945803e-14 radians s^-1 \n"
     ]
    }
   ],
   "source": [
    "omega = (3.*G*M0*beta/R0**3)**0.5\n",
    "print(f'omega = {omega} radians s^-1 ')"
   ]
  },
  {
   "cell_type": "code",
   "execution_count": null,
   "id": "5c4346ed",
   "metadata": {},
   "outputs": [],
   "source": []
  }
 ],
 "metadata": {
  "kernelspec": {
   "display_name": "Python 3 (ipykernel)",
   "language": "python",
   "name": "python3"
  },
  "language_info": {
   "codemirror_mode": {
    "name": "ipython",
    "version": 3
   },
   "file_extension": ".py",
   "mimetype": "text/x-python",
   "name": "python",
   "nbconvert_exporter": "python",
   "pygments_lexer": "ipython3",
   "version": "3.9.7"
  }
 },
 "nbformat": 4,
 "nbformat_minor": 5
}
