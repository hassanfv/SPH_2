{
 "cells": [
  {
   "cell_type": "code",
   "execution_count": 13,
   "id": "7688bd76",
   "metadata": {},
   "outputs": [],
   "source": [
    "import numpy as np\n",
    "import matplotlib.pyplot as plt\n",
    "import glob\n",
    "import pickle"
   ]
  },
  {
   "cell_type": "code",
   "execution_count": 14,
   "id": "d0209755",
   "metadata": {},
   "outputs": [
    {
     "name": "stdout",
     "output_type": "stream",
     "text": [
      "UnitDensity_in_cgs = 1.591936e-17 g/cm^3\n",
      "unitVelocity_in_cm_per_s = 33979.12 cm/s\n"
     ]
    }
   ],
   "source": [
    "M_sun = 1.98992e+33 # gram\n",
    "UnitMass_in_g = 1.0 * M_sun       # !!!!!!!!!!!!!!!!!!!!!!!!! CHANGE !!!!!!!!!!!!!!!!!\n",
    "UnitRadius_in_cm = 5e+16  #!!!!!!!!!!!!!! CHANGE !!!!!!!!!!!!!!!!!!\n",
    "UnitDensity_in_cgs = UnitMass_in_g / UnitRadius_in_cm**3\n",
    "\n",
    "print(f'UnitDensity_in_cgs = {UnitDensity_in_cgs} g/cm^3')\n",
    "\n",
    "G = 6.6738e-8\n",
    "rgas = 9.2e16                                     # The initial radius of the cloud in cm\n",
    "rho0 = 6.02e-19                                   # The initial average density\n",
    "tff = np.sqrt(3*np.pi/(32*G*rho0))                # The free-fall time = 3.4e4 yr\n",
    "unitTime_in_s = tff                               # Scaling time to free-fall time\n",
    "unitLength_in_cm = rgas                           # Scaling distance to the initial cloud radius\n",
    "\n",
    "unitVelocity_in_cm_per_s = unitLength_in_cm / unitTime_in_s          # The internal velocity unit\n",
    "print(f'unitVelocity_in_cm_per_s = {round(unitVelocity_in_cm_per_s, 2)} cm/s')"
   ]
  },
  {
   "cell_type": "code",
   "execution_count": 33,
   "id": "b1f0b668",
   "metadata": {},
   "outputs": [
    {
     "name": "stdout",
     "output_type": "stream",
     "text": [
      "(27083, 3)\n",
      "h =  [4.45257761e-04 4.47941378e-04 4.47941378e-04 ... 7.59251430e-01\n",
      " 7.62957699e-01 7.76720191e-01]\n",
      "rho =  [8.49824955e-22 9.77820836e-22 1.00366537e-21 ... 1.21420443e-11\n",
      " 1.23662045e-11 1.24743789e-11]\n",
      "Done !!!\n"
     ]
    }
   ],
   "source": [
    "NN = 800\n",
    "\n",
    "j = 1400\n",
    "\n",
    "filz = np.sort(glob.glob('./Outputs_27k_beta_0.01/*.pkl'))\n",
    "\n",
    "with open(filz[j], 'rb') as f:\n",
    "    data = pickle.load(f)\n",
    "\n",
    "r = data['pos']\n",
    "h = data['h']\n",
    "v = data['v']\n",
    "print(r.shape)\n",
    "\n",
    "print('h = ', np.sort(h))\n",
    "\n",
    "x = r[:, 0]\n",
    "y = r[:, 1]\n",
    "z = r[:, 2]\n",
    "t = data['current_t']\n",
    "rho = data['rho']\n",
    "unitTime_in_kyr = data['unitTime_in_kyr']\n",
    "\n",
    "print('rho = ', np.sort(rho)*UnitDensity_in_cgs)\n",
    "\n",
    "vx = v[:, 0]\n",
    "vy = v[:, 1]\n",
    "vz = v[:, 2]\n",
    "\n",
    "J = []\n",
    "\n",
    "for i in range(len(x)-NN):\n",
    "    \n",
    "    Jt = 0.0\n",
    "    \n",
    "    for j in range(NN):\n",
    "        Jt += x[i+j]*vy[i+j] - y[i+j]*vx[i+j]\n",
    "    \n",
    "    J.append([i, Jt/NN])\n",
    "\n",
    "J = np.array(J)\n",
    "print('Done !!!')"
   ]
  },
  {
   "cell_type": "code",
   "execution_count": 34,
   "id": "aa2694cf",
   "metadata": {},
   "outputs": [
    {
     "name": "stdout",
     "output_type": "stream",
     "text": [
      "(27083, 3)\n",
      "h =  [0.05768038 0.05768038 0.05768038 ... 0.08101933 0.08157237 0.08320944]\n",
      "rho =  [1.37883038e-18 1.40896889e-18 1.47322019e-18 ... 5.00033494e-18\n",
      " 5.01363322e-18 5.17562216e-18]\n",
      "Done !!!\n"
     ]
    }
   ],
   "source": [
    "j = 0\n",
    "\n",
    "filz = np.sort(glob.glob('./Outputs_27k_beta_0.01/*.pkl'))\n",
    "\n",
    "with open(filz[j], 'rb') as f:\n",
    "    data = pickle.load(f)\n",
    "\n",
    "r = data['pos']\n",
    "h = data['h']\n",
    "v = data['v']\n",
    "print(r.shape)\n",
    "\n",
    "print('h = ', np.sort(h))\n",
    "\n",
    "x = r[:, 0]\n",
    "y = r[:, 1]\n",
    "z = r[:, 2]\n",
    "t = data['current_t']\n",
    "rho = data['rho']\n",
    "unitTime_in_kyr = data['unitTime_in_kyr']\n",
    "\n",
    "print('rho = ', np.sort(rho)*UnitDensity_in_cgs)\n",
    "\n",
    "vx = v[:, 0]\n",
    "vy = v[:, 1]\n",
    "vz = v[:, 2]\n",
    "\n",
    "J0 = []\n",
    "\n",
    "for i in range(len(x)-NN):\n",
    "    \n",
    "    Jt = 0.0\n",
    "    \n",
    "    for j in range(NN):\n",
    "        Jt += x[i+j]*vy[i+j] - y[i+j]*vx[i+j]\n",
    "    \n",
    "    J0.append([i, Jt/NN])\n",
    "\n",
    "J0 = np.array(J0)\n",
    "print('Done !!!')"
   ]
  },
  {
   "cell_type": "code",
   "execution_count": 35,
   "id": "576b60fd",
   "metadata": {},
   "outputs": [
    {
     "data": {
      "text/plain": [
       "(0.85, 1.15)"
      ]
     },
     "execution_count": 35,
     "metadata": {},
     "output_type": "execute_result"
    },
    {
     "data": {
      "image/png": "[encoded data removed]",
      "text/plain": [
       "<Figure size 432x288 with 1 Axes>"
      ]
     },
     "metadata": {
      "needs_background": "light"
     },
     "output_type": "display_data"
    }
   ],
   "source": [
    "#plt.scatter(J[:, 0], J[:, 1]/J0[:, 1], s = 0.1, color = 'k')\n",
    "plt.plot(J[:, 0], J[:, 1]/J0[:, 1], color = 'k')\n",
    "plt.ylim(0.85, 1.15)"
   ]
  },
  {
   "cell_type": "code",
   "execution_count": null,
   "id": "2fa9d5b8",
   "metadata": {},
   "outputs": [],
   "source": []
  },
  {
   "cell_type": "code",
   "execution_count": null,
   "id": "bf965222",
   "metadata": {},
   "outputs": [],
   "source": []
  },
  {
   "cell_type": "code",
   "execution_count": 32,
   "id": "f170c5e7",
   "metadata": {},
   "outputs": [
    {
     "data": {
      "text/plain": [
       "(0.85, 1.15)"
      ]
     },
     "execution_count": 32,
     "metadata": {},
     "output_type": "execute_result"
    },
    {
     "data": {
      "image/png": "[encoded data removed]",
      "text/plain": [
       "<Figure size 432x288 with 1 Axes>"
      ]
     },
     "metadata": {
      "needs_background": "light"
     },
     "output_type": "display_data"
    }
   ],
   "source": [
    "#plt.scatter(J[:, 0], J[:, 1]/J0[:, 1], s = 0.1, color = 'k')\n",
    "plt.plot(J[:, 0], J[:, 1]/J0[:, 1], color = 'k')\n",
    "plt.ylim(0.85, 1.15)"
   ]
  },
  {
   "cell_type": "code",
   "execution_count": null,
   "id": "1c0f57ba",
   "metadata": {},
   "outputs": [],
   "source": []
  },
  {
   "cell_type": "code",
   "execution_count": null,
   "id": "8e1bc2a4",
   "metadata": {},
   "outputs": [],
   "source": []
  }
 ],
 "metadata": {
  "kernelspec": {
   "display_name": "Python 3 (ipykernel)",
   "language": "python",
   "name": "python3"
  },
  "language_info": {
   "codemirror_mode": {
    "name": "ipython",
    "version": 3
   },
   "file_extension": ".py",
   "mimetype": "text/x-python",
   "name": "python",
   "nbconvert_exporter": "python",
   "pygments_lexer": "ipython3",
   "version": "3.9.7"
  }
 },
 "nbformat": 4,
 "nbformat_minor": 5
}
