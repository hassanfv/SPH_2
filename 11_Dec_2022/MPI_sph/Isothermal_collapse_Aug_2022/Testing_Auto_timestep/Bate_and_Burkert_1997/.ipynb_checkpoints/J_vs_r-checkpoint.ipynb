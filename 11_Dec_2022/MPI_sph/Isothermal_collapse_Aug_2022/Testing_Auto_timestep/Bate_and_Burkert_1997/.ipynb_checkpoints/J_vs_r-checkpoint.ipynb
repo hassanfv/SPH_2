{
 "cells": [
  {
   "cell_type": "code",
   "execution_count": 84,
   "id": "7688bd76",
   "metadata": {},
   "outputs": [],
   "source": [
    "import numpy as np\n",
    "import matplotlib.pyplot as plt\n",
    "import glob\n",
    "import pickle"
   ]
  },
  {
   "cell_type": "code",
   "execution_count": 85,
   "id": "d0209755",
   "metadata": {},
   "outputs": [
    {
     "name": "stdout",
     "output_type": "stream",
     "text": [
      "UnitDensity_in_cgs = 1.591936e-17 g/cm^3\n",
      "unitVelocity_in_cm_per_s = 33979.12 cm/s\n"
     ]
    }
   ],
   "source": [
    "M_sun = 1.98992e+33 # gram\n",
    "UnitMass_in_g = 1.0 * M_sun       # !!!!!!!!!!!!!!!!!!!!!!!!! CHANGE !!!!!!!!!!!!!!!!!\n",
    "UnitRadius_in_cm = 9.2e16  #!!!!!!!!!!!!!! CHANGE !!!!!!!!!!!!!!!!!!\n",
    "UnitDensity_in_cgs = UnitMass_in_g / UnitRadius_in_cm**3\n",
    "\n",
    "print(f'UnitDensity_in_cgs = {UnitDensity_in_cgs} g/cm^3')\n",
    "\n",
    "G = 6.6738e-8\n",
    "rgas = 9.2e16                                     # The initial radius of the cloud in cm\n",
    "rho0 = 6.02e-19                                   # The initial average density\n",
    "tff = np.sqrt(3*np.pi/(32*G*rho0))                # The free-fall time = 3.4e4 yr\n",
    "unitTime_in_s = tff                               # Scaling time to free-fall time\n",
    "unitLength_in_cm = rgas                           # Scaling distance to the initial cloud radius\n",
    "\n",
    "unitVelocity_in_cm_per_s = unitLength_in_cm / unitTime_in_s          # The internal velocity unit\n",
    "print(f'unitVelocity_in_cm_per_s = {round(unitVelocity_in_cm_per_s, 2)} cm/s')"
   ]
  },
  {
   "cell_type": "code",
   "execution_count": 86,
   "id": "452070e3",
   "metadata": {},
   "outputs": [],
   "source": [
    "NN = 7500\n",
    "\n",
    "j = 1935\n",
    "\n",
    "filz = np.sort(glob.glob('/mnt/Linux_Shared_Folder_2022/Output_21_August/*.pkl'))"
   ]
  },
  {
   "cell_type": "code",
   "execution_count": 87,
   "id": "d35fbc28",
   "metadata": {},
   "outputs": [
    {
     "data": {
      "text/plain": [
       "'/mnt/Linux_Shared_Folder_2022/Output_21_August/01445.pkl'"
      ]
     },
     "execution_count": 87,
     "metadata": {},
     "output_type": "execute_result"
    }
   ],
   "source": [
    "filz[j]"
   ]
  },
  {
   "cell_type": "code",
   "execution_count": 88,
   "id": "b1f0b668",
   "metadata": {},
   "outputs": [
    {
     "name": "stdout",
     "output_type": "stream",
     "text": [
      "rho =  [1.81624710e-22 1.90805615e-22 1.98326503e-22 ... 6.05299337e-13\n",
      " 6.17747794e-13 6.24460024e-13]\n",
      "Done !!!\n"
     ]
    }
   ],
   "source": [
    "with open(filz[j], 'rb') as f:\n",
    "    data = pickle.load(f)\n",
    "\n",
    "r = data['pos']\n",
    "h = data['h']\n",
    "v = data['v']\n",
    "rho = data['rho']\n",
    "#print(r.shape)\n",
    "\n",
    "#print('h = ', np.sort(h))\n",
    "\n",
    "x = r[:, 0]\n",
    "y = r[:, 1]\n",
    "z = r[:, 2]\n",
    "t = data['current_t']\n",
    "unitTime_in_kyr = data['unitTime_in_kyr']\n",
    "\n",
    "print('rho = ', np.sort(rho)*UnitDensity_in_cgs)\n",
    "\n",
    "vx = v[:, 0]\n",
    "vy = v[:, 1]\n",
    "vz = v[:, 2]\n",
    "\n",
    "J = []\n",
    "\n",
    "for i in range(len(x)-NN):\n",
    "    \n",
    "    Jt = 0.0\n",
    "    \n",
    "    for j in range(NN):\n",
    "        Jt += x[i+j]*vy[i+j] - y[i+j]*vx[i+j]\n",
    "    \n",
    "    J.append([i, rho[i], Jt/NN])\n",
    "\n",
    "J = np.array(J)\n",
    "rhot = J[:, 1]\n",
    "nrho = np.argsort(rhot)[::-1]\n",
    "J = J[nrho, :]\n",
    "print('Done !!!')"
   ]
  },
  {
   "cell_type": "code",
   "execution_count": 89,
   "id": "b204076c",
   "metadata": {},
   "outputs": [
    {
     "name": "stdout",
     "output_type": "stream",
     "text": [
      "(112968, 3)\n",
      "h =  [0.03584527 0.03584527 0.03584527 ... 0.05034918 0.05034918 0.05069286]\n",
      "rho =  [1.41342858e-18 1.43176012e-18 1.49263367e-18 ... 5.08340179e-18\n",
      " 5.12690028e-18 5.30042810e-18]\n",
      "Done !!!\n"
     ]
    }
   ],
   "source": [
    "j = 0\n",
    "\n",
    "filz = np.sort(glob.glob('/mnt/Linux_Shared_Folder_2022/Output_21_August/*.pkl'))\n",
    "\n",
    "with open(filz[j], 'rb') as f:\n",
    "    data = pickle.load(f)\n",
    "\n",
    "r = data['pos']\n",
    "h = data['h']\n",
    "v = data['v']\n",
    "print(r.shape)\n",
    "\n",
    "print('h = ', np.sort(h))\n",
    "\n",
    "x = r[:, 0]\n",
    "y = r[:, 1]\n",
    "z = r[:, 2]\n",
    "t = data['current_t']\n",
    "rho = data['rho']\n",
    "unitTime_in_kyr = data['unitTime_in_kyr']\n",
    "\n",
    "print('rho = ', np.sort(rho)*UnitDensity_in_cgs)\n",
    "\n",
    "vx = v[:, 0]\n",
    "vy = v[:, 1]\n",
    "vz = v[:, 2]\n",
    "\n",
    "J0 = []\n",
    "\n",
    "for i in range(len(x)-NN):\n",
    "    \n",
    "    Jt = 0.0\n",
    "    \n",
    "    for j in range(NN):\n",
    "        Jt += x[i+j]*vy[i+j] - y[i+j]*vx[i+j]\n",
    "    \n",
    "    J0.append([i, Jt/NN])\n",
    "\n",
    "J0 = np.array(J0)\n",
    "J0 = J0[nrho, :]\n",
    "print('Done !!!')"
   ]
  },
  {
   "cell_type": "code",
   "execution_count": 90,
   "id": "458d0c36",
   "metadata": {},
   "outputs": [
    {
     "data": {
      "text/plain": [
       "(0.85, 1.15)"
      ]
     },
     "execution_count": 90,
     "metadata": {},
     "output_type": "execute_result"
    },
    {
     "data": {
      "image/png": "[encoded data removed]",
      "text/plain": [
       "<Figure size 432x288 with 1 Axes>"
      ]
     },
     "metadata": {
      "needs_background": "light"
     },
     "output_type": "display_data"
    }
   ],
   "source": [
    "plt.scatter(J[:, 0], J[:, 2]/J0[:, 1], s = 0.01, color = 'k')\n",
    "#plt.plot(J[:, 0], J[:, 2]/J0[:, 1], color = 'k')\n",
    "plt.ylim(0.85, 1.15)"
   ]
  },
  {
   "cell_type": "code",
   "execution_count": 82,
   "id": "e9d6551c",
   "metadata": {},
   "outputs": [
    {
     "data": {
      "text/plain": [
       "(0.85, 1.15)"
      ]
     },
     "execution_count": 82,
     "metadata": {},
     "output_type": "execute_result"
    },
    {
     "data": {
      "image/png": "[encoded data removed]",
      "text/plain": [
       "<Figure size 432x288 with 1 Axes>"
      ]
     },
     "metadata": {
      "needs_background": "light"
     },
     "output_type": "display_data"
    }
   ],
   "source": [
    "plt.scatter(J[:, 0], J[:, 2]/J0[:, 1], s = 0.01, color = 'k')\n",
    "#plt.plot(J[:, 0], J[:, 2]/J0[:, 1], color = 'k')\n",
    "plt.ylim(0.85, 1.15)"
   ]
  },
  {
   "cell_type": "code",
   "execution_count": 63,
   "id": "336d6c8e",
   "metadata": {},
   "outputs": [
    {
     "data": {
      "text/plain": [
       "(0.85, 1.15)"
      ]
     },
     "execution_count": 63,
     "metadata": {},
     "output_type": "execute_result"
    },
    {
     "data": {
      "image/png": "[encoded data removed]",
      "text/plain": [
       "<Figure size 432x288 with 1 Axes>"
      ]
     },
     "metadata": {
      "needs_background": "light"
     },
     "output_type": "display_data"
    }
   ],
   "source": [
    "plt.scatter(J[:, 0], J[:, 2]/J0[:, 1], s = 0.1, color = 'k')\n",
    "#plt.plot(J[:, 0], J[:, 2]/J0[:, 1], color = 'k')\n",
    "plt.ylim(0.85, 1.15)"
   ]
  },
  {
   "cell_type": "code",
   "execution_count": 53,
   "id": "7b2ea0ab",
   "metadata": {},
   "outputs": [
    {
     "data": {
      "text/plain": [
       "(0.85, 1.15)"
      ]
     },
     "execution_count": 53,
     "metadata": {},
     "output_type": "execute_result"
    },
    {
     "data": {
      "image/png": "[encoded data removed]",
      "text/plain": [
       "<Figure size 432x288 with 1 Axes>"
      ]
     },
     "metadata": {
      "needs_background": "light"
     },
     "output_type": "display_data"
    }
   ],
   "source": [
    "plt.scatter(J[:, 0], J[:, 2]/J0[:, 1], s = 0.1, color = 'k')\n",
    "#plt.plot(J[:, 0], J[:, 2]/J0[:, 1], color = 'k')\n",
    "plt.ylim(0.85, 1.15)"
   ]
  },
  {
   "cell_type": "code",
   "execution_count": null,
   "id": "961fffdb",
   "metadata": {},
   "outputs": [],
   "source": []
  },
  {
   "cell_type": "code",
   "execution_count": null,
   "id": "1e887e50",
   "metadata": {},
   "outputs": [],
   "source": []
  },
  {
   "cell_type": "code",
   "execution_count": 32,
   "id": "bb6d93bf",
   "metadata": {},
   "outputs": [
    {
     "data": {
      "text/plain": [
       "(0.85, 1.15)"
      ]
     },
     "execution_count": 32,
     "metadata": {},
     "output_type": "execute_result"
    },
    {
     "data": {
      "image/png": "[encoded data removed]",
      "text/plain": [
       "<Figure size 432x288 with 1 Axes>"
      ]
     },
     "metadata": {
      "needs_background": "light"
     },
     "output_type": "display_data"
    }
   ],
   "source": [
    "#plt.scatter(J[:, 0], J[:, 1]/J0[:, 1], s = 0.1, color = 'k')\n",
    "plt.plot(J[:, 0], J[:, 1]/J0[:, 1], color = 'k')\n",
    "plt.ylim(0.85, 1.15)"
   ]
  },
  {
   "cell_type": "code",
   "execution_count": null,
   "id": "a6c79149",
   "metadata": {},
   "outputs": [],
   "source": []
  },
  {
   "cell_type": "code",
   "execution_count": null,
   "id": "8f54f4d0",
   "metadata": {},
   "outputs": [],
   "source": []
  }
 ],
 "metadata": {
  "kernelspec": {
   "display_name": "Python 3 (ipykernel)",
   "language": "python",
   "name": "python3"
  },
  "language_info": {
   "codemirror_mode": {
    "name": "ipython",
    "version": 3
   },
   "file_extension": ".py",
   "mimetype": "text/x-python",
   "name": "python",
   "nbconvert_exporter": "python",
   "pygments_lexer": "ipython3",
   "version": "3.9.7"
  }
 },
 "nbformat": 4,
 "nbformat_minor": 5
}
