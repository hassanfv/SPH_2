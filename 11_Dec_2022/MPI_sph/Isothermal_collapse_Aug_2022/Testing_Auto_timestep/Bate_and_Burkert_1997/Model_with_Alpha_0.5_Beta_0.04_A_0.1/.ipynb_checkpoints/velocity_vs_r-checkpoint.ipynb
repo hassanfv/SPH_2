{
 "cells": [
  {
   "cell_type": "code",
   "execution_count": 2,
   "id": "7688bd76",
   "metadata": {},
   "outputs": [],
   "source": [
    "import numpy as np\n",
    "import matplotlib.pyplot as plt\n",
    "import glob\n",
    "import pickle"
   ]
  },
  {
   "cell_type": "code",
   "execution_count": 3,
   "id": "d0209755",
   "metadata": {},
   "outputs": [
    {
     "name": "stdout",
     "output_type": "stream",
     "text": [
      "UnitDensity_in_cgs = 2.555477932111449e-18 g/cm^3\n",
      "unitVelocity_in_cm_per_s = 50883.94 cm/s\n"
     ]
    }
   ],
   "source": [
    "M_sun = 1.98992e+33 # gram\n",
    "UnitMass_in_g = 1.0 * M_sun       # !!!!!!!!!!!!!!!!!!!!!!!!! CHANGE !!!!!!!!!!!!!!!!!\n",
    "\n",
    "G = 6.6738e-8\n",
    "rgas = 9.2e16                                     # The initial radius of the cloud in cm\n",
    "rho0 = 1.35e-18                                   # The initial average density\n",
    "tff = np.sqrt(3*np.pi/(32*G*rho0))                # The free-fall time = 3.4e4 yr\n",
    "unitTime_in_s = tff                               # Scaling time to free-fall time\n",
    "unitLength_in_cm = rgas                           # Scaling distance to the initial cloud radius\n",
    "\n",
    "UnitDensity_in_cgs = UnitMass_in_g / unitLength_in_cm**3\n",
    "\n",
    "print(f'UnitDensity_in_cgs = {UnitDensity_in_cgs} g/cm^3')\n",
    "\n",
    "\n",
    "unitVelocity_in_cm_per_s = unitLength_in_cm / unitTime_in_s          # The internal velocity unit\n",
    "print(f'unitVelocity_in_cm_per_s = {round(unitVelocity_in_cm_per_s, 2)} cm/s')"
   ]
  },
  {
   "cell_type": "code",
   "execution_count": 4,
   "id": "b1f0b668",
   "metadata": {},
   "outputs": [],
   "source": [
    "j = 1935\n",
    "\n",
    "filz = np.sort(glob.glob('/mnt/Linux_Shared_Folder_2022/Output_21_August/*.pkl'))"
   ]
  },
  {
   "cell_type": "code",
   "execution_count": 68,
   "id": "5707efaf",
   "metadata": {},
   "outputs": [
    {
     "name": "stdout",
     "output_type": "stream",
     "text": [
      "(112968, 3)\n",
      "h =  [2.99780983e-04 3.08911137e-04 3.09282071e-04 ... 7.73556565e-01\n",
      " 7.98390019e-01 8.05645467e-01]\n",
      "rho =  [1.78180926e-22 1.87283005e-22 1.94637763e-22 ... 7.74311627e-12\n",
      " 7.78817831e-12 7.80552521e-12]\n"
     ]
    }
   ],
   "source": [
    "with open(filz[j], 'rb') as f:\n",
    "    data = pickle.load(f)\n",
    "\n",
    "r = data['pos']\n",
    "h = data['h']\n",
    "v = data['v']\n",
    "print(r.shape)\n",
    "\n",
    "print('h = ', np.sort(h))\n",
    "\n",
    "x = r[:, 0]\n",
    "y = r[:, 1]\n",
    "z = r[:, 2]\n",
    "t = data['current_t']\n",
    "rho = data['rho']\n",
    "unitTime_in_kyr = data['unitTime_in_kyr']\n",
    "\n",
    "print('rho = ', np.sort(rho)*UnitDensity_in_cgs)"
   ]
  },
  {
   "cell_type": "markdown",
   "id": "25900233",
   "metadata": {},
   "source": [
    "## Selecting particles in a thin shell parallel to the x-y plane"
   ]
  },
  {
   "cell_type": "code",
   "execution_count": 77,
   "id": "a9eb4fdd",
   "metadata": {},
   "outputs": [
    {
     "name": "stdout",
     "output_type": "stream",
     "text": [
      "10373\n"
     ]
    }
   ],
   "source": [
    "delta = 0.01\n",
    "\n",
    "nz = np.where((z >= -delta) & (z <= delta))[0]\n",
    "print(len(nz))\n",
    "\n",
    "rx = x[nz]\n",
    "ry = y[nz]\n",
    "rz = z[nz]\n",
    "\n",
    "vt = v[nz]"
   ]
  },
  {
   "cell_type": "code",
   "execution_count": 78,
   "id": "c6a69eac",
   "metadata": {},
   "outputs": [
    {
     "data": {
      "text/plain": [
       "(-1.0, 1.0)"
      ]
     },
     "execution_count": 78,
     "metadata": {},
     "output_type": "execute_result"
    },
    {
     "data": {
      "image/png": "[encoded data removed]",
      "text/plain": [
       "<Figure size 432x288 with 1 Axes>"
      ]
     },
     "metadata": {
      "needs_background": "light"
     },
     "output_type": "display_data"
    }
   ],
   "source": [
    "plt.scatter(rx, rz, s = 0.1)\n",
    "plt.xlim(-1, 1)\n",
    "plt.ylim(-1, 1)"
   ]
  },
  {
   "cell_type": "code",
   "execution_count": 79,
   "id": "dc94716c",
   "metadata": {},
   "outputs": [],
   "source": [
    "radius = (rx*rx + ry*ry + rz*rz)**0.5\n",
    "\n",
    "vr = (vt[:, 0]*rx + vt[:, 1]*ry + vt[:, 2]*rz)/radius"
   ]
  },
  {
   "cell_type": "code",
   "execution_count": null,
   "id": "6e509529",
   "metadata": {},
   "outputs": [],
   "source": []
  },
  {
   "cell_type": "code",
   "execution_count": 80,
   "id": "a36c4165",
   "metadata": {},
   "outputs": [],
   "source": [
    "logR = np.log10(radius)\n",
    "rgrid = np.logspace(min(logR), max(logR), 40)"
   ]
  },
  {
   "cell_type": "code",
   "execution_count": 81,
   "id": "24960197",
   "metadata": {},
   "outputs": [],
   "source": [
    "res = []\n",
    "\n",
    "for i in range(len(rgrid)-1):\n",
    "    \n",
    "    nx = np.where((radius > rgrid[i]) & (radius <= rgrid[i+1]))[0]\n",
    "    \n",
    "    res.append([rgrid[i], np.mean(vr[nx])])\n",
    "\n",
    "res = np.array(res)"
   ]
  },
  {
   "cell_type": "code",
   "execution_count": 82,
   "id": "dce83f30",
   "metadata": {},
   "outputs": [],
   "source": [
    "R = res[:, 0] * UnitRadius_in_cm\n",
    "vr = res[:, 1] * unitVelocity_in_cm_per_s"
   ]
  },
  {
   "cell_type": "code",
   "execution_count": null,
   "id": "dfec1351",
   "metadata": {},
   "outputs": [],
   "source": []
  },
  {
   "cell_type": "code",
   "execution_count": null,
   "id": "adc5d733",
   "metadata": {},
   "outputs": [],
   "source": []
  },
  {
   "cell_type": "code",
   "execution_count": 83,
   "id": "18e6154b",
   "metadata": {},
   "outputs": [
    {
     "data": {
      "image/png": "[encoded data removed]",
      "text/plain": [
       "<Figure size 432x288 with 1 Axes>"
      ]
     },
     "metadata": {
      "needs_background": "light"
     },
     "output_type": "display_data"
    }
   ],
   "source": [
    "plt.scatter(np.log10(R), vr, s = 5, color = 'k');"
   ]
  },
  {
   "cell_type": "code",
   "execution_count": 76,
   "id": "70ee922f",
   "metadata": {},
   "outputs": [
    {
     "data": {
      "image/png": "[encoded data removed]",
      "text/plain": [
       "<Figure size 432x288 with 1 Axes>"
      ]
     },
     "metadata": {
      "needs_background": "light"
     },
     "output_type": "display_data"
    }
   ],
   "source": [
    "plt.scatter(np.log10(R), vr, s = 5, color = 'k');"
   ]
  },
  {
   "cell_type": "code",
   "execution_count": null,
   "id": "3e886b4c",
   "metadata": {},
   "outputs": [],
   "source": []
  },
  {
   "cell_type": "code",
   "execution_count": 48,
   "id": "0da09e84",
   "metadata": {},
   "outputs": [
    {
     "data": {
      "image/png": "[encoded data removed]",
      "text/plain": [
       "<Figure size 432x288 with 1 Axes>"
      ]
     },
     "metadata": {
      "needs_background": "light"
     },
     "output_type": "display_data"
    }
   ],
   "source": [
    "plt.scatter(np.log10(R), vr, s = 5, color = 'k');"
   ]
  },
  {
   "cell_type": "code",
   "execution_count": 21,
   "id": "94a36c71",
   "metadata": {},
   "outputs": [
    {
     "data": {
      "image/png": "[encoded data removed]",
      "text/plain": [
       "<Figure size 432x288 with 1 Axes>"
      ]
     },
     "metadata": {
      "needs_background": "light"
     },
     "output_type": "display_data"
    }
   ],
   "source": [
    "plt.scatter(np.log10(R), vr, s = 5, color = 'k');"
   ]
  }
 ],
 "metadata": {
  "kernelspec": {
   "display_name": "Python 3 (ipykernel)",
   "language": "python",
   "name": "python3"
  },
  "language_info": {
   "codemirror_mode": {
    "name": "ipython",
    "version": 3
   },
   "file_extension": ".py",
   "mimetype": "text/x-python",
   "name": "python",
   "nbconvert_exporter": "python",
   "pygments_lexer": "ipython3",
   "version": "3.9.7"
  }
 },
 "nbformat": 4,
 "nbformat_minor": 5
}
