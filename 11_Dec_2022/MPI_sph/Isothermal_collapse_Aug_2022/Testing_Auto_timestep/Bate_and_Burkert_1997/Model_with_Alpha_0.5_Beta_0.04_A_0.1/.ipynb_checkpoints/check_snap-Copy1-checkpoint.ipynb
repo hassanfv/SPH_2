{
 "cells": [
  {
   "cell_type": "code",
   "execution_count": 2,
   "id": "2bfed29d",
   "metadata": {},
   "outputs": [],
   "source": [
    "import h5py\n",
    "import numpy as np\n",
    "import matplotlib.pyplot as plt\n",
    "import pickle"
   ]
  },
  {
   "cell_type": "code",
   "execution_count": 14,
   "id": "2f21c129",
   "metadata": {},
   "outputs": [],
   "source": [
    "#file = h5py.File('./output_a_0.5_B_0.04_Gag//snap_1207.hdf5', 'r')"
   ]
  },
  {
   "cell_type": "code",
   "execution_count": 45,
   "id": "9bfd5631",
   "metadata": {},
   "outputs": [],
   "source": [
    "file = h5py.File('/mnt/Linux_Shared_Folder_2022/output_8k_Gadget//snap_1450.hdf5', 'r')"
   ]
  },
  {
   "cell_type": "code",
   "execution_count": 46,
   "id": "5624235c",
   "metadata": {},
   "outputs": [
    {
     "data": {
      "text/plain": [
       "<KeysViewHDF5 ['Config', 'Header', 'Parameters', 'PartType0']>"
      ]
     },
     "execution_count": 46,
     "metadata": {},
     "output_type": "execute_result"
    }
   ],
   "source": [
    "file.keys()"
   ]
  },
  {
   "cell_type": "code",
   "execution_count": 47,
   "id": "1b35f112",
   "metadata": {},
   "outputs": [
    {
     "data": {
      "text/plain": [
       "<HDF5 group \"/Parameters\" (0 members)>"
      ]
     },
     "execution_count": 47,
     "metadata": {},
     "output_type": "execute_result"
    }
   ],
   "source": [
    "file['Parameters']"
   ]
  },
  {
   "cell_type": "code",
   "execution_count": 48,
   "id": "1fc83535",
   "metadata": {},
   "outputs": [
    {
     "data": {
      "text/plain": [
       "<KeysViewHDF5 ['Coordinates', 'Density', 'InternalEnergy', 'Masses', 'ParticleIDs', 'SmoothingLength', 'Velocities']>"
      ]
     },
     "execution_count": 48,
     "metadata": {},
     "output_type": "execute_result"
    }
   ],
   "source": [
    "file['PartType0'].keys()"
   ]
  },
  {
   "cell_type": "code",
   "execution_count": 49,
   "id": "18b4467f",
   "metadata": {},
   "outputs": [
    {
     "data": {
      "text/plain": [
       "<HDF5 dataset \"Coordinates\": shape (8192, 3), type \"<f4\">"
      ]
     },
     "execution_count": 49,
     "metadata": {},
     "output_type": "execute_result"
    }
   ],
   "source": [
    "coord = file['PartType0']['Coordinates']\n",
    "coord"
   ]
  },
  {
   "cell_type": "code",
   "execution_count": 50,
   "id": "8b6008c2",
   "metadata": {},
   "outputs": [
    {
     "name": "stdout",
     "output_type": "stream",
     "text": [
      "[0.03206079 0.05149593 0.05943003 ... 2.0720067  2.081601   2.118573  ]\n"
     ]
    }
   ],
   "source": [
    "v = file['PartType0']['Velocities']\n",
    "\n",
    "vv = (v[:, 0]**2 + v[:, 1]**2 + v[:, 2]**2)**0.5\n",
    "print(np.sort(vv))"
   ]
  },
  {
   "cell_type": "code",
   "execution_count": 51,
   "id": "142ce118",
   "metadata": {},
   "outputs": [
    {
     "data": {
      "text/plain": [
       "(0.015442943, 1.2327616, 0.15432088)"
      ]
     },
     "execution_count": 51,
     "metadata": {},
     "output_type": "execute_result"
    }
   ],
   "source": [
    "h = file['PartType0']['SmoothingLength']\n",
    "\n",
    "np.min(h), np.max(h), np.median(h)"
   ]
  },
  {
   "cell_type": "code",
   "execution_count": 52,
   "id": "e61a3c48",
   "metadata": {},
   "outputs": [
    {
     "data": {
      "text/plain": [
       "(0.00010986328, 0.00013427735, 0.0001224144)"
      ]
     },
     "execution_count": 52,
     "metadata": {},
     "output_type": "execute_result"
    }
   ],
   "source": [
    "mass = file['PartType0']['Masses']\n",
    "\n",
    "np.min(mass), np.max(mass), np.median(mass)"
   ]
  },
  {
   "cell_type": "code",
   "execution_count": 53,
   "id": "814b6009",
   "metadata": {},
   "outputs": [
    {
     "name": "stdout",
     "output_type": "stream",
     "text": [
      "UnitDensity_in_cgs = 5.630894306601103e-18 g/cm^3\n",
      "unitVelocity_in_cm_per_s = 39103.2 cm/s\n"
     ]
    }
   ],
   "source": [
    "M_sun = 1.98992e+33 # gram\n",
    "UnitMass_in_g = 1.0 * M_sun       # !!!!!!!!!!!!!!!!!!!!!!!!! CHANGE !!!!!!!!!!!!!!!!!\n",
    "\n",
    "G = 6.6738e-8\n",
    "rgas = 7.07e16                                     # The initial radius of the cloud in cm\n",
    "rho0 = 1.35e-18                                   # The initial average density\n",
    "tff = np.sqrt(3*np.pi/(32*G*rho0))                # The free-fall time = 3.4e4 yr\n",
    "unitTime_in_s = tff                               # Scaling time to free-fall time\n",
    "unitLength_in_cm = rgas                           # Scaling distance to the initial cloud radius\n",
    "\n",
    "UnitDensity_in_cgs = UnitMass_in_g / unitLength_in_cm**3\n",
    "\n",
    "print(f'UnitDensity_in_cgs = {UnitDensity_in_cgs} g/cm^3')\n",
    "\n",
    "unitVelocity_in_cm_per_s = unitLength_in_cm / unitTime_in_s          # The internal velocity unit\n",
    "print(f'unitVelocity_in_cm_per_s = {round(unitVelocity_in_cm_per_s, 2)} cm/s')"
   ]
  },
  {
   "cell_type": "code",
   "execution_count": 54,
   "id": "6c378604",
   "metadata": {},
   "outputs": [
    {
     "data": {
      "text/plain": [
       "array([4.9516437e-21, 5.0324004e-21, 5.0669344e-21, ..., 2.3614487e-15,\n",
       "       2.3673635e-15, 2.4055784e-15], dtype=float32)"
      ]
     },
     "execution_count": 54,
     "metadata": {},
     "output_type": "execute_result"
    }
   ],
   "source": [
    "rho = list(file['PartType0']['Density'])\n",
    "\n",
    "np.sort(rho)* UnitDensity_in_cgs"
   ]
  },
  {
   "cell_type": "code",
   "execution_count": 55,
   "id": "636b5f19",
   "metadata": {},
   "outputs": [],
   "source": [
    "x = coord[:, 0]\n",
    "y = coord[:, 1]\n",
    "z = coord[:, 2]"
   ]
  },
  {
   "cell_type": "code",
   "execution_count": 56,
   "id": "3cf85635",
   "metadata": {},
   "outputs": [
    {
     "data": {
      "text/plain": [
       "(-1.0, 1.0)"
      ]
     },
     "execution_count": 56,
     "metadata": {},
     "output_type": "execute_result"
    },
    {
     "data": {
      "image/png": "[encoded data removed]",
      "text/plain": [
       "<Figure size 432x432 with 1 Axes>"
      ]
     },
     "metadata": {
      "needs_background": "light"
     },
     "output_type": "display_data"
    }
   ],
   "source": [
    "plt.figure(figsize = (6, 6))\n",
    "plt.scatter(x, y, s = 0.01, color = 'k')\n",
    "xy = 1.0\n",
    "plt.xlim(-xy, xy)\n",
    "plt.ylim(-xy, xy)"
   ]
  },
  {
   "cell_type": "code",
   "execution_count": 28,
   "id": "9455f3fc",
   "metadata": {},
   "outputs": [
    {
     "name": "stdout",
     "output_type": "stream",
     "text": [
      "2431\n"
     ]
    }
   ],
   "source": [
    "delta = 0.02\n",
    "\n",
    "nz = np.where((z >= -delta) & (z <= delta))[0]\n",
    "print(len(nz))\n",
    "\n",
    "rx = x[nz]\n",
    "ry = y[nz]\n",
    "rz = z[nz]\n",
    "\n",
    "vt = v[nz]"
   ]
  },
  {
   "cell_type": "code",
   "execution_count": null,
   "id": "bc51acdc",
   "metadata": {},
   "outputs": [],
   "source": []
  },
  {
   "cell_type": "code",
   "execution_count": 29,
   "id": "da10277a",
   "metadata": {},
   "outputs": [
    {
     "data": {
      "text/plain": [
       "(-1.0, 1.0)"
      ]
     },
     "execution_count": 29,
     "metadata": {},
     "output_type": "execute_result"
    },
    {
     "data": {
      "image/png": "[encoded data removed]",
      "text/plain": [
       "<Figure size 432x288 with 1 Axes>"
      ]
     },
     "metadata": {
      "needs_background": "light"
     },
     "output_type": "display_data"
    }
   ],
   "source": [
    "plt.scatter(rx, rz, s = 0.1)\n",
    "plt.xlim(-1, 1)\n",
    "plt.ylim(-1, 1)"
   ]
  },
  {
   "cell_type": "code",
   "execution_count": 30,
   "id": "4f89a691",
   "metadata": {},
   "outputs": [],
   "source": [
    "radius = (rx*rx + ry*ry + rz*rz)**0.5\n",
    "\n",
    "vr = (vt[:, 0]*rx + vt[:, 1]*ry + vt[:, 2]*rz)/radius"
   ]
  },
  {
   "cell_type": "code",
   "execution_count": 31,
   "id": "0c36c5da",
   "metadata": {},
   "outputs": [
    {
     "name": "stdout",
     "output_type": "stream",
     "text": [
      "[-2.308084  -2.221272  -2.0549083 ...  1.2732872  1.3791324  1.4238136]\n"
     ]
    }
   ],
   "source": [
    "print(np.sort(vr))"
   ]
  },
  {
   "cell_type": "code",
   "execution_count": 32,
   "id": "edd66c46",
   "metadata": {},
   "outputs": [],
   "source": [
    "logR = np.log10(radius)\n",
    "rgrid = np.logspace(min(logR), max(logR), 40)\n",
    "\n",
    "res = []\n",
    "\n",
    "for i in range(len(rgrid)-1):\n",
    "    \n",
    "    nx = np.where((radius > rgrid[i]) & (radius <= rgrid[i+1]))[0]\n",
    "    \n",
    "    res.append([rgrid[i], np.mean(vr[nx])])\n",
    "\n",
    "res = np.array(res)"
   ]
  },
  {
   "cell_type": "code",
   "execution_count": 33,
   "id": "61217167",
   "metadata": {},
   "outputs": [],
   "source": [
    "R = res[:, 0] * unitLength_in_cm\n",
    "vr = res[:, 1] * unitVelocity_in_cm_per_s"
   ]
  },
  {
   "cell_type": "code",
   "execution_count": 34,
   "id": "b4b586c9",
   "metadata": {},
   "outputs": [
    {
     "data": {
      "image/png": "[encoded data removed]",
      "text/plain": [
       "<Figure size 432x288 with 1 Axes>"
      ]
     },
     "metadata": {
      "needs_background": "light"
     },
     "output_type": "display_data"
    }
   ],
   "source": [
    "plt.scatter(np.log10(R), vr, s = 5, color = 'k');"
   ]
  },
  {
   "cell_type": "code",
   "execution_count": 35,
   "id": "fd9a0534",
   "metadata": {},
   "outputs": [
    {
     "data": {
      "image/png": "[encoded data removed]",
      "text/plain": [
       "<Figure size 432x288 with 1 Axes>"
      ]
     },
     "metadata": {
      "needs_background": "light"
     },
     "output_type": "display_data"
    }
   ],
   "source": [
    "plt.scatter(np.log10(R), vr, s = 5, color = 'k');"
   ]
  },
  {
   "cell_type": "code",
   "execution_count": null,
   "id": "230dbdbb",
   "metadata": {},
   "outputs": [],
   "source": []
  },
  {
   "cell_type": "code",
   "execution_count": null,
   "id": "5ae6966f",
   "metadata": {},
   "outputs": [],
   "source": []
  },
  {
   "cell_type": "code",
   "execution_count": null,
   "id": "9635a6c9",
   "metadata": {},
   "outputs": [],
   "source": []
  }
 ],
 "metadata": {
  "kernelspec": {
   "display_name": "Python 3 (ipykernel)",
   "language": "python",
   "name": "python3"
  },
  "language_info": {
   "codemirror_mode": {
    "name": "ipython",
    "version": 3
   },
   "file_extension": ".py",
   "mimetype": "text/x-python",
   "name": "python",
   "nbconvert_exporter": "python",
   "pygments_lexer": "ipython3",
   "version": "3.9.7"
  }
 },
 "nbformat": 4,
 "nbformat_minor": 5
}
