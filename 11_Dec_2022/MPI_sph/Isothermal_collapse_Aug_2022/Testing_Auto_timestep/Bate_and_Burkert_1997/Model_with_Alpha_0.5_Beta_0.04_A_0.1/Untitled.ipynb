{
 "cells": [
  {
   "cell_type": "code",
   "execution_count": 9,
   "id": "481fd0c7",
   "metadata": {},
   "outputs": [],
   "source": [
    "import h5py\n",
    "import numpy as np\n",
    "import matplotlib.pyplot as plt\n",
    "import pickle\n",
    "import glob"
   ]
  },
  {
   "cell_type": "code",
   "execution_count": 16,
   "id": "0b17cbac",
   "metadata": {},
   "outputs": [],
   "source": [
    "file = h5py.File('./output_a_0.5_B_0.04_Gag//snap_001.hdf5', 'r')\n",
    "\n",
    "v = file['PartType0']['Velocities']\n",
    "\n",
    "vv = (v[:, 0]**2 + v[:, 1]**2 + v[:, 2]**2)**0.5\n",
    "print(np.sort(vv))"
   ]
  },
  {
   "cell_type": "code",
   "execution_count": null,
   "id": "180761cf",
   "metadata": {},
   "outputs": [],
   "source": []
  },
  {
   "cell_type": "code",
   "execution_count": null,
   "id": "7a3c3eda",
   "metadata": {},
   "outputs": [],
   "source": []
  },
  {
   "cell_type": "code",
   "execution_count": 18,
   "id": "f78b16d5",
   "metadata": {},
   "outputs": [
    {
     "name": "stdout",
     "output_type": "stream",
     "text": [
      "[0.0063926  0.01108619 0.0133069  ... 0.490747   0.49183768 0.50080174]\n"
     ]
    }
   ],
   "source": [
    "j = 10\n",
    "\n",
    "filz = np.sort(glob.glob('./Outputs/*.pkl'))\n",
    "\n",
    "with open(filz[j], 'rb') as f:\n",
    "    data = pickle.load(f)\n",
    "\n",
    "r = data['pos']\n",
    "h = data['h']\n",
    "v = data['v']\n",
    "\n",
    "vv = (v[:, 0]**2 + v[:, 1]**2 + v[:, 2]**2)**0.5\n",
    "print(np.sort(vv))"
   ]
  },
  {
   "cell_type": "code",
   "execution_count": null,
   "id": "801cd903",
   "metadata": {},
   "outputs": [],
   "source": []
  }
 ],
 "metadata": {
  "kernelspec": {
   "display_name": "Python 3 (ipykernel)",
   "language": "python",
   "name": "python3"
  },
  "language_info": {
   "codemirror_mode": {
    "name": "ipython",
    "version": 3
   },
   "file_extension": ".py",
   "mimetype": "text/x-python",
   "name": "python",
   "nbconvert_exporter": "python",
   "pygments_lexer": "ipython3",
   "version": "3.9.7"
  }
 },
 "nbformat": 4,
 "nbformat_minor": 5
}
