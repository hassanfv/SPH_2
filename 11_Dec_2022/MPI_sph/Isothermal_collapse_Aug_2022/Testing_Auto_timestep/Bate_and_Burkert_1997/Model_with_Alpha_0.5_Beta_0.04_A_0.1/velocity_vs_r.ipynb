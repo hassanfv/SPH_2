{
 "cells": [
  {
   "cell_type": "code",
   "execution_count": 1,
   "id": "7688bd76",
   "metadata": {},
   "outputs": [],
   "source": [
    "import numpy as np\n",
    "import matplotlib.pyplot as plt\n",
    "import glob\n",
    "import pickle"
   ]
  },
  {
   "cell_type": "code",
   "execution_count": 2,
   "id": "d0209755",
   "metadata": {},
   "outputs": [
    {
     "name": "stdout",
     "output_type": "stream",
     "text": [
      "UnitDensity_in_cgs = 5.630894306601103e-18 g/cm^3\n",
      "unitVelocity_in_cm_per_s = 39103.2 cm/s\n"
     ]
    }
   ],
   "source": [
    "M_sun = 1.98992e+33 # gram\n",
    "UnitMass_in_g = 1.0 * M_sun       # !!!!!!!!!!!!!!!!!!!!!!!!! CHANGE !!!!!!!!!!!!!!!!!\n",
    "\n",
    "G = 6.6738e-8\n",
    "rgas = 7.07e16                                     # The initial radius of the cloud in cm\n",
    "rho0 = 1.35e-18                                   # The initial average density\n",
    "tff = np.sqrt(3*np.pi/(32*G*rho0))                # The free-fall time = 3.4e4 yr\n",
    "unitTime_in_s = tff                               # Scaling time to free-fall time\n",
    "unitLength_in_cm = rgas                           # Scaling distance to the initial cloud radius\n",
    "\n",
    "UnitDensity_in_cgs = UnitMass_in_g / unitLength_in_cm**3\n",
    "\n",
    "print(f'UnitDensity_in_cgs = {UnitDensity_in_cgs} g/cm^3')\n",
    "\n",
    "\n",
    "unitVelocity_in_cm_per_s = unitLength_in_cm / unitTime_in_s          # The internal velocity unit\n",
    "print(f'unitVelocity_in_cm_per_s = {round(unitVelocity_in_cm_per_s, 2)} cm/s')"
   ]
  },
  {
   "cell_type": "code",
   "execution_count": 5,
   "id": "b1f0b668",
   "metadata": {},
   "outputs": [],
   "source": [
    "j = 495\n",
    "\n",
    "filz = np.sort(glob.glob('./Outputs_a_0.5_B_0.04_mine_Exact_h/*.pkl'))"
   ]
  },
  {
   "cell_type": "code",
   "execution_count": 6,
   "id": "5707efaf",
   "metadata": {},
   "outputs": [
    {
     "name": "stdout",
     "output_type": "stream",
     "text": [
      "(16384, 3)\n",
      "h =  [0.00820846 0.00821633 0.00824644 ... 0.65324141 0.65656391 0.66602348]\n",
      "rho =  [9.59631762e-22 9.93873555e-22 1.00861438e-21 ... 1.01743043e-15\n",
      " 1.04967286e-15 1.04990452e-15]\n"
     ]
    }
   ],
   "source": [
    "with open(filz[j], 'rb') as f:\n",
    "    data = pickle.load(f)\n",
    "\n",
    "r = data['pos']\n",
    "h = data['h']\n",
    "v = data['v']\n",
    "print(r.shape)\n",
    "\n",
    "print('h = ', np.sort(h))\n",
    "\n",
    "x = r[:, 0]\n",
    "y = r[:, 1]\n",
    "z = r[:, 2]\n",
    "t = data['current_t']\n",
    "rho = data['rho']\n",
    "unitTime_in_kyr = data['unitTime_in_kyr']\n",
    "\n",
    "print('rho = ', np.sort(rho)*UnitDensity_in_cgs)"
   ]
  },
  {
   "cell_type": "markdown",
   "id": "25900233",
   "metadata": {},
   "source": [
    "## Selecting particles in a thin shell parallel to the x-y plane"
   ]
  },
  {
   "cell_type": "code",
   "execution_count": 7,
   "id": "a9eb4fdd",
   "metadata": {},
   "outputs": [
    {
     "name": "stdout",
     "output_type": "stream",
     "text": [
      "2013\n"
     ]
    }
   ],
   "source": [
    "delta = 0.02\n",
    "\n",
    "nz = np.where((z >= -delta) & (z <= delta))[0]\n",
    "print(len(nz))\n",
    "\n",
    "rx = x[nz]\n",
    "ry = y[nz]\n",
    "rz = z[nz]\n",
    "\n",
    "vt = v[nz]"
   ]
  },
  {
   "cell_type": "code",
   "execution_count": 8,
   "id": "c6a69eac",
   "metadata": {},
   "outputs": [
    {
     "data": {
      "text/plain": [
       "(-1.0, 1.0)"
      ]
     },
     "execution_count": 8,
     "metadata": {},
     "output_type": "execute_result"
    },
    {
     "data": {
      "image/png": "[encoded data removed]",
      "text/plain": [
       "<Figure size 432x288 with 1 Axes>"
      ]
     },
     "metadata": {
      "needs_background": "light"
     },
     "output_type": "display_data"
    }
   ],
   "source": [
    "plt.scatter(rx, rz, s = 0.1)\n",
    "plt.xlim(-1, 1)\n",
    "plt.ylim(-1, 1)"
   ]
  },
  {
   "cell_type": "code",
   "execution_count": 9,
   "id": "dc94716c",
   "metadata": {},
   "outputs": [],
   "source": [
    "radius = (rx*rx + ry*ry + rz*rz)**0.5\n",
    "\n",
    "vr = (vt[:, 0]*rx + vt[:, 1]*ry + vt[:, 2]*rz)/radius"
   ]
  },
  {
   "cell_type": "code",
   "execution_count": 10,
   "id": "6e509529",
   "metadata": {},
   "outputs": [
    {
     "data": {
      "text/plain": [
       "array([-0.73158777, -0.71079284, -0.68731694, ...,  1.16559386,\n",
       "        1.21073242,  1.41882032])"
      ]
     },
     "execution_count": 10,
     "metadata": {},
     "output_type": "execute_result"
    }
   ],
   "source": [
    "np.sort(vr)"
   ]
  },
  {
   "cell_type": "code",
   "execution_count": 11,
   "id": "a36c4165",
   "metadata": {},
   "outputs": [],
   "source": [
    "logR = np.log10(radius)\n",
    "rgrid = np.logspace(min(logR), max(logR), 40)"
   ]
  },
  {
   "cell_type": "code",
   "execution_count": 12,
   "id": "24960197",
   "metadata": {},
   "outputs": [
    {
     "name": "stderr",
     "output_type": "stream",
     "text": [
      "/home/pc/anaconda3/lib/python3.9/site-packages/numpy/core/fromnumeric.py:3419: RuntimeWarning: Mean of empty slice.\n",
      "  return _methods._mean(a, axis=axis, dtype=dtype,\n",
      "/home/pc/anaconda3/lib/python3.9/site-packages/numpy/core/_methods.py:188: RuntimeWarning: invalid value encountered in double_scalars\n",
      "  ret = ret.dtype.type(ret / rcount)\n"
     ]
    }
   ],
   "source": [
    "res = []\n",
    "\n",
    "for i in range(len(rgrid)-1):\n",
    "    \n",
    "    nx = np.where((radius > rgrid[i]) & (radius <= rgrid[i+1]))[0]\n",
    "    \n",
    "    res.append([rgrid[i], np.mean(vr[nx])])\n",
    "\n",
    "res = np.array(res)"
   ]
  },
  {
   "cell_type": "code",
   "execution_count": 13,
   "id": "dce83f30",
   "metadata": {},
   "outputs": [],
   "source": [
    "R = res[:, 0] * unitLength_in_cm\n",
    "vr = res[:, 1] * unitVelocity_in_cm_per_s"
   ]
  },
  {
   "cell_type": "code",
   "execution_count": null,
   "id": "dfec1351",
   "metadata": {},
   "outputs": [],
   "source": []
  },
  {
   "cell_type": "code",
   "execution_count": null,
   "id": "adc5d733",
   "metadata": {},
   "outputs": [],
   "source": []
  },
  {
   "cell_type": "code",
   "execution_count": 14,
   "id": "18e6154b",
   "metadata": {},
   "outputs": [
    {
     "data": {
      "image/png": "[encoded data removed]",
      "text/plain": [
       "<Figure size 432x288 with 1 Axes>"
      ]
     },
     "metadata": {
      "needs_background": "light"
     },
     "output_type": "display_data"
    }
   ],
   "source": [
    "plt.scatter(np.log10(R), vr, s = 5, color = 'k');"
   ]
  },
  {
   "cell_type": "code",
   "execution_count": 76,
   "id": "70ee922f",
   "metadata": {},
   "outputs": [
    {
     "data": {
      "image/png": "[encoded data removed]",
      "text/plain": [
       "<Figure size 432x288 with 1 Axes>"
      ]
     },
     "metadata": {
      "needs_background": "light"
     },
     "output_type": "display_data"
    }
   ],
   "source": [
    "plt.scatter(np.log10(R), vr, s = 5, color = 'k');"
   ]
  },
  {
   "cell_type": "code",
   "execution_count": null,
   "id": "3e886b4c",
   "metadata": {},
   "outputs": [],
   "source": []
  },
  {
   "cell_type": "code",
   "execution_count": 48,
   "id": "0da09e84",
   "metadata": {},
   "outputs": [
    {
     "data": {
      "image/png": "[encoded data removed]",
      "text/plain": [
       "<Figure size 432x288 with 1 Axes>"
      ]
     },
     "metadata": {
      "needs_background": "light"
     },
     "output_type": "display_data"
    }
   ],
   "source": [
    "plt.scatter(np.log10(R), vr, s = 5, color = 'k');"
   ]
  },
  {
   "cell_type": "code",
   "execution_count": 21,
   "id": "94a36c71",
   "metadata": {},
   "outputs": [
    {
     "data": {
      "image/png": "[encoded data removed]",
      "text/plain": [
       "<Figure size 432x288 with 1 Axes>"
      ]
     },
     "metadata": {
      "needs_background": "light"
     },
     "output_type": "display_data"
    }
   ],
   "source": [
    "plt.scatter(np.log10(R), vr, s = 5, color = 'k');"
   ]
  }
 ],
 "metadata": {
  "kernelspec": {
   "display_name": "Python 3 (ipykernel)",
   "language": "python",
   "name": "python3"
  },
  "language_info": {
   "codemirror_mode": {
    "name": "ipython",
    "version": 3
   },
   "file_extension": ".py",
   "mimetype": "text/x-python",
   "name": "python",
   "nbconvert_exporter": "python",
   "pygments_lexer": "ipython3",
   "version": "3.9.7"
  }
 },
 "nbformat": 4,
 "nbformat_minor": 5
}
