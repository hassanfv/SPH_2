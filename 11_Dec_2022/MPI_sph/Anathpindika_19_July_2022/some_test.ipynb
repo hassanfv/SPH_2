{
 "cells": [
  {
   "cell_type": "code",
   "execution_count": 22,
   "id": "7c72675d",
   "metadata": {},
   "outputs": [],
   "source": [
    "import numpy as np\n",
    "import matplotlib.pyplot as plt"
   ]
  },
  {
   "cell_type": "code",
   "execution_count": null,
   "id": "d071b743",
   "metadata": {},
   "outputs": [],
   "source": []
  },
  {
   "cell_type": "code",
   "execution_count": 14,
   "id": "d45429d0",
   "metadata": {},
   "outputs": [],
   "source": [
    "mH = 1.6726e-24 # gram\n",
    "kB = 1.3807e-16  # cm2 g s-2 K-1\n",
    "mH2 = 2.7 * mH\n",
    "const = kB/mH2"
   ]
  },
  {
   "cell_type": "code",
   "execution_count": 20,
   "id": "285d33b5",
   "metadata": {},
   "outputs": [
    {
     "name": "stdout",
     "output_type": "stream",
     "text": [
      "With c_0 = 0.406 km/s, Mach = 25 and t = 0.085 Myrs we have d = 0.883 pc\n"
     ]
    }
   ],
   "source": [
    "T_cld = 54\n",
    "\n",
    "c_0 = (const * T_cld)**0.5\n",
    "\n",
    "Myr_in_sec = 1e6 * 365.25 * 24 * 3600 # 1 Myrs in seconds !\n",
    "\n",
    "t = 0.085 * Myr_in_sec\n",
    "\n",
    "Mach = 25\n",
    "\n",
    "d = round((Mach * c_0 * t) / 3.086e18, 3) # distance moved in pc\n",
    "\n",
    "print(f'With c_0 = {round(c_0/1e5, 3)} km/s, Mach = {Mach} and t = {t/Myr_in_sec} Myrs we have d = {d} pc')"
   ]
  },
  {
   "cell_type": "code",
   "execution_count": null,
   "id": "6e648d23",
   "metadata": {},
   "outputs": [],
   "source": []
  },
  {
   "cell_type": "code",
   "execution_count": 23,
   "id": "81a985d2",
   "metadata": {},
   "outputs": [
    {
     "data": {
      "text/plain": [
       "(array([105.,  81.,  99., 107.,  90., 108., 100., 104., 102., 104.]),\n",
       " array([5.81020268e-04, 1.00481018e-01, 2.00381016e-01, 3.00281014e-01,\n",
       "        4.00181012e-01, 5.00081010e-01, 5.99981008e-01, 6.99881006e-01,\n",
       "        7.99781004e-01, 8.99681002e-01, 9.99581000e-01]),\n",
       " <BarContainer object of 10 artists>)"
      ]
     },
     "execution_count": 23,
     "metadata": {},
     "output_type": "execute_result"
    },
    {
     "data": {
      "image/png": "[encoded data removed]",
      "text/plain": [
       "<Figure size 432x288 with 1 Axes>"
      ]
     },
     "metadata": {
      "needs_background": "light"
     },
     "output_type": "display_data"
    }
   ],
   "source": [
    "x = [np.random.random() for i in range(1000)]\n",
    "\n",
    "plt.hist(x)"
   ]
  },
  {
   "cell_type": "code",
   "execution_count": null,
   "id": "0bf706e6",
   "metadata": {},
   "outputs": [],
   "source": []
  },
  {
   "cell_type": "code",
   "execution_count": 49,
   "id": "c36ebff9",
   "metadata": {},
   "outputs": [
    {
     "name": "stdout",
     "output_type": "stream",
     "text": [
      "With Mach = 25 and T1 = 170.0 K, the post-shock temperature is: Tps =  33351.8 K\n"
     ]
    }
   ],
   "source": [
    "M = 25 # Mach number\n",
    "gamma = 5./3.\n",
    "\n",
    "T1 = 170. # K\n",
    "\n",
    "\n",
    "coeff = ((gamma - 1.) * M**2 + 2.) * (2.*gamma*M**2 - (gamma - 1)) / (gamma + 1.)**2 / M**2\n",
    "\n",
    "T2 = coeff * T1\n",
    "\n",
    "print(f'With Mach = {M} and T1 = {T1} K, the post-shock temperature is: Tps =  {round(T2, 1)} K')"
   ]
  },
  {
   "cell_type": "code",
   "execution_count": null,
   "id": "7f4fea26",
   "metadata": {},
   "outputs": [],
   "source": []
  },
  {
   "cell_type": "markdown",
   "id": "f6acccca",
   "metadata": {},
   "source": [
    "## In case of strong shocks"
   ]
  },
  {
   "cell_type": "code",
   "execution_count": 50,
   "id": "4052e328",
   "metadata": {},
   "outputs": [
    {
     "name": "stdout",
     "output_type": "stream",
     "text": [
      "With Mach = 25 and T1 = 170.0 K, the post-shock temperature is: Tps =  16601.6 K\n"
     ]
    }
   ],
   "source": [
    "T2 = gamma * (gamma - 1.) / (gamma + 1.)**2 * T1 * M**2\n",
    "\n",
    "print(f'With Mach = {M} and T1 = {T1} K, the post-shock temperature is: Tps =  {round(T2, 1)} K')"
   ]
  },
  {
   "cell_type": "code",
   "execution_count": null,
   "id": "7aa67f59",
   "metadata": {},
   "outputs": [],
   "source": []
  },
  {
   "cell_type": "code",
   "execution_count": null,
   "id": "e29696db",
   "metadata": {},
   "outputs": [],
   "source": []
  },
  {
   "cell_type": "code",
   "execution_count": 30,
   "id": "dba35784",
   "metadata": {},
   "outputs": [
    {
     "data": {
      "text/plain": [
       "899.9999999999999"
      ]
     },
     "execution_count": 30,
     "metadata": {},
     "output_type": "execute_result"
    }
   ],
   "source": [
    "0.36/0.0004"
   ]
  },
  {
   "cell_type": "code",
   "execution_count": null,
   "id": "a1a5ec8a",
   "metadata": {},
   "outputs": [],
   "source": []
  }
 ],
 "metadata": {
  "kernelspec": {
   "display_name": "Python 3 (ipykernel)",
   "language": "python",
   "name": "python3"
  },
  "language_info": {
   "codemirror_mode": {
    "name": "ipython",
    "version": 3
   },
   "file_extension": ".py",
   "mimetype": "text/x-python",
   "name": "python",
   "nbconvert_exporter": "python",
   "pygments_lexer": "ipython3",
   "version": "3.9.7"
  }
 },
 "nbformat": 4,
 "nbformat_minor": 5
}
